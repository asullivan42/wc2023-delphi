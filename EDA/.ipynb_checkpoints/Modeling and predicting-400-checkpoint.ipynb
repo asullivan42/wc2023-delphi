{
 "cells": [
  {
   "cell_type": "code",
   "execution_count": 603,
   "id": "529023ad",
   "metadata": {},
   "outputs": [],
   "source": [
    "import pandas as pd\n",
    "import numpy as np\n",
    "import matplotlib.pyplot as plt\n",
    "import seaborn as sns\n",
    "from scipy.optimize import curve_fit\n",
    "import statsmodels.api as sm\n",
    "import warnings\n",
    "from sklearn.linear_model import LogisticRegression\n",
    "from sklearn.pipeline import Pipeline\n",
    "from sklearn.linear_model import LogisticRegression\n",
    "from sklearn.ensemble import RandomForestClassifier\n",
    "from sklearn.neighbors import KNeighborsClassifier\n",
    "from sklearn.model_selection import train_test_split\n",
    "from sklearn.metrics import accuracy_score\n",
    "from sklearn.preprocessing import StandardScaler\n",
    "from sklearn.metrics import classification_report,ConfusionMatrixDisplay,confusion_matrix\n",
    "import pickle\n",
    "from imblearn.over_sampling import SMOTE\n",
    "from imblearn.over_sampling import RandomOverSampler\n",
    "import itertools"
   ]
  },
  {
   "cell_type": "code",
   "execution_count": 466,
   "id": "0f90e442",
   "metadata": {},
   "outputs": [],
   "source": [
    "%matplotlib inline\n",
    "warnings.filterwarnings('ignore')"
   ]
  },
  {
   "cell_type": "code",
   "execution_count": 467,
   "id": "ce4b7efd",
   "metadata": {},
   "outputs": [],
   "source": [
    "sns.set()\n",
    "pd.set_option('display.max_columns', None)\n",
    "pd.set_option('display.max_rows', None)"
   ]
  },
  {
   "cell_type": "markdown",
   "id": "edfb8308",
   "metadata": {},
   "source": [
    "### 1. Data exploration and processing"
   ]
  },
  {
   "cell_type": "code",
   "execution_count": 468,
   "id": "773a1f77",
   "metadata": {},
   "outputs": [],
   "source": [
    "results = pd.read_csv('../Datasets/womens-international-results-master/results.csv', encoding='latin-1')"
   ]
  },
  {
   "cell_type": "code",
   "execution_count": 469,
   "id": "1b2e8bc5",
   "metadata": {},
   "outputs": [
    {
     "data": {
      "text/html": [
       "<div>\n",
       "<style scoped>\n",
       "    .dataframe tbody tr th:only-of-type {\n",
       "        vertical-align: middle;\n",
       "    }\n",
       "\n",
       "    .dataframe tbody tr th {\n",
       "        vertical-align: top;\n",
       "    }\n",
       "\n",
       "    .dataframe thead th {\n",
       "        text-align: right;\n",
       "    }\n",
       "</style>\n",
       "<table border=\"1\" class=\"dataframe\">\n",
       "  <thead>\n",
       "    <tr style=\"text-align: right;\">\n",
       "      <th></th>\n",
       "      <th>date</th>\n",
       "      <th>home_team</th>\n",
       "      <th>away_team</th>\n",
       "      <th>home_score</th>\n",
       "      <th>away_score</th>\n",
       "      <th>tournament</th>\n",
       "      <th>city</th>\n",
       "      <th>country/area</th>\n",
       "      <th>neutral</th>\n",
       "    </tr>\n",
       "  </thead>\n",
       "  <tbody>\n",
       "    <tr>\n",
       "      <th>0</th>\n",
       "      <td>11/1/1969</td>\n",
       "      <td>Italy</td>\n",
       "      <td>France</td>\n",
       "      <td>1</td>\n",
       "      <td>0</td>\n",
       "      <td>Euro</td>\n",
       "      <td>Novara</td>\n",
       "      <td>Italy</td>\n",
       "      <td>False</td>\n",
       "    </tr>\n",
       "    <tr>\n",
       "      <th>1</th>\n",
       "      <td>11/1/1969</td>\n",
       "      <td>Denmark</td>\n",
       "      <td>England</td>\n",
       "      <td>4</td>\n",
       "      <td>3</td>\n",
       "      <td>Euro</td>\n",
       "      <td>Aosta</td>\n",
       "      <td>Italy</td>\n",
       "      <td>True</td>\n",
       "    </tr>\n",
       "    <tr>\n",
       "      <th>2</th>\n",
       "      <td>11/2/1969</td>\n",
       "      <td>England</td>\n",
       "      <td>France</td>\n",
       "      <td>2</td>\n",
       "      <td>0</td>\n",
       "      <td>Euro</td>\n",
       "      <td>Turin</td>\n",
       "      <td>Italy</td>\n",
       "      <td>True</td>\n",
       "    </tr>\n",
       "    <tr>\n",
       "      <th>3</th>\n",
       "      <td>11/2/1969</td>\n",
       "      <td>Italy</td>\n",
       "      <td>Denmark</td>\n",
       "      <td>3</td>\n",
       "      <td>1</td>\n",
       "      <td>Euro</td>\n",
       "      <td>Turin</td>\n",
       "      <td>Italy</td>\n",
       "      <td>False</td>\n",
       "    </tr>\n",
       "    <tr>\n",
       "      <th>4</th>\n",
       "      <td>8/25/1975</td>\n",
       "      <td>Thailand</td>\n",
       "      <td>Australia</td>\n",
       "      <td>3</td>\n",
       "      <td>2</td>\n",
       "      <td>AFC Championship</td>\n",
       "      <td>Hong Kong</td>\n",
       "      <td>Hong Kong</td>\n",
       "      <td>True</td>\n",
       "    </tr>\n",
       "  </tbody>\n",
       "</table>\n",
       "</div>"
      ],
      "text/plain": [
       "        date home_team  away_team  home_score  away_score        tournament  \\\n",
       "0  11/1/1969     Italy     France           1           0              Euro   \n",
       "1  11/1/1969   Denmark    England           4           3              Euro   \n",
       "2  11/2/1969   England     France           2           0              Euro   \n",
       "3  11/2/1969     Italy    Denmark           3           1              Euro   \n",
       "4  8/25/1975  Thailand  Australia           3           2  AFC Championship   \n",
       "\n",
       "        city country/area  neutral  \n",
       "0     Novara        Italy    False  \n",
       "1      Aosta        Italy     True  \n",
       "2      Turin        Italy     True  \n",
       "3      Turin        Italy    False  \n",
       "4  Hong Kong    Hong Kong     True  "
      ]
     },
     "execution_count": 469,
     "metadata": {},
     "output_type": "execute_result"
    }
   ],
   "source": [
    "results.head()"
   ]
  },
  {
   "cell_type": "code",
   "execution_count": 470,
   "id": "ee457764",
   "metadata": {},
   "outputs": [
    {
     "data": {
      "text/plain": [
       "(4884, 9)"
      ]
     },
     "execution_count": 470,
     "metadata": {},
     "output_type": "execute_result"
    }
   ],
   "source": [
    "results.shape"
   ]
  },
  {
   "cell_type": "code",
   "execution_count": 471,
   "id": "1ff8684d",
   "metadata": {},
   "outputs": [
    {
     "data": {
      "text/plain": [
       "date            0\n",
       "home_team       0\n",
       "away_team       0\n",
       "home_score      0\n",
       "away_score      0\n",
       "tournament      0\n",
       "city            0\n",
       "country/area    0\n",
       "neutral         0\n",
       "dtype: int64"
      ]
     },
     "execution_count": 471,
     "metadata": {},
     "output_type": "execute_result"
    }
   ],
   "source": [
    "#there is no missing data in the dataset\n",
    "results.isna().sum()"
   ]
  },
  {
   "cell_type": "code",
   "execution_count": 472,
   "id": "c6f4743f",
   "metadata": {},
   "outputs": [
    {
     "data": {
      "text/plain": [
       "date            object\n",
       "home_team       object\n",
       "away_team       object\n",
       "home_score       int64\n",
       "away_score       int64\n",
       "tournament      object\n",
       "city            object\n",
       "country/area    object\n",
       "neutral           bool\n",
       "dtype: object"
      ]
     },
     "execution_count": 472,
     "metadata": {},
     "output_type": "execute_result"
    }
   ],
   "source": [
    "results.dtypes"
   ]
  },
  {
   "cell_type": "code",
   "execution_count": 473,
   "id": "f0abeb48",
   "metadata": {},
   "outputs": [],
   "source": [
    "#transform 'date' column to integer which shows only the year\n",
    "results['date'] = pd.to_datetime(results['date'])\n",
    "results['date_Y'] = results['date'].dt.to_period('Y')\n",
    "results['date_Y'] = results['date_Y'].astype('str').astype('int')"
   ]
  },
  {
   "cell_type": "code",
   "execution_count": 474,
   "id": "c4c47d96",
   "metadata": {},
   "outputs": [
    {
     "data": {
      "text/plain": [
       "<Axes: >"
      ]
     },
     "execution_count": 474,
     "metadata": {},
     "output_type": "execute_result"
    },
    {
     "data": {
      "image/png": "[encoded data removed]",
      "text/plain": [
       "<Figure size 1000x600 with 1 Axes>"
      ]
     },
     "metadata": {},
     "output_type": "display_data"
    }
   ],
   "source": [
    "#game year ranges from 1969 to 2022, with more games in dataset during later years.\n",
    "results['date_Y'].value_counts().sort_index().plot(kind = 'bar', figsize = (10,6))"
   ]
  },
  {
   "cell_type": "code",
   "execution_count": 475,
   "id": "e0a85cc4",
   "metadata": {},
   "outputs": [],
   "source": [
    "#generate a set of all countries and count the total number\n",
    "country_set = set(results['home_team'])|set(results['away_team'])"
   ]
  },
  {
   "cell_type": "code",
   "execution_count": 476,
   "id": "b85903b9",
   "metadata": {},
   "outputs": [
    {
     "data": {
      "text/plain": [
       "203"
      ]
     },
     "execution_count": 476,
     "metadata": {},
     "output_type": "execute_result"
    }
   ],
   "source": [
    "len(country_set)"
   ]
  },
  {
   "cell_type": "code",
   "execution_count": 477,
   "id": "d19968b1",
   "metadata": {},
   "outputs": [],
   "source": [
    "#bring in the list of all countries qualified for WC2023 group stage\n",
    "qualified_list = ['New Zealand', 'Norway', 'Philippines', 'Switzerland','Australia', 'Republic of Ireland', 'Nigeria', 'Canada',\n",
    "                  'Spain', 'Costa Rica', 'Zambia', 'Japan','England', 'Haiti', 'Denmark', 'China PR','United States', \n",
    "                  'Vietnam', 'Netherlands', 'Portugal','France', 'Jamaica', 'Brazil', 'Panama','Sweden', 'South Africa', \n",
    "                  'Italy', 'Argentina','Germany', 'Morocco', 'Colombia', 'South Korea']"
   ]
  },
  {
   "cell_type": "code",
   "execution_count": 478,
   "id": "9baaab84",
   "metadata": {},
   "outputs": [],
   "source": [
    "missing = []"
   ]
  },
  {
   "cell_type": "code",
   "execution_count": 479,
   "id": "f2e7d14a",
   "metadata": {},
   "outputs": [],
   "source": [
    "#check if any qualified country was not in the dataset\n",
    "for country in qualified_list:\n",
    "    if country in country_set:\n",
    "        pass\n",
    "    else:\n",
    "        missing.append(country)"
   ]
  },
  {
   "cell_type": "code",
   "execution_count": 480,
   "id": "dee1ec9c",
   "metadata": {},
   "outputs": [
    {
     "data": {
      "text/plain": [
       "[]"
      ]
     },
     "execution_count": 480,
     "metadata": {},
     "output_type": "execute_result"
    }
   ],
   "source": [
    "missing"
   ]
  },
  {
   "cell_type": "code",
   "execution_count": 481,
   "id": "01c76785",
   "metadata": {},
   "outputs": [],
   "source": [
    "#check the frequency of each qualified country in the dataset\n",
    "qualified_frequency = pd.DataFrame()\n",
    "qualified_frequency['Country'] = qualified_list\n",
    "qualified_frequency['Frequency'] = qualified_frequency['Country'].apply(\n",
    "    lambda x: results['home_team'].value_counts()[x]+results['away_team'].value_counts()[x])"
   ]
  },
  {
   "cell_type": "code",
   "execution_count": 482,
   "id": "f24d699e",
   "metadata": {},
   "outputs": [
    {
     "data": {
      "text/html": [
       "<div>\n",
       "<style scoped>\n",
       "    .dataframe tbody tr th:only-of-type {\n",
       "        vertical-align: middle;\n",
       "    }\n",
       "\n",
       "    .dataframe tbody tr th {\n",
       "        vertical-align: top;\n",
       "    }\n",
       "\n",
       "    .dataframe thead th {\n",
       "        text-align: right;\n",
       "    }\n",
       "</style>\n",
       "<table border=\"1\" class=\"dataframe\">\n",
       "  <thead>\n",
       "    <tr style=\"text-align: right;\">\n",
       "      <th></th>\n",
       "      <th>0</th>\n",
       "      <th>1</th>\n",
       "      <th>2</th>\n",
       "      <th>3</th>\n",
       "      <th>4</th>\n",
       "      <th>5</th>\n",
       "      <th>6</th>\n",
       "      <th>7</th>\n",
       "      <th>8</th>\n",
       "      <th>9</th>\n",
       "      <th>10</th>\n",
       "      <th>11</th>\n",
       "      <th>12</th>\n",
       "      <th>13</th>\n",
       "      <th>14</th>\n",
       "      <th>15</th>\n",
       "      <th>16</th>\n",
       "      <th>17</th>\n",
       "      <th>18</th>\n",
       "      <th>19</th>\n",
       "      <th>20</th>\n",
       "      <th>21</th>\n",
       "      <th>22</th>\n",
       "      <th>23</th>\n",
       "      <th>24</th>\n",
       "      <th>25</th>\n",
       "      <th>26</th>\n",
       "      <th>27</th>\n",
       "      <th>28</th>\n",
       "      <th>29</th>\n",
       "      <th>30</th>\n",
       "      <th>31</th>\n",
       "    </tr>\n",
       "  </thead>\n",
       "  <tbody>\n",
       "    <tr>\n",
       "      <th>Country</th>\n",
       "      <td>New Zealand</td>\n",
       "      <td>Norway</td>\n",
       "      <td>Philippines</td>\n",
       "      <td>Switzerland</td>\n",
       "      <td>Australia</td>\n",
       "      <td>Republic of Ireland</td>\n",
       "      <td>Nigeria</td>\n",
       "      <td>Canada</td>\n",
       "      <td>Spain</td>\n",
       "      <td>Costa Rica</td>\n",
       "      <td>Zambia</td>\n",
       "      <td>Japan</td>\n",
       "      <td>England</td>\n",
       "      <td>Haiti</td>\n",
       "      <td>Denmark</td>\n",
       "      <td>China PR</td>\n",
       "      <td>United States</td>\n",
       "      <td>Vietnam</td>\n",
       "      <td>Netherlands</td>\n",
       "      <td>Portugal</td>\n",
       "      <td>France</td>\n",
       "      <td>Jamaica</td>\n",
       "      <td>Brazil</td>\n",
       "      <td>Panama</td>\n",
       "      <td>Sweden</td>\n",
       "      <td>South Africa</td>\n",
       "      <td>Italy</td>\n",
       "      <td>Argentina</td>\n",
       "      <td>Germany</td>\n",
       "      <td>Morocco</td>\n",
       "      <td>Colombia</td>\n",
       "      <td>South Korea</td>\n",
       "    </tr>\n",
       "    <tr>\n",
       "      <th>Frequency</th>\n",
       "      <td>125</td>\n",
       "      <td>319</td>\n",
       "      <td>54</td>\n",
       "      <td>156</td>\n",
       "      <td>130</td>\n",
       "      <td>129</td>\n",
       "      <td>124</td>\n",
       "      <td>173</td>\n",
       "      <td>138</td>\n",
       "      <td>60</td>\n",
       "      <td>32</td>\n",
       "      <td>182</td>\n",
       "      <td>209</td>\n",
       "      <td>40</td>\n",
       "      <td>271</td>\n",
       "      <td>286</td>\n",
       "      <td>381</td>\n",
       "      <td>56</td>\n",
       "      <td>193</td>\n",
       "      <td>195</td>\n",
       "      <td>212</td>\n",
       "      <td>40</td>\n",
       "      <td>138</td>\n",
       "      <td>24</td>\n",
       "      <td>316</td>\n",
       "      <td>114</td>\n",
       "      <td>226</td>\n",
       "      <td>56</td>\n",
       "      <td>288</td>\n",
       "      <td>24</td>\n",
       "      <td>47</td>\n",
       "      <td>125</td>\n",
       "    </tr>\n",
       "  </tbody>\n",
       "</table>\n",
       "</div>"
      ],
      "text/plain": [
       "                    0       1            2            3          4   \\\n",
       "Country    New Zealand  Norway  Philippines  Switzerland  Australia   \n",
       "Frequency          125     319           54          156        130   \n",
       "\n",
       "                            5        6       7      8           9       10  \\\n",
       "Country    Republic of Ireland  Nigeria  Canada  Spain  Costa Rica  Zambia   \n",
       "Frequency                  129      124     173    138          60      32   \n",
       "\n",
       "              11       12     13       14        15             16       17  \\\n",
       "Country    Japan  England  Haiti  Denmark  China PR  United States  Vietnam   \n",
       "Frequency    182      209     40      271       286            381       56   \n",
       "\n",
       "                    18        19      20       21      22      23      24  \\\n",
       "Country    Netherlands  Portugal  France  Jamaica  Brazil  Panama  Sweden   \n",
       "Frequency          193       195     212       40     138      24     316   \n",
       "\n",
       "                     25     26         27       28       29        30  \\\n",
       "Country    South Africa  Italy  Argentina  Germany  Morocco  Colombia   \n",
       "Frequency           114    226         56      288       24        47   \n",
       "\n",
       "                    31  \n",
       "Country    South Korea  \n",
       "Frequency          125  "
      ]
     },
     "execution_count": 482,
     "metadata": {},
     "output_type": "execute_result"
    }
   ],
   "source": [
    "qualified_frequency.T"
   ]
  },
  {
   "cell_type": "code",
   "execution_count": 483,
   "id": "57bce721",
   "metadata": {},
   "outputs": [
    {
     "data": {
      "text/plain": [
       "False    2718\n",
       "True     2166\n",
       "Name: neutral, dtype: int64"
      ]
     },
     "execution_count": 483,
     "metadata": {},
     "output_type": "execute_result"
    }
   ],
   "source": [
    "#check how many games were played on home field (neutral = False)\n",
    "results.neutral.value_counts()"
   ]
  },
  {
   "cell_type": "code",
   "execution_count": 484,
   "id": "d863a5a4",
   "metadata": {},
   "outputs": [
    {
     "data": {
      "text/plain": [
       "array(['Euro', 'AFC Championship', 'UEFA Euro qualification',\n",
       "       'OFC Championship', 'UEFA Euro', 'African Championship',\n",
       "       'CONCACAF Championship', 'Copa América', 'FIFA World Cup',\n",
       "       'CONCACAF Invitational Tournament', 'Algarve Cup', 'Olympic Games',\n",
       "       'Four Nations Tournament', 'African Championship qualification',\n",
       "       'CONCACAF Gold Cup qualification', 'CONCACAF Gold Cup',\n",
       "       'AFC Asian Cup qualification', 'AFC Asian Cup', 'Cyprus Cup',\n",
       "       'Olympic Games qualification', 'Friendly', 'SheBelieves Cup',\n",
       "       'FIFA World Cup qualification', 'Tournament of Nations',\n",
       "       'OFC Nations Cup qualification', 'African Cup of Nations',\n",
       "       'OFC Nations Cup', 'Tournoi de France',\n",
       "       \"Basque Country Women's Cup\",\n",
       "       'African Cup of Nations qualification'], dtype=object)"
      ]
     },
     "execution_count": 484,
     "metadata": {},
     "output_type": "execute_result"
    }
   ],
   "source": [
    "#check all the tournament names\n",
    "results.tournament.unique()"
   ]
  },
  {
   "cell_type": "code",
   "execution_count": 485,
   "id": "4678139e",
   "metadata": {},
   "outputs": [],
   "source": [
    "#select columns to use\n",
    "results_new = results[['date_Y','home_team','away_team','home_score','away_score','tournament', 'neutral']]"
   ]
  },
  {
   "cell_type": "markdown",
   "id": "20c3775b",
   "metadata": {},
   "source": [
    "### 2. Build Elo ranking system"
   ]
  },
  {
   "cell_type": "code",
   "execution_count": 486,
   "id": "0ffd4477",
   "metadata": {},
   "outputs": [],
   "source": [
    "Group_1 = ['FIFA World Cup', 'Euro']\n",
    "Group_2 = ['UEFA Euro qualification', 'FIFA World Cup qualification']\n",
    "Group_3 = ['OFC Championship','African Championship', 'CONCACAF Championship', 'AFC Asian Cup']"
   ]
  },
  {
   "cell_type": "code",
   "execution_count": 487,
   "id": "bd999cf0",
   "metadata": {},
   "outputs": [],
   "source": [
    "def k_value(tournament):\n",
    "    '''get k value based on which group the tournament is in.\n",
    "    Arg: tournament(str)\n",
    "    '''\n",
    "\n",
    "    if tournament in Group_1:\n",
    "        k=60\n",
    "    elif tournament in Group_2:\n",
    "        k=40\n",
    "    elif tournament in Group_3:\n",
    "        k=35\n",
    "    else:\n",
    "        k=5\n",
    "    return k"
   ]
  },
  {
   "cell_type": "code",
   "execution_count": 488,
   "id": "4544fe52",
   "metadata": {},
   "outputs": [],
   "source": [
    "def expected_result(elo_h, elo_a):\n",
    "    '''compute expected result.\n",
    "    Args:\n",
    "        elo_h(float): home team's elo score before the match.\n",
    "        elo_a(float): away team's elo score before the match.\n",
    "    Returns: [float, float]\n",
    "    '''\n",
    "    dr=elo_h-elo_a\n",
    "    we=(1/(10**(-dr/400)+1))\n",
    "    return np.round(we,3),1-np.round(we,3)"
   ]
  },
  {
   "cell_type": "code",
   "execution_count": 489,
   "id": "242dd288",
   "metadata": {},
   "outputs": [],
   "source": [
    "def actual_result(home_score,away_score):\n",
    "    '''get actual result.\n",
    "    Args: \n",
    "        home_score(int): number of goals home team scored.\n",
    "        away_score(int): number of goals away team scored.\n",
    "    Returns: [float, float]\n",
    "    '''\n",
    "    if home_score>away_score:\n",
    "        w_h=1\n",
    "        w_a=0\n",
    "    elif home_score==away_score:\n",
    "        w_h=0.5\n",
    "        w_a=0.5\n",
    "    elif home_score<away_score:\n",
    "        w_h=0\n",
    "        w_a=1\n",
    "    return w_h,w_a"
   ]
  },
  {
   "cell_type": "code",
   "execution_count": 490,
   "id": "3cf418c7",
   "metadata": {},
   "outputs": [],
   "source": [
    "def calculate_elo(elo_h_t,elo_h,elo_a,home_score,away_score,tournament):\n",
    "    '''update elo score based on game result.\n",
    "    Args: \n",
    "        elo_h_t(float): temporary home team elo score\n",
    "        elo_h(float): home team elo score before game\n",
    "        elo_a(float): away team elo score before game\n",
    "        home_score(float): computed actural result for home team\n",
    "        away_score(float): computed actural result for away team\n",
    "        tournament(str): tournament name\n",
    "    Returns: float, float\n",
    "    '''\n",
    "    k=k_value(tournament)\n",
    "    w_h,w_a=actual_result(home_score,away_score)\n",
    "    we_h,we_a=expected_result(elo_h_t,elo_a)\n",
    "\n",
    "    elo_h_n=elo_h+k*(w_h-we_h)\n",
    "    elo_a_n=elo_a+k*(w_a-we_a)\n",
    "\n",
    "    return elo_h_n,elo_a_n"
   ]
  },
  {
   "cell_type": "code",
   "execution_count": 491,
   "id": "7f95db04",
   "metadata": {},
   "outputs": [],
   "source": [
    "def df_add_elo(df, dictionary):\n",
    "    '''add columns of both teams' elo scores before the game and create \n",
    "    a dictionary to update the most recent elo rates of all teams.\n",
    "    Args: \n",
    "        df(variable): dataframe to add columns on\n",
    "        dictionary(variable): empty dictionary to store updated elo scores\n",
    "    '''\n",
    "    \n",
    "    for idx, row in df.iterrows():\n",
    "\n",
    "        home = row['home_team']\n",
    "        away = row['away_team']\n",
    "        home_score = row['home_score']\n",
    "        away_score = row['away_score']\n",
    "        tournament = row['tournament']\n",
    "        neutral = row['neutral']\n",
    "\n",
    "        #encode win, lose, tie only for games which both teams have updated elo (opposed to default)\n",
    "        if home in dictionary.keys() and away in dictionary.keys():\n",
    "            if home_score>away_score:\n",
    "                df.loc[idx, 'home_win'] = 1\n",
    "            elif home_score==away_score:\n",
    "                df.loc[idx, 'home_win'] = 0.5\n",
    "            elif home_score<away_score:\n",
    "                df.loc[idx, 'home_win'] = 0            \n",
    "\n",
    "        #set default elo as 1300        \n",
    "        if home not in dictionary.keys():\n",
    "            dictionary[home] = 1300\n",
    "        if away not in dictionary.keys():\n",
    "            dictionary[away] = 1300\n",
    "\n",
    "        elo_h = dictionary[home]\n",
    "        elo_a = dictionary[away]\n",
    "        \n",
    "        #if the home team plays on home field, add 100 to the before game elo and assign it to a temporary elo     \n",
    "        if neutral == False:\n",
    "            elo_h_t = dictionary[home] +100\n",
    "        else:\n",
    "            elo_h_t = dictionary[home]\n",
    "        \n",
    "        #update elo for both teams based on game result\n",
    "        elo_h_n, elo_a_n = calculate_elo(elo_h_t, elo_h, elo_a, home_score, away_score, tournament)\n",
    "\n",
    "        #add before game elo as columns to dataframe\n",
    "        df.loc[idx, 'elo_h'] = elo_h_t\n",
    "        df.loc[idx, 'elo_a'] = elo_a   \n",
    "        \n",
    "        #update elo dictionary\n",
    "        dictionary[home] = elo_h_n\n",
    "        dictionary[away] = elo_a_n\n",
    "        "
   ]
  },
  {
   "cell_type": "markdown",
   "id": "56f2b2f2",
   "metadata": {},
   "source": [
    "### 3. subset datasets and check logistic regression performance"
   ]
  },
  {
   "cell_type": "code",
   "execution_count": 492,
   "id": "8999c294",
   "metadata": {},
   "outputs": [],
   "source": [
    "world_cup = results_new.query('tournament == \"FIFA World Cup\"')"
   ]
  },
  {
   "cell_type": "code",
   "execution_count": 493,
   "id": "10c3422b",
   "metadata": {},
   "outputs": [
    {
     "data": {
      "text/plain": [
       "array([1991, 1995, 1999, 2003, 2007, 2011, 2015, 2019])"
      ]
     },
     "execution_count": 493,
     "metadata": {},
     "output_type": "execute_result"
    }
   ],
   "source": [
    "world_cup.date_Y.unique()"
   ]
  },
  {
   "cell_type": "markdown",
   "id": "6f2dd7d5",
   "metadata": {},
   "source": [
    "- subset all data into three time ranges: 1969-1999, 2000-2011, 2012-2020\n",
    "- subset two more time ranges which both end at 2020: 2000-2020, 2007-2020"
   ]
  },
  {
   "cell_type": "code",
   "execution_count": 494,
   "id": "872a81d0",
   "metadata": {},
   "outputs": [
    {
     "data": {
      "text/plain": [
       "(1159, 7)"
      ]
     },
     "execution_count": 494,
     "metadata": {},
     "output_type": "execute_result"
    }
   ],
   "source": [
    "#subset games before year 2000(31 years)\n",
    "df_1999 = results_new[(results_new['date_Y'] <= 1999)]\n",
    "df_1999.shape"
   ]
  },
  {
   "cell_type": "code",
   "execution_count": 495,
   "id": "fcc6ddea",
   "metadata": {},
   "outputs": [
    {
     "data": {
      "text/plain": [
       "(1677, 7)"
      ]
     },
     "execution_count": 495,
     "metadata": {},
     "output_type": "execute_result"
    }
   ],
   "source": [
    "#subset games between year 2000 and year 2012 (12 years)\n",
    "df_1999_2011 = results_new[(results_new['date_Y'] <= 2011) & (results_new['date_Y'] > 1999)].reset_index(drop = True)\n",
    "df_1999_2011.shape"
   ]
  },
  {
   "cell_type": "code",
   "execution_count": 496,
   "id": "d3879513",
   "metadata": {},
   "outputs": [
    {
     "data": {
      "text/plain": [
       "(1726, 7)"
      ]
     },
     "execution_count": 496,
     "metadata": {},
     "output_type": "execute_result"
    }
   ],
   "source": [
    "#subset games between year 2012 and year 2020 (8 years)\n",
    "df_2011_2019 = results_new[(results_new['date_Y'] <= 2019) & (results_new['date_Y'] > 2011)].reset_index(drop = True)\n",
    "df_2011_2019.shape"
   ]
  },
  {
   "cell_type": "code",
   "execution_count": 497,
   "id": "f16426c6",
   "metadata": {},
   "outputs": [
    {
     "data": {
      "text/plain": [
       "(2370, 7)"
      ]
     },
     "execution_count": 497,
     "metadata": {},
     "output_type": "execute_result"
    }
   ],
   "source": [
    "#subset games between year 2008 and year 2020 (12 years)\n",
    "df_2007_2019 = results_new[(results_new['date_Y'] <= 2019) & (results_new['date_Y'] > 2007)].reset_index(drop = True)\n",
    "df_2007_2019.shape"
   ]
  },
  {
   "cell_type": "code",
   "execution_count": 498,
   "id": "70a3b96e",
   "metadata": {},
   "outputs": [
    {
     "data": {
      "text/plain": [
       "(3403, 7)"
      ]
     },
     "execution_count": 498,
     "metadata": {},
     "output_type": "execute_result"
    }
   ],
   "source": [
    "#subset games between year 2000 and year 2020 (20 years)\n",
    "df_1999_2019 = results_new[(results_new['date_Y'] <= 2019) & (results_new['date_Y'] > 1999)].reset_index(drop = True)\n",
    "df_1999_2019.shape"
   ]
  },
  {
   "cell_type": "markdown",
   "id": "5a128059",
   "metadata": {},
   "source": [
    "- building features"
   ]
  },
  {
   "cell_type": "code",
   "execution_count": 499,
   "id": "c2ba1dfc",
   "metadata": {},
   "outputs": [],
   "source": [
    "def count_frequency(x, col1, col2, idx):\n",
    "    '''count how many times a country appeared in the rows above, as either home team or away team'''\n",
    "    frequency1 = col1[:idx].eq(x).sum()\n",
    "    frequency2 = col2[:idx].eq(x).sum()\n",
    "    return frequency1 + frequency2"
   ]
  },
  {
   "cell_type": "code",
   "execution_count": 500,
   "id": "26a39f61",
   "metadata": {},
   "outputs": [],
   "source": [
    "def add_expereience(df):\n",
    "    '''add columns to indicate each team's experience before the game'''\n",
    "    df['home_experience'] = df.apply(\n",
    "        lambda row: count_frequency(row['home_team'], df['home_team'], df['away_team'], row.name), axis=1)\n",
    "    df['away_experience'] = df.apply(\n",
    "        lambda row: count_frequency(row['away_team'], df['home_team'], df['away_team'], row.name), axis=1)"
   ]
  },
  {
   "cell_type": "code",
   "execution_count": 501,
   "id": "965ed24a",
   "metadata": {},
   "outputs": [],
   "source": [
    "def plot_high_low_elo(df, elo_median):\n",
    "    '''plot to see if the relation between game result and \n",
    "    difference of elo scores has same pattern in high elo games and low elo games\n",
    "    Args: \n",
    "    df(variable): dataframe to be ploted\n",
    "    elo_median(int): median of elo score (avg between elo_h and elo_a)\n",
    "    '''\n",
    "    \n",
    "    subset_below = df[(df['elo_h'] < elo_median) & (df['elo_a'] < elo_median)]\n",
    "    subset_above = df[((df['elo_h'] > elo_median) & (df['elo_a'] > elo_median))]\n",
    "\n",
    "    # Create two separate plots\n",
    "    fig, (ax1, ax2) = plt.subplots(2, 1, figsize=(12, 6))\n",
    "\n",
    "    # Define the logistic function\n",
    "    def logistic_function(x, L, k, x0):\n",
    "        return L / (1 + np.exp(-k * (x - x0)))\n",
    "\n",
    "    # Plot for elo_h < median\n",
    "    scatter1 = ax1.scatter(subset_below['elo_diff'], subset_below['home_win'], s=4)\n",
    "    ax1.set_xlabel('Elo Difference (elo_h - elo_a)')\n",
    "    ax1.set_ylabel('home_win')\n",
    "    ax1.set_title('Elo < '+ str(elo_median))\n",
    "\n",
    "    # Fit logistic regression curve for elo_h < median\n",
    "    x1 = subset_below['elo_diff']\n",
    "    y1 = subset_below['home_win']\n",
    "    p0_1 = [1, 1, 0]\n",
    "    popt1, pcov1 = curve_fit(logistic_function, x1, y1, p0=p0_1, maxfev=20000)\n",
    "    x_range1 = np.linspace(min(x1), max(x1), 100)\n",
    "    ax1.plot(x_range1, logistic_function(x_range1, *popt1), color='red')\n",
    "\n",
    "    # Plot for elo_h > median\n",
    "    scatter2 = ax2.scatter(subset_above['elo_diff'], subset_above['home_win'], s=4)\n",
    "    ax2.set_xlabel('Elo Difference (elo_h - elo_a)')\n",
    "    ax2.set_ylabel('home_win')\n",
    "    ax2.set_title('Elo > '+ str(elo_median))\n",
    "\n",
    "    # Fit logistic regression curve for elo_h > median\n",
    "    x2 = subset_above['elo_diff']\n",
    "    y2 = subset_above['home_win']\n",
    "    p0_2 = [1, 1, 0]\n",
    "    popt2, pcov2 = curve_fit(logistic_function, x2, y2, p0=p0_2, maxfev=20000)\n",
    "    x_range2 = np.linspace(min(x2), max(x2), 100)\n",
    "    ax2.plot(x_range2, logistic_function(x_range2, *popt2), color='red')\n",
    "\n",
    "    # Adjust spacing between subplots\n",
    "    plt.tight_layout()\n",
    "\n",
    "    # Display the plots\n",
    "    plt.show()    "
   ]
  },
  {
   "cell_type": "markdown",
   "id": "6d55fddb",
   "metadata": {},
   "source": [
    "- plot logistic regression to see if the relation between game result and difference of elo scores has same pattern in high elo games and low elo games"
   ]
  },
  {
   "cell_type": "code",
   "execution_count": 502,
   "id": "28dc83ca",
   "metadata": {},
   "outputs": [
    {
     "data": {
      "text/html": [
       "<div>\n",
       "<style scoped>\n",
       "    .dataframe tbody tr th:only-of-type {\n",
       "        vertical-align: middle;\n",
       "    }\n",
       "\n",
       "    .dataframe tbody tr th {\n",
       "        vertical-align: top;\n",
       "    }\n",
       "\n",
       "    .dataframe thead th {\n",
       "        text-align: right;\n",
       "    }\n",
       "</style>\n",
       "<table border=\"1\" class=\"dataframe\">\n",
       "  <thead>\n",
       "    <tr style=\"text-align: right;\">\n",
       "      <th></th>\n",
       "      <th>date_Y</th>\n",
       "      <th>home_score</th>\n",
       "      <th>away_score</th>\n",
       "      <th>elo_h</th>\n",
       "      <th>elo_a</th>\n",
       "      <th>elo_diff</th>\n",
       "      <th>home_experience</th>\n",
       "      <th>away_experience</th>\n",
       "    </tr>\n",
       "  </thead>\n",
       "  <tbody>\n",
       "    <tr>\n",
       "      <th>count</th>\n",
       "      <td>1074.000000</td>\n",
       "      <td>1074.000000</td>\n",
       "      <td>1074.000000</td>\n",
       "      <td>1074.000000</td>\n",
       "      <td>1074.000000</td>\n",
       "      <td>1074.000000</td>\n",
       "      <td>1074.000000</td>\n",
       "      <td>1074.000000</td>\n",
       "    </tr>\n",
       "    <tr>\n",
       "      <th>mean</th>\n",
       "      <td>1992.332402</td>\n",
       "      <td>2.604283</td>\n",
       "      <td>1.376164</td>\n",
       "      <td>1422.822896</td>\n",
       "      <td>1342.149544</td>\n",
       "      <td>80.673352</td>\n",
       "      <td>26.093110</td>\n",
       "      <td>24.500000</td>\n",
       "    </tr>\n",
       "    <tr>\n",
       "      <th>std</th>\n",
       "      <td>5.657870</td>\n",
       "      <td>3.212978</td>\n",
       "      <td>1.963799</td>\n",
       "      <td>127.544741</td>\n",
       "      <td>113.027062</td>\n",
       "      <td>144.483840</td>\n",
       "      <td>23.571522</td>\n",
       "      <td>23.297751</td>\n",
       "    </tr>\n",
       "    <tr>\n",
       "      <th>min</th>\n",
       "      <td>1969.000000</td>\n",
       "      <td>0.000000</td>\n",
       "      <td>0.000000</td>\n",
       "      <td>1171.620000</td>\n",
       "      <td>1070.560000</td>\n",
       "      <td>-386.190000</td>\n",
       "      <td>1.000000</td>\n",
       "      <td>1.000000</td>\n",
       "    </tr>\n",
       "    <tr>\n",
       "      <th>25%</th>\n",
       "      <td>1989.000000</td>\n",
       "      <td>0.000000</td>\n",
       "      <td>0.000000</td>\n",
       "      <td>1324.696250</td>\n",
       "      <td>1275.120000</td>\n",
       "      <td>-1.431250</td>\n",
       "      <td>8.000000</td>\n",
       "      <td>6.000000</td>\n",
       "    </tr>\n",
       "    <tr>\n",
       "      <th>50%</th>\n",
       "      <td>1994.000000</td>\n",
       "      <td>2.000000</td>\n",
       "      <td>1.000000</td>\n",
       "      <td>1391.855000</td>\n",
       "      <td>1303.582500</td>\n",
       "      <td>69.847500</td>\n",
       "      <td>19.000000</td>\n",
       "      <td>16.000000</td>\n",
       "    </tr>\n",
       "    <tr>\n",
       "      <th>75%</th>\n",
       "      <td>1996.000000</td>\n",
       "      <td>3.000000</td>\n",
       "      <td>2.000000</td>\n",
       "      <td>1503.798750</td>\n",
       "      <td>1409.688750</td>\n",
       "      <td>166.753750</td>\n",
       "      <td>37.000000</td>\n",
       "      <td>35.750000</td>\n",
       "    </tr>\n",
       "    <tr>\n",
       "      <th>max</th>\n",
       "      <td>1999.000000</td>\n",
       "      <td>21.000000</td>\n",
       "      <td>12.000000</td>\n",
       "      <td>1850.080000</td>\n",
       "      <td>1745.880000</td>\n",
       "      <td>567.495000</td>\n",
       "      <td>112.000000</td>\n",
       "      <td>113.000000</td>\n",
       "    </tr>\n",
       "  </tbody>\n",
       "</table>\n",
       "</div>"
      ],
      "text/plain": [
       "            date_Y   home_score   away_score        elo_h        elo_a  \\\n",
       "count  1074.000000  1074.000000  1074.000000  1074.000000  1074.000000   \n",
       "mean   1992.332402     2.604283     1.376164  1422.822896  1342.149544   \n",
       "std       5.657870     3.212978     1.963799   127.544741   113.027062   \n",
       "min    1969.000000     0.000000     0.000000  1171.620000  1070.560000   \n",
       "25%    1989.000000     0.000000     0.000000  1324.696250  1275.120000   \n",
       "50%    1994.000000     2.000000     1.000000  1391.855000  1303.582500   \n",
       "75%    1996.000000     3.000000     2.000000  1503.798750  1409.688750   \n",
       "max    1999.000000    21.000000    12.000000  1850.080000  1745.880000   \n",
       "\n",
       "          elo_diff  home_experience  away_experience  \n",
       "count  1074.000000      1074.000000      1074.000000  \n",
       "mean     80.673352        26.093110        24.500000  \n",
       "std     144.483840        23.571522        23.297751  \n",
       "min    -386.190000         1.000000         1.000000  \n",
       "25%      -1.431250         8.000000         6.000000  \n",
       "50%      69.847500        19.000000        16.000000  \n",
       "75%     166.753750        37.000000        35.750000  \n",
       "max     567.495000       112.000000       113.000000  "
      ]
     },
     "execution_count": 502,
     "metadata": {},
     "output_type": "execute_result"
    }
   ],
   "source": [
    "#prepare df_1999 for regression\n",
    "elo_1999 = {}\n",
    "df_add_elo(df_1999, elo_1999)\n",
    "\n",
    "df_1999['elo_diff'] = df_1999['elo_h'] - df_1999['elo_a']\n",
    "add_expereience(df_1999)\n",
    "\n",
    "df_1999_new = df_1999.dropna()\n",
    "df_1999_new['home_win'] = df_1999_new['home_win'].astype('category')\n",
    "df_1999_new.describe()"
   ]
  },
  {
   "cell_type": "code",
   "execution_count": 503,
   "id": "4f1032fc",
   "metadata": {},
   "outputs": [
    {
     "data": {
      "image/png": "[encoded data removed]",
      "text/plain": [
       "<Figure size 1200x600 with 2 Axes>"
      ]
     },
     "metadata": {},
     "output_type": "display_data"
    }
   ],
   "source": [
    "plot_high_low_elo(df_1999_new, 1308)"
   ]
  },
  {
   "cell_type": "code",
   "execution_count": 504,
   "id": "5577b4d4",
   "metadata": {},
   "outputs": [
    {
     "data": {
      "text/html": [
       "<div>\n",
       "<style scoped>\n",
       "    .dataframe tbody tr th:only-of-type {\n",
       "        vertical-align: middle;\n",
       "    }\n",
       "\n",
       "    .dataframe tbody tr th {\n",
       "        vertical-align: top;\n",
       "    }\n",
       "\n",
       "    .dataframe thead th {\n",
       "        text-align: right;\n",
       "    }\n",
       "</style>\n",
       "<table border=\"1\" class=\"dataframe\">\n",
       "  <thead>\n",
       "    <tr style=\"text-align: right;\">\n",
       "      <th></th>\n",
       "      <th>date_Y</th>\n",
       "      <th>home_score</th>\n",
       "      <th>away_score</th>\n",
       "      <th>elo_h</th>\n",
       "      <th>elo_a</th>\n",
       "      <th>elo_diff</th>\n",
       "      <th>home_experience</th>\n",
       "      <th>away_experience</th>\n",
       "    </tr>\n",
       "  </thead>\n",
       "  <tbody>\n",
       "    <tr>\n",
       "      <th>count</th>\n",
       "      <td>1556.000000</td>\n",
       "      <td>1556.000000</td>\n",
       "      <td>1556.000000</td>\n",
       "      <td>1556.000000</td>\n",
       "      <td>1556.000000</td>\n",
       "      <td>1556.000000</td>\n",
       "      <td>1556.000000</td>\n",
       "      <td>1556.000000</td>\n",
       "    </tr>\n",
       "    <tr>\n",
       "      <th>mean</th>\n",
       "      <td>2006.156170</td>\n",
       "      <td>2.173522</td>\n",
       "      <td>1.427378</td>\n",
       "      <td>1393.421385</td>\n",
       "      <td>1338.004383</td>\n",
       "      <td>55.417002</td>\n",
       "      <td>27.901028</td>\n",
       "      <td>24.728792</td>\n",
       "    </tr>\n",
       "    <tr>\n",
       "      <th>std</th>\n",
       "      <td>3.380581</td>\n",
       "      <td>2.422981</td>\n",
       "      <td>1.912355</td>\n",
       "      <td>96.469569</td>\n",
       "      <td>91.643338</td>\n",
       "      <td>115.325617</td>\n",
       "      <td>27.444381</td>\n",
       "      <td>25.552613</td>\n",
       "    </tr>\n",
       "    <tr>\n",
       "      <th>min</th>\n",
       "      <td>2000.000000</td>\n",
       "      <td>0.000000</td>\n",
       "      <td>0.000000</td>\n",
       "      <td>1156.520000</td>\n",
       "      <td>1122.375000</td>\n",
       "      <td>-334.155000</td>\n",
       "      <td>1.000000</td>\n",
       "      <td>1.000000</td>\n",
       "    </tr>\n",
       "    <tr>\n",
       "      <th>25%</th>\n",
       "      <td>2003.000000</td>\n",
       "      <td>0.000000</td>\n",
       "      <td>0.000000</td>\n",
       "      <td>1319.543750</td>\n",
       "      <td>1289.927500</td>\n",
       "      <td>-5.563750</td>\n",
       "      <td>7.000000</td>\n",
       "      <td>6.000000</td>\n",
       "    </tr>\n",
       "    <tr>\n",
       "      <th>50%</th>\n",
       "      <td>2006.000000</td>\n",
       "      <td>2.000000</td>\n",
       "      <td>1.000000</td>\n",
       "      <td>1385.522500</td>\n",
       "      <td>1308.247500</td>\n",
       "      <td>55.587500</td>\n",
       "      <td>18.000000</td>\n",
       "      <td>15.000000</td>\n",
       "    </tr>\n",
       "    <tr>\n",
       "      <th>75%</th>\n",
       "      <td>2009.000000</td>\n",
       "      <td>3.000000</td>\n",
       "      <td>2.000000</td>\n",
       "      <td>1440.888750</td>\n",
       "      <td>1369.657500</td>\n",
       "      <td>110.698750</td>\n",
       "      <td>39.000000</td>\n",
       "      <td>34.000000</td>\n",
       "    </tr>\n",
       "    <tr>\n",
       "      <th>max</th>\n",
       "      <td>2011.000000</td>\n",
       "      <td>24.000000</td>\n",
       "      <td>24.000000</td>\n",
       "      <td>1808.380000</td>\n",
       "      <td>1698.810000</td>\n",
       "      <td>595.315000</td>\n",
       "      <td>121.000000</td>\n",
       "      <td>124.000000</td>\n",
       "    </tr>\n",
       "  </tbody>\n",
       "</table>\n",
       "</div>"
      ],
      "text/plain": [
       "            date_Y   home_score   away_score        elo_h        elo_a  \\\n",
       "count  1556.000000  1556.000000  1556.000000  1556.000000  1556.000000   \n",
       "mean   2006.156170     2.173522     1.427378  1393.421385  1338.004383   \n",
       "std       3.380581     2.422981     1.912355    96.469569    91.643338   \n",
       "min    2000.000000     0.000000     0.000000  1156.520000  1122.375000   \n",
       "25%    2003.000000     0.000000     0.000000  1319.543750  1289.927500   \n",
       "50%    2006.000000     2.000000     1.000000  1385.522500  1308.247500   \n",
       "75%    2009.000000     3.000000     2.000000  1440.888750  1369.657500   \n",
       "max    2011.000000    24.000000    24.000000  1808.380000  1698.810000   \n",
       "\n",
       "          elo_diff  home_experience  away_experience  \n",
       "count  1556.000000      1556.000000      1556.000000  \n",
       "mean     55.417002        27.901028        24.728792  \n",
       "std     115.325617        27.444381        25.552613  \n",
       "min    -334.155000         1.000000         1.000000  \n",
       "25%      -5.563750         7.000000         6.000000  \n",
       "50%      55.587500        18.000000        15.000000  \n",
       "75%     110.698750        39.000000        34.000000  \n",
       "max     595.315000       121.000000       124.000000  "
      ]
     },
     "execution_count": 504,
     "metadata": {},
     "output_type": "execute_result"
    }
   ],
   "source": [
    "elo_1999_2011 = {}\n",
    "df_add_elo(df_1999_2011, elo_1999_2011)\n",
    "\n",
    "df_1999_2011['elo_diff'] = df_1999_2011['elo_h'] - df_1999_2011['elo_a']\n",
    "add_expereience(df_1999_2011)\n",
    "\n",
    "df_1999_2011_new = df_1999_2011.dropna()\n",
    "df_1999_2011_new['home_win'] = df_1999_2011_new['home_win'].astype('category')\n",
    "df_1999_2011_new.describe()"
   ]
  },
  {
   "cell_type": "code",
   "execution_count": 505,
   "id": "e3cbd796",
   "metadata": {},
   "outputs": [
    {
     "data": {
      "image/png": "[encoded data removed]",
      "text/plain": [
       "<Figure size 1200x600 with 2 Axes>"
      ]
     },
     "metadata": {},
     "output_type": "display_data"
    }
   ],
   "source": [
    "plot_high_low_elo(df_1999_2011_new, 1312)"
   ]
  },
  {
   "cell_type": "code",
   "execution_count": 506,
   "id": "d1f3b9d3",
   "metadata": {},
   "outputs": [
    {
     "data": {
      "text/html": [
       "<div>\n",
       "<style scoped>\n",
       "    .dataframe tbody tr th:only-of-type {\n",
       "        vertical-align: middle;\n",
       "    }\n",
       "\n",
       "    .dataframe tbody tr th {\n",
       "        vertical-align: top;\n",
       "    }\n",
       "\n",
       "    .dataframe thead th {\n",
       "        text-align: right;\n",
       "    }\n",
       "</style>\n",
       "<table border=\"1\" class=\"dataframe\">\n",
       "  <thead>\n",
       "    <tr style=\"text-align: right;\">\n",
       "      <th></th>\n",
       "      <th>date_Y</th>\n",
       "      <th>home_score</th>\n",
       "      <th>away_score</th>\n",
       "      <th>elo_h</th>\n",
       "      <th>elo_a</th>\n",
       "      <th>elo_diff</th>\n",
       "      <th>home_experience</th>\n",
       "      <th>away_experience</th>\n",
       "    </tr>\n",
       "  </thead>\n",
       "  <tbody>\n",
       "    <tr>\n",
       "      <th>count</th>\n",
       "      <td>1612.000000</td>\n",
       "      <td>1612.000000</td>\n",
       "      <td>1612.000000</td>\n",
       "      <td>1612.000000</td>\n",
       "      <td>1612.000000</td>\n",
       "      <td>1612.000000</td>\n",
       "      <td>1612.000000</td>\n",
       "      <td>1612.000000</td>\n",
       "    </tr>\n",
       "    <tr>\n",
       "      <th>mean</th>\n",
       "      <td>2015.944789</td>\n",
       "      <td>1.969603</td>\n",
       "      <td>1.429901</td>\n",
       "      <td>1398.737646</td>\n",
       "      <td>1329.592925</td>\n",
       "      <td>69.144721</td>\n",
       "      <td>29.040323</td>\n",
       "      <td>23.640819</td>\n",
       "    </tr>\n",
       "    <tr>\n",
       "      <th>std</th>\n",
       "      <td>2.239824</td>\n",
       "      <td>2.283385</td>\n",
       "      <td>1.883161</td>\n",
       "      <td>110.951243</td>\n",
       "      <td>84.381181</td>\n",
       "      <td>131.351744</td>\n",
       "      <td>31.445245</td>\n",
       "      <td>22.142239</td>\n",
       "    </tr>\n",
       "    <tr>\n",
       "      <th>min</th>\n",
       "      <td>2012.000000</td>\n",
       "      <td>0.000000</td>\n",
       "      <td>0.000000</td>\n",
       "      <td>1102.480000</td>\n",
       "      <td>1082.280000</td>\n",
       "      <td>-393.890000</td>\n",
       "      <td>1.000000</td>\n",
       "      <td>1.000000</td>\n",
       "    </tr>\n",
       "    <tr>\n",
       "      <th>25%</th>\n",
       "      <td>2014.000000</td>\n",
       "      <td>0.000000</td>\n",
       "      <td>0.000000</td>\n",
       "      <td>1311.141250</td>\n",
       "      <td>1287.301250</td>\n",
       "      <td>-8.760000</td>\n",
       "      <td>7.000000</td>\n",
       "      <td>7.000000</td>\n",
       "    </tr>\n",
       "    <tr>\n",
       "      <th>50%</th>\n",
       "      <td>2016.000000</td>\n",
       "      <td>1.000000</td>\n",
       "      <td>1.000000</td>\n",
       "      <td>1387.420000</td>\n",
       "      <td>1306.905000</td>\n",
       "      <td>54.492500</td>\n",
       "      <td>19.000000</td>\n",
       "      <td>17.000000</td>\n",
       "    </tr>\n",
       "    <tr>\n",
       "      <th>75%</th>\n",
       "      <td>2018.000000</td>\n",
       "      <td>3.000000</td>\n",
       "      <td>2.000000</td>\n",
       "      <td>1448.966250</td>\n",
       "      <td>1367.317500</td>\n",
       "      <td>126.117500</td>\n",
       "      <td>40.000000</td>\n",
       "      <td>36.000000</td>\n",
       "    </tr>\n",
       "    <tr>\n",
       "      <th>max</th>\n",
       "      <td>2019.000000</td>\n",
       "      <td>21.000000</td>\n",
       "      <td>13.000000</td>\n",
       "      <td>1829.755000</td>\n",
       "      <td>1679.420000</td>\n",
       "      <td>561.450000</td>\n",
       "      <td>183.000000</td>\n",
       "      <td>175.000000</td>\n",
       "    </tr>\n",
       "  </tbody>\n",
       "</table>\n",
       "</div>"
      ],
      "text/plain": [
       "            date_Y   home_score   away_score        elo_h        elo_a  \\\n",
       "count  1612.000000  1612.000000  1612.000000  1612.000000  1612.000000   \n",
       "mean   2015.944789     1.969603     1.429901  1398.737646  1329.592925   \n",
       "std       2.239824     2.283385     1.883161   110.951243    84.381181   \n",
       "min    2012.000000     0.000000     0.000000  1102.480000  1082.280000   \n",
       "25%    2014.000000     0.000000     0.000000  1311.141250  1287.301250   \n",
       "50%    2016.000000     1.000000     1.000000  1387.420000  1306.905000   \n",
       "75%    2018.000000     3.000000     2.000000  1448.966250  1367.317500   \n",
       "max    2019.000000    21.000000    13.000000  1829.755000  1679.420000   \n",
       "\n",
       "          elo_diff  home_experience  away_experience  \n",
       "count  1612.000000      1612.000000      1612.000000  \n",
       "mean     69.144721        29.040323        23.640819  \n",
       "std     131.351744        31.445245        22.142239  \n",
       "min    -393.890000         1.000000         1.000000  \n",
       "25%      -8.760000         7.000000         7.000000  \n",
       "50%      54.492500        19.000000        17.000000  \n",
       "75%     126.117500        40.000000        36.000000  \n",
       "max     561.450000       183.000000       175.000000  "
      ]
     },
     "execution_count": 506,
     "metadata": {},
     "output_type": "execute_result"
    }
   ],
   "source": [
    "elo_2011_2019 = {}\n",
    "df_add_elo(df_2011_2019, elo_2011_2019)\n",
    "\n",
    "df_2011_2019['elo_diff'] = df_2011_2019['elo_h'] - df_2011_2019['elo_a']\n",
    "add_expereience(df_2011_2019)\n",
    "\n",
    "df_2011_2019_new = df_2011_2019.dropna()\n",
    "df_2011_2019_new['home_win'] = df_2011_2019_new['home_win'].astype('category')\n",
    "df_2011_2019_new.describe()"
   ]
  },
  {
   "cell_type": "code",
   "execution_count": 507,
   "id": "0ce5ed9b",
   "metadata": {},
   "outputs": [
    {
     "data": {
      "image/png": "[encoded data removed]",
      "text/plain": [
       "<Figure size 1200x600 with 2 Axes>"
      ]
     },
     "metadata": {},
     "output_type": "display_data"
    }
   ],
   "source": [
    "plot_high_low_elo(df_2011_2019_new, 1308)"
   ]
  },
  {
   "cell_type": "markdown",
   "id": "1b9e34c5",
   "metadata": {},
   "source": [
    "- all three plot groups show that the relation between elo_diff and game result has different patterns in high elo and low elo games, therefore the model will use both teams' elo as two features, instead of elo_diff as one feature"
   ]
  },
  {
   "cell_type": "code",
   "execution_count": 508,
   "id": "7da08692",
   "metadata": {},
   "outputs": [],
   "source": [
    "#also process df_1999_2019 and df_2007_2019 for modeling later\n",
    "elo_1999_2019 = {}\n",
    "df_add_elo(df_1999_2019, elo_1999_2019)\n",
    "\n",
    "df_1999_2019['elo_diff'] = df_1999_2019['elo_h'] - df_1999_2019['elo_a']\n",
    "add_expereience(df_1999_2019)\n",
    "\n",
    "df_1999_2019_new = df_1999_2019.dropna()\n",
    "df_1999_2019_new['home_win'] = df_1999_2019_new['home_win'].astype('category')"
   ]
  },
  {
   "cell_type": "code",
   "execution_count": 509,
   "id": "eaf0c7c2",
   "metadata": {},
   "outputs": [],
   "source": [
    "elo_2007_2019 = {}\n",
    "df_add_elo(df_2007_2019, elo_2007_2019)\n",
    "\n",
    "df_2007_2019['elo_diff'] = df_2007_2019['elo_h'] - df_2007_2019['elo_a']\n",
    "add_expereience(df_2007_2019)\n",
    "\n",
    "df_2007_2019_new = df_2007_2019.dropna()\n",
    "df_2007_2019_new['home_win'] = df_2007_2019_new['home_win'].astype('category')"
   ]
  },
  {
   "cell_type": "markdown",
   "id": "d66ce6b7",
   "metadata": {},
   "source": [
    "- use statsmodels to check regression parameters"
   ]
  },
  {
   "cell_type": "code",
   "execution_count": 510,
   "id": "c0abd817",
   "metadata": {},
   "outputs": [],
   "source": [
    "#create feaure: difference between experience\n",
    "df_1999_new['experience_diff'] = df_1999_new['home_experience'] - df_1999_new['away_experience']\n",
    "df_1999_2011_new['experience_diff'] = df_1999_2011_new['home_experience'] - df_1999_2011_new['away_experience']\n",
    "df_2011_2019_new['experience_diff'] = df_2011_2019_new['home_experience'] - df_2011_2019_new['away_experience']\n",
    "df_2007_2019_new['experience_diff'] = df_2007_2019_new['home_experience'] - df_2007_2019_new['away_experience']\n",
    "df_1999_2019_new['experience_diff'] = df_1999_2019_new['home_experience'] - df_1999_2019_new['away_experience']"
   ]
  },
  {
   "cell_type": "code",
   "execution_count": 511,
   "id": "203f9683",
   "metadata": {},
   "outputs": [
    {
     "name": "stdout",
     "output_type": "stream",
     "text": [
      "Optimization terminated successfully.\n",
      "         Current function value: 0.547529\n",
      "         Iterations 6\n",
      "                         Results: Logit\n",
      "=================================================================\n",
      "Model:              Logit            Pseudo R-squared: 0.165     \n",
      "Dependent Variable: home_win         AIC:              1184.0925 \n",
      "Date:               2023-05-29 15:34 BIC:              1204.0091 \n",
      "No. Observations:   1074             Log-Likelihood:   -588.05   \n",
      "Df Model:           3                LL-Null:          -704.49   \n",
      "Df Residuals:       1070             LLR p-value:      3.2904e-50\n",
      "Converged:          1.0000           Scale:            1.0000    \n",
      "No. Iterations:     6.0000                                       \n",
      "-----------------------------------------------------------------\n",
      "                   Coef.  Std.Err.    z    P>|z|   [0.025  0.975]\n",
      "-----------------------------------------------------------------\n",
      "const              1.3201   1.0080  1.3096 0.1903 -0.6556  3.2959\n",
      "elo_h              0.0055   0.0007  7.6453 0.0000  0.0041  0.0069\n",
      "elo_a             -0.0064   0.0008 -7.9453 0.0000 -0.0080 -0.0048\n",
      "experience_diff    0.0152   0.0039  3.9247 0.0001  0.0076  0.0228\n",
      "=================================================================\n",
      "\n"
     ]
    }
   ],
   "source": [
    "df_1999_X = df_1999_new[['elo_h','elo_a','experience_diff']]\n",
    "df_1999_X = sm.add_constant(df_1999_X)\n",
    "df_1999_Y = df_1999_new [['home_win']]\n",
    "log_reg = sm.Logit(df_1999_Y, df_1999_X).fit()\n",
    "print(log_reg.summary2())"
   ]
  },
  {
   "cell_type": "code",
   "execution_count": 512,
   "id": "805bbcc4",
   "metadata": {},
   "outputs": [
    {
     "name": "stdout",
     "output_type": "stream",
     "text": [
      "Optimization terminated successfully.\n",
      "         Current function value: 0.591474\n",
      "         Iterations 6\n",
      "                         Results: Logit\n",
      "=================================================================\n",
      "Model:              Logit            Pseudo R-squared: 0.120     \n",
      "Dependent Variable: home_win         AIC:              1848.6686 \n",
      "Date:               2023-05-29 15:34 BIC:              1870.0681 \n",
      "No. Observations:   1556             Log-Likelihood:   -920.33   \n",
      "Df Model:           3                LL-Null:          -1046.1   \n",
      "Df Residuals:       1552             LLR p-value:      3.1496e-54\n",
      "Converged:          1.0000           Scale:            1.0000    \n",
      "No. Iterations:     6.0000                                       \n",
      "-----------------------------------------------------------------\n",
      "                   Coef.  Std.Err.    z    P>|z|   [0.025  0.975]\n",
      "-----------------------------------------------------------------\n",
      "const              0.8252   1.0716  0.7700 0.4413 -1.2752  2.9256\n",
      "elo_h              0.0050   0.0007  6.7525 0.0000  0.0035  0.0064\n",
      "elo_a             -0.0055   0.0008 -7.2744 0.0000 -0.0070 -0.0040\n",
      "experience_diff    0.0190   0.0031  6.1516 0.0000  0.0129  0.0250\n",
      "=================================================================\n",
      "\n"
     ]
    }
   ],
   "source": [
    "df_1999_2011_X = df_1999_2011_new[['elo_h','elo_a','experience_diff']]\n",
    "df_1999_2011_X = sm.add_constant(df_1999_2011_X)\n",
    "df_1999_2011_Y = df_1999_2011_new [['home_win']]\n",
    "log_reg = sm.Logit(df_1999_2011_Y, df_1999_2011_X).fit()\n",
    "print(log_reg.summary2())"
   ]
  },
  {
   "cell_type": "code",
   "execution_count": 513,
   "id": "7d4b7167",
   "metadata": {},
   "outputs": [
    {
     "name": "stdout",
     "output_type": "stream",
     "text": [
      "Optimization terminated successfully.\n",
      "         Current function value: 0.541317\n",
      "         Iterations 7\n",
      "                         Results: Logit\n",
      "=================================================================\n",
      "Model:              Logit            Pseudo R-squared: 0.207     \n",
      "Dependent Variable: home_win         AIC:              1753.2062 \n",
      "Date:               2023-05-29 15:34 BIC:              1774.7471 \n",
      "No. Observations:   1612             Log-Likelihood:   -872.60   \n",
      "Df Model:           3                LL-Null:          -1101.0   \n",
      "Df Residuals:       1608             LLR p-value:      1.0709e-98\n",
      "Converged:          1.0000           Scale:            1.0000    \n",
      "No. Iterations:     7.0000                                       \n",
      "-----------------------------------------------------------------\n",
      "                   Coef.  Std.Err.    z    P>|z|   [0.025  0.975]\n",
      "-----------------------------------------------------------------\n",
      "const              2.0185   1.2329  1.6372 0.1016 -0.3980  4.4349\n",
      "elo_h              0.0052   0.0008  6.7595 0.0000  0.0037  0.0067\n",
      "elo_a             -0.0068   0.0009 -7.9351 0.0000 -0.0085 -0.0051\n",
      "experience_diff    0.0295   0.0038  7.6725 0.0000  0.0219  0.0370\n",
      "=================================================================\n",
      "\n"
     ]
    }
   ],
   "source": [
    "df_2011_2019_X = df_2011_2019_new[['elo_h','elo_a','experience_diff']]\n",
    "df_2011_2019_X = sm.add_constant(df_2011_2019_X)\n",
    "df_2011_2019_Y = df_2011_2019_new [['home_win']]\n",
    "log_reg = sm.Logit(df_2011_2019_Y, df_2011_2019_X).fit()\n",
    "print(log_reg.summary2())"
   ]
  },
  {
   "cell_type": "code",
   "execution_count": 514,
   "id": "db5756bc",
   "metadata": {},
   "outputs": [
    {
     "name": "stdout",
     "output_type": "stream",
     "text": [
      "Optimization terminated successfully.\n",
      "         Current function value: 0.569862\n",
      "         Iterations 6\n",
      "                         Results: Logit\n",
      "=================================================================\n",
      "Model:              Logit            Pseudo R-squared: 0.166     \n",
      "Dependent Variable: home_win         AIC:              1843.2341 \n",
      "Date:               2023-05-29 15:34 BIC:              1859.3898 \n",
      "No. Observations:   1612             Log-Likelihood:   -918.62   \n",
      "Df Model:           2                LL-Null:          -1101.0   \n",
      "Df Residuals:       1609             LLR p-value:      6.0332e-80\n",
      "Converged:          1.0000           Scale:            1.0000    \n",
      "No. Iterations:     6.0000                                       \n",
      "-------------------------------------------------------------------\n",
      "          Coef.    Std.Err.      z       P>|z|     [0.025    0.975]\n",
      "-------------------------------------------------------------------\n",
      "const     1.3248     1.0876     1.2182   0.2232   -0.8067    3.4564\n",
      "elo_h     0.0082     0.0006    12.6173   0.0000    0.0069    0.0094\n",
      "elo_a    -0.0093     0.0008   -11.9717   0.0000   -0.0108   -0.0078\n",
      "=================================================================\n",
      "\n"
     ]
    }
   ],
   "source": [
    "#check the regression result without the third feature\n",
    "df_2011_2019_X = df_2011_2019_new[['elo_h','elo_a']]\n",
    "df_2011_2019_X = sm.add_constant(df_2011_2019_X)\n",
    "df_2011_2019_Y = df_2011_2019_new [['home_win']]\n",
    "log_reg = sm.Logit(df_2011_2019_Y, df_2011_2019_X).fit()\n",
    "print(log_reg.summary2())"
   ]
  },
  {
   "cell_type": "code",
   "execution_count": 515,
   "id": "75d80f88",
   "metadata": {},
   "outputs": [
    {
     "name": "stdout",
     "output_type": "stream",
     "text": [
      "Optimization terminated successfully.\n",
      "         Current function value: 0.549395\n",
      "         Iterations 6\n",
      "                          Results: Logit\n",
      "==================================================================\n",
      "Model:              Logit            Pseudo R-squared: 0.189      \n",
      "Dependent Variable: home_win         AIC:              3584.5590  \n",
      "Date:               2023-05-29 15:34 BIC:              3608.9108  \n",
      "No. Observations:   3255             Log-Likelihood:   -1788.3    \n",
      "Df Model:           3                LL-Null:          -2206.1    \n",
      "Df Residuals:       3251             LLR p-value:      8.3301e-181\n",
      "Converged:          1.0000           Scale:            1.0000     \n",
      "No. Iterations:     6.0000                                        \n",
      "------------------------------------------------------------------\n",
      "                   Coef.  Std.Err.    z     P>|z|   [0.025  0.975]\n",
      "------------------------------------------------------------------\n",
      "const              0.7158   0.5731   1.2490 0.2117 -0.4074  1.8389\n",
      "elo_h              0.0053   0.0004  12.2378 0.0000  0.0044  0.0061\n",
      "elo_a             -0.0058   0.0004 -13.1761 0.0000 -0.0067 -0.0050\n",
      "experience_diff    0.0105   0.0013   8.0802 0.0000  0.0080  0.0130\n",
      "==================================================================\n",
      "\n"
     ]
    }
   ],
   "source": [
    "df_1999_2019_X = df_1999_2019_new[['elo_h','elo_a','experience_diff']]\n",
    "df_1999_2019_X = sm.add_constant(df_1999_2019_X)\n",
    "df_1999_2019_Y = df_1999_2019_new [['home_win']]\n",
    "log_reg = sm.Logit(df_1999_2019_Y, df_1999_2019_X).fit()\n",
    "print(log_reg.summary2())"
   ]
  },
  {
   "cell_type": "markdown",
   "id": "4632a0fa",
   "metadata": {},
   "source": [
    "### 4. Test LogisticRegression, RandomForestClassifier, and KNeighborsClassifier on dataset combos"
   ]
  },
  {
   "cell_type": "code",
   "execution_count": 516,
   "id": "d6d55594",
   "metadata": {},
   "outputs": [],
   "source": [
    "def split_train_test_1(df, year):\n",
    "    '''split dataset so that the latest world cup games are the test set, all other games are training set'''\n",
    "    \n",
    "    test_df = df[(df['date_Y'] == year) & (df['tournament'] == 'FIFA World Cup')]\n",
    "    train_df = df[~((df['date_Y'] == year) & (df['tournament'] == 'FIFA World Cup'))]\n",
    "    \n",
    "    #remapping to avoid label error\n",
    "    label_mapping = {0: 'lose', 0.5: 'tie', 1: 'win'}\n",
    "    \n",
    "    #create training set with three features\n",
    "    X_train = train_df[['elo_h','elo_a','experience_diff']]\n",
    "    y_train = train_df['home_win'].map(label_mapping)\n",
    "    X_test = test_df[['elo_h','elo_a','experience_diff']]\n",
    "    y_test = test_df['home_win'].map(label_mapping)\n",
    "    \n",
    "    #scaler = StandardScaler()\n",
    "    #X_train = scaler.fit_transform(X_train)\n",
    "    #X_test = scaler.transform(X_test)\n",
    " \n",
    "    return X_train, X_test, y_train, y_test"
   ]
  },
  {
   "cell_type": "code",
   "execution_count": 517,
   "id": "4b28cbf4",
   "metadata": {},
   "outputs": [],
   "source": [
    "def split_train_test_2(df, year):\n",
    "    '''split dataset so that the latest world cup games are the test set, all other games are training set\n",
    "    Args: \n",
    "        df(variable): dataset to be split\n",
    "        year(int): the year of the latest world cup in the dataset\n",
    "    '''\n",
    "    \n",
    "    test_df = df[(df['date_Y'] == year) & (df['tournament'] == 'FIFA World Cup')]\n",
    "    train_df = df[~((df['date_Y'] == year) & (df['tournament'] == 'FIFA World Cup'))]\n",
    "    \n",
    "    label_mapping = {0: 'lose', 0.5: 'tie', 1: 'win'}\n",
    "    \n",
    "    #create training set with two features\n",
    "    X_train = train_df[['elo_h','elo_a']]\n",
    "    y_train = train_df['home_win'].map(label_mapping)\n",
    "    X_test = test_df[['elo_h','elo_a']]\n",
    "    y_test = test_df['home_win'].map(label_mapping)\n",
    "    \n",
    "    #scaler = StandardScaler()\n",
    "    #X_train = scaler.fit_transform(X_train)\n",
    "    #X_test = scaler.transform(X_test)\n",
    " \n",
    "    return X_train, X_test, y_train, y_test"
   ]
  },
  {
   "cell_type": "code",
   "execution_count": 518,
   "id": "4c954ad5",
   "metadata": {},
   "outputs": [],
   "source": [
    "def metrics_display(model):\n",
    "    '''display model performence metrics'''\n",
    "    \n",
    "    model.fit(X_train,y_train)\n",
    "    y_pred = model.predict(X_test)\n",
    "    \n",
    "    print(classification_report(y_test,y_pred))\n",
    "    cm = confusion_matrix(y_test, y_pred, labels=model.classes_)\n",
    "    disp = ConfusionMatrixDisplay(confusion_matrix=cm, display_labels=model.classes_)\n",
    "\n",
    "    fig, ax = plt.subplots(figsize=(3, 3))  \n",
    "    disp.plot(ax=ax)  \n",
    "    plt.show()  "
   ]
  },
  {
   "cell_type": "code",
   "execution_count": 519,
   "id": "cb7b1941",
   "metadata": {},
   "outputs": [],
   "source": [
    "# Logistic Regression pipeline\n",
    "lr_pipeline = Pipeline([('lr', LogisticRegression())])\n",
    "\n",
    "# Random Forest pipeline\n",
    "rf_pipeline = Pipeline([('rf', RandomForestClassifier())])\n",
    "\n",
    "# K-Nearest Neighbors pipeline\n",
    "knn_pipeline = Pipeline([('knn', KNeighborsClassifier())])\n",
    "\n",
    "# List of pipelines\n",
    "pipelines = [lr_pipeline, rf_pipeline, knn_pipeline]"
   ]
  },
  {
   "cell_type": "markdown",
   "id": "bcd50c46",
   "metadata": {},
   "source": [
    "- Train on games before 2000 to predict World Cup 1999"
   ]
  },
  {
   "cell_type": "code",
   "execution_count": 520,
   "id": "194f045e",
   "metadata": {},
   "outputs": [],
   "source": [
    "X_train, X_test, y_train, y_test = split_train_test_1(df_1999_new, 1999)"
   ]
  },
  {
   "cell_type": "code",
   "execution_count": 521,
   "id": "af7826b7",
   "metadata": {},
   "outputs": [
    {
     "data": {
      "text/plain": [
       "win     575\n",
       "lose    318\n",
       "tie     149\n",
       "Name: home_win, dtype: int64"
      ]
     },
     "execution_count": 521,
     "metadata": {},
     "output_type": "execute_result"
    }
   ],
   "source": [
    "y_train.value_counts()"
   ]
  },
  {
   "cell_type": "code",
   "execution_count": 522,
   "id": "2468b098",
   "metadata": {},
   "outputs": [
    {
     "name": "stdout",
     "output_type": "stream",
     "text": [
      "LogisticRegression Accuracy: 0.66\n",
      "RandomForestClassifier Accuracy: 0.66\n",
      "KNeighborsClassifier Accuracy: 0.56\n"
     ]
    }
   ],
   "source": [
    "for pipeline in pipelines:\n",
    "    pipeline.fit(X_train, y_train)\n",
    "    y_pred = pipeline.predict(X_test)\n",
    "    accuracy = accuracy_score(y_test, y_pred)\n",
    "    model_name = pipeline.steps[-1][1].__class__.__name__\n",
    "    print(f'{model_name} Accuracy: {accuracy:.2f}')"
   ]
  },
  {
   "cell_type": "code",
   "execution_count": 523,
   "id": "ddf45ac3",
   "metadata": {},
   "outputs": [
    {
     "name": "stdout",
     "output_type": "stream",
     "text": [
      "              precision    recall  f1-score   support\n",
      "\n",
      "        lose       0.36      0.71      0.48         7\n",
      "         tie       0.50      0.17      0.25         6\n",
      "         win       0.75      0.63      0.69        19\n",
      "\n",
      "    accuracy                           0.56        32\n",
      "   macro avg       0.54      0.50      0.47        32\n",
      "weighted avg       0.62      0.56      0.56        32\n",
      "\n"
     ]
    },
    {
     "data": {
      "image/png": "[encoded data removed]",
      "text/plain": [
       "<Figure size 300x300 with 2 Axes>"
      ]
     },
     "metadata": {},
     "output_type": "display_data"
    }
   ],
   "source": [
    "metrics_display(KNeighborsClassifier())"
   ]
  },
  {
   "cell_type": "markdown",
   "id": "fee2cbc9",
   "metadata": {},
   "source": [
    "- Train on games between 2000 and 2012 to predict World Cup 2011"
   ]
  },
  {
   "cell_type": "code",
   "execution_count": 524,
   "id": "79a9dbe5",
   "metadata": {},
   "outputs": [],
   "source": [
    "X_train, X_test, y_train, y_test = split_train_test_1(df_1999_2011_new, 2011)"
   ]
  },
  {
   "cell_type": "code",
   "execution_count": 525,
   "id": "f197cb5b",
   "metadata": {},
   "outputs": [
    {
     "data": {
      "text/plain": [
       "win     806\n",
       "lose    519\n",
       "tie     199\n",
       "Name: home_win, dtype: int64"
      ]
     },
     "execution_count": 525,
     "metadata": {},
     "output_type": "execute_result"
    }
   ],
   "source": [
    "y_train.value_counts()"
   ]
  },
  {
   "cell_type": "code",
   "execution_count": 526,
   "id": "768f5dec",
   "metadata": {},
   "outputs": [],
   "source": [
    "oversampler = RandomOverSampler(sampling_strategy={'tie':500}, random_state=42)\n",
    "X_train, y_train = oversampler.fit_resample(X_train, y_train)"
   ]
  },
  {
   "cell_type": "code",
   "execution_count": 527,
   "id": "bfbd322c",
   "metadata": {},
   "outputs": [
    {
     "name": "stdout",
     "output_type": "stream",
     "text": [
      "LogisticRegression Accuracy: 0.62\n",
      "RandomForestClassifier Accuracy: 0.62\n",
      "KNeighborsClassifier Accuracy: 0.56\n"
     ]
    }
   ],
   "source": [
    "for pipeline in pipelines:\n",
    "    pipeline.fit(X_train, y_train)\n",
    "    y_pred = pipeline.predict(X_test)\n",
    "    accuracy = accuracy_score(y_test, y_pred)\n",
    "    model_name = pipeline.steps[-1][1].__class__.__name__\n",
    "    print(f'{model_name} Accuracy: {accuracy:.2f}')"
   ]
  },
  {
   "cell_type": "code",
   "execution_count": 528,
   "id": "443463cb",
   "metadata": {},
   "outputs": [
    {
     "name": "stdout",
     "output_type": "stream",
     "text": [
      "              precision    recall  f1-score   support\n",
      "\n",
      "        lose       0.47      0.78      0.58         9\n",
      "         tie       0.00      0.00      0.00         6\n",
      "         win       0.76      0.76      0.76        17\n",
      "\n",
      "    accuracy                           0.62        32\n",
      "   macro avg       0.41      0.51      0.45        32\n",
      "weighted avg       0.54      0.62      0.57        32\n",
      "\n"
     ]
    },
    {
     "data": {
      "image/png": "[encoded data removed]",
      "text/plain": [
       "<Figure size 300x300 with 2 Axes>"
      ]
     },
     "metadata": {},
     "output_type": "display_data"
    }
   ],
   "source": [
    "metrics_display(LogisticRegression())"
   ]
  },
  {
   "cell_type": "markdown",
   "id": "c89a4242",
   "metadata": {},
   "source": [
    "- Train on games between 2012 and 2020 to predict World Cup 2019"
   ]
  },
  {
   "cell_type": "code",
   "execution_count": 529,
   "id": "81a47a3c",
   "metadata": {},
   "outputs": [],
   "source": [
    "X_train, X_test, y_train, y_test = split_train_test_1(df_2011_2019_new, 2019)"
   ]
  },
  {
   "cell_type": "code",
   "execution_count": 530,
   "id": "9f73cfa6",
   "metadata": {},
   "outputs": [
    {
     "data": {
      "text/plain": [
       "win     754\n",
       "lose    554\n",
       "tie     252\n",
       "Name: home_win, dtype: int64"
      ]
     },
     "execution_count": 530,
     "metadata": {},
     "output_type": "execute_result"
    }
   ],
   "source": [
    "y_train.value_counts()"
   ]
  },
  {
   "cell_type": "code",
   "execution_count": 531,
   "id": "602f711e",
   "metadata": {},
   "outputs": [
    {
     "data": {
      "text/plain": [
       "win     29\n",
       "lose    19\n",
       "tie      4\n",
       "Name: home_win, dtype: int64"
      ]
     },
     "execution_count": 531,
     "metadata": {},
     "output_type": "execute_result"
    }
   ],
   "source": [
    "y_test.value_counts()"
   ]
  },
  {
   "cell_type": "code",
   "execution_count": 532,
   "id": "3b5436f6",
   "metadata": {},
   "outputs": [],
   "source": [
    "#oversample training data with label 'tie'\n",
    "oversampler = RandomOverSampler(sampling_strategy={'tie':500}, random_state=42)\n",
    "X_train, y_train = oversampler.fit_resample(X_train, y_train)"
   ]
  },
  {
   "cell_type": "code",
   "execution_count": 533,
   "id": "6785d886",
   "metadata": {},
   "outputs": [],
   "source": [
    "#oversample test data with label 'tie'\n",
    "#oversampler = SMOTE(sampling_strategy='auto', k_neighbors=3)\n",
    "#X_test, y_test = oversampler.fit_resample(X_test, y_test)"
   ]
  },
  {
   "cell_type": "code",
   "execution_count": 534,
   "id": "c575922c",
   "metadata": {},
   "outputs": [
    {
     "name": "stdout",
     "output_type": "stream",
     "text": [
      "LogisticRegression Accuracy: 0.73\n",
      "RandomForestClassifier Accuracy: 0.71\n",
      "KNeighborsClassifier Accuracy: 0.71\n"
     ]
    }
   ],
   "source": [
    "for pipeline in pipelines:\n",
    "    pipeline.fit(X_train, y_train)\n",
    "    y_pred = pipeline.predict(X_test)\n",
    "    accuracy = accuracy_score(y_test, y_pred)\n",
    "    model_name = pipeline.steps[-1][1].__class__.__name__\n",
    "    print(f'{model_name} Accuracy: {accuracy:.2f}')"
   ]
  },
  {
   "cell_type": "code",
   "execution_count": 535,
   "id": "d93b13e1",
   "metadata": {},
   "outputs": [
    {
     "name": "stdout",
     "output_type": "stream",
     "text": [
      "              precision    recall  f1-score   support\n",
      "\n",
      "        lose       0.65      0.79      0.71        19\n",
      "         tie       1.00      0.25      0.40         4\n",
      "         win       0.79      0.76      0.77        29\n",
      "\n",
      "    accuracy                           0.73        52\n",
      "   macro avg       0.81      0.60      0.63        52\n",
      "weighted avg       0.75      0.73      0.72        52\n",
      "\n"
     ]
    },
    {
     "data": {
      "image/png": "[encoded data removed]",
      "text/plain": [
       "<Figure size 300x300 with 2 Axes>"
      ]
     },
     "metadata": {},
     "output_type": "display_data"
    }
   ],
   "source": [
    "metrics_display(LogisticRegression())"
   ]
  },
  {
   "cell_type": "code",
   "execution_count": 536,
   "id": "792306c7",
   "metadata": {},
   "outputs": [
    {
     "data": {
      "text/html": [
       "<div>\n",
       "<style scoped>\n",
       "    .dataframe tbody tr th:only-of-type {\n",
       "        vertical-align: middle;\n",
       "    }\n",
       "\n",
       "    .dataframe tbody tr th {\n",
       "        vertical-align: top;\n",
       "    }\n",
       "\n",
       "    .dataframe thead th {\n",
       "        text-align: right;\n",
       "    }\n",
       "</style>\n",
       "<table border=\"1\" class=\"dataframe\">\n",
       "  <thead>\n",
       "    <tr style=\"text-align: right;\">\n",
       "      <th></th>\n",
       "      <th>home_team</th>\n",
       "      <th>away_team</th>\n",
       "      <th>home_score</th>\n",
       "      <th>away_score</th>\n",
       "      <th>elo_h</th>\n",
       "      <th>elo_a</th>\n",
       "      <th>elo_diff</th>\n",
       "      <th>experience_diff</th>\n",
       "      <th>Actual</th>\n",
       "      <th>Predicted</th>\n",
       "    </tr>\n",
       "  </thead>\n",
       "  <tbody>\n",
       "    <tr>\n",
       "      <th>1604</th>\n",
       "      <td>United States</td>\n",
       "      <td>Chile</td>\n",
       "      <td>3</td>\n",
       "      <td>0</td>\n",
       "      <td>1601.900</td>\n",
       "      <td>1282.205</td>\n",
       "      <td>319.695</td>\n",
       "      <td>161</td>\n",
       "      <td>win</td>\n",
       "      <td>win</td>\n",
       "    </tr>\n",
       "    <tr>\n",
       "      <th>1620</th>\n",
       "      <td>England</td>\n",
       "      <td>Cameroon</td>\n",
       "      <td>3</td>\n",
       "      <td>0</td>\n",
       "      <td>1637.095</td>\n",
       "      <td>1328.640</td>\n",
       "      <td>308.455</td>\n",
       "      <td>31</td>\n",
       "      <td>win</td>\n",
       "      <td>win</td>\n",
       "    </tr>\n",
       "    <tr>\n",
       "      <th>1592</th>\n",
       "      <td>United States</td>\n",
       "      <td>Thailand</td>\n",
       "      <td>13</td>\n",
       "      <td>0</td>\n",
       "      <td>1591.880</td>\n",
       "      <td>1313.070</td>\n",
       "      <td>278.810</td>\n",
       "      <td>142</td>\n",
       "      <td>win</td>\n",
       "      <td>win</td>\n",
       "    </tr>\n",
       "    <tr>\n",
       "      <th>1600</th>\n",
       "      <td>England</td>\n",
       "      <td>Argentina</td>\n",
       "      <td>1</td>\n",
       "      <td>0</td>\n",
       "      <td>1605.115</td>\n",
       "      <td>1335.050</td>\n",
       "      <td>270.065</td>\n",
       "      <td>54</td>\n",
       "      <td>win</td>\n",
       "      <td>win</td>\n",
       "    </tr>\n",
       "    <tr>\n",
       "      <th>1581</th>\n",
       "      <td>France</td>\n",
       "      <td>South Korea</td>\n",
       "      <td>4</td>\n",
       "      <td>0</td>\n",
       "      <td>1598.300</td>\n",
       "      <td>1343.260</td>\n",
       "      <td>255.040</td>\n",
       "      <td>0</td>\n",
       "      <td>win</td>\n",
       "      <td>win</td>\n",
       "    </tr>\n",
       "    <tr>\n",
       "      <th>1584</th>\n",
       "      <td>Spain</td>\n",
       "      <td>South Africa</td>\n",
       "      <td>3</td>\n",
       "      <td>1</td>\n",
       "      <td>1505.965</td>\n",
       "      <td>1254.175</td>\n",
       "      <td>251.790</td>\n",
       "      <td>-9</td>\n",
       "      <td>win</td>\n",
       "      <td>win</td>\n",
       "    </tr>\n",
       "    <tr>\n",
       "      <th>1621</th>\n",
       "      <td>France</td>\n",
       "      <td>Brazil</td>\n",
       "      <td>2</td>\n",
       "      <td>1</td>\n",
       "      <td>1644.620</td>\n",
       "      <td>1393.835</td>\n",
       "      <td>250.785</td>\n",
       "      <td>16</td>\n",
       "      <td>win</td>\n",
       "      <td>win</td>\n",
       "    </tr>\n",
       "    <tr>\n",
       "      <th>1605</th>\n",
       "      <td>France</td>\n",
       "      <td>Nigeria</td>\n",
       "      <td>1</td>\n",
       "      <td>0</td>\n",
       "      <td>1632.080</td>\n",
       "      <td>1401.020</td>\n",
       "      <td>231.060</td>\n",
       "      <td>23</td>\n",
       "      <td>win</td>\n",
       "      <td>win</td>\n",
       "    </tr>\n",
       "    <tr>\n",
       "      <th>1618</th>\n",
       "      <td>Germany</td>\n",
       "      <td>Nigeria</td>\n",
       "      <td>3</td>\n",
       "      <td>0</td>\n",
       "      <td>1609.130</td>\n",
       "      <td>1388.480</td>\n",
       "      <td>220.650</td>\n",
       "      <td>36</td>\n",
       "      <td>win</td>\n",
       "      <td>win</td>\n",
       "    </tr>\n",
       "    <tr>\n",
       "      <th>1603</th>\n",
       "      <td>Sweden</td>\n",
       "      <td>Thailand</td>\n",
       "      <td>5</td>\n",
       "      <td>1</td>\n",
       "      <td>1481.045</td>\n",
       "      <td>1303.050</td>\n",
       "      <td>177.995</td>\n",
       "      <td>39</td>\n",
       "      <td>win</td>\n",
       "      <td>win</td>\n",
       "    </tr>\n",
       "    <tr>\n",
       "      <th>1583</th>\n",
       "      <td>Germany</td>\n",
       "      <td>China PR</td>\n",
       "      <td>1</td>\n",
       "      <td>0</td>\n",
       "      <td>1562.270</td>\n",
       "      <td>1386.745</td>\n",
       "      <td>175.525</td>\n",
       "      <td>-7</td>\n",
       "      <td>win</td>\n",
       "      <td>win</td>\n",
       "    </tr>\n",
       "    <tr>\n",
       "      <th>1602</th>\n",
       "      <td>Canada</td>\n",
       "      <td>New Zealand</td>\n",
       "      <td>2</td>\n",
       "      <td>0</td>\n",
       "      <td>1453.785</td>\n",
       "      <td>1300.080</td>\n",
       "      <td>153.705</td>\n",
       "      <td>19</td>\n",
       "      <td>win</td>\n",
       "      <td>win</td>\n",
       "    </tr>\n",
       "    <tr>\n",
       "      <th>1601</th>\n",
       "      <td>Netherlands</td>\n",
       "      <td>Cameroon</td>\n",
       "      <td>3</td>\n",
       "      <td>1</td>\n",
       "      <td>1470.810</td>\n",
       "      <td>1317.720</td>\n",
       "      <td>153.090</td>\n",
       "      <td>23</td>\n",
       "      <td>win</td>\n",
       "      <td>win</td>\n",
       "    </tr>\n",
       "    <tr>\n",
       "      <th>1610</th>\n",
       "      <td>Italy</td>\n",
       "      <td>Brazil</td>\n",
       "      <td>0</td>\n",
       "      <td>1</td>\n",
       "      <td>1502.150</td>\n",
       "      <td>1351.595</td>\n",
       "      <td>150.555</td>\n",
       "      <td>16</td>\n",
       "      <td>lose</td>\n",
       "      <td>win</td>\n",
       "    </tr>\n",
       "    <tr>\n",
       "      <th>1632</th>\n",
       "      <td>England</td>\n",
       "      <td>Sweden</td>\n",
       "      <td>1</td>\n",
       "      <td>2</td>\n",
       "      <td>1635.655</td>\n",
       "      <td>1515.605</td>\n",
       "      <td>120.050</td>\n",
       "      <td>-3</td>\n",
       "      <td>lose</td>\n",
       "      <td>win</td>\n",
       "    </tr>\n",
       "    <tr>\n",
       "      <th>1629</th>\n",
       "      <td>Germany</td>\n",
       "      <td>Sweden</td>\n",
       "      <td>1</td>\n",
       "      <td>2</td>\n",
       "      <td>1622.270</td>\n",
       "      <td>1503.425</td>\n",
       "      <td>118.845</td>\n",
       "      <td>6</td>\n",
       "      <td>lose</td>\n",
       "      <td>win</td>\n",
       "    </tr>\n",
       "    <tr>\n",
       "      <th>1633</th>\n",
       "      <td>United States</td>\n",
       "      <td>Netherlands</td>\n",
       "      <td>2</td>\n",
       "      <td>0</td>\n",
       "      <td>1708.100</td>\n",
       "      <td>1597.410</td>\n",
       "      <td>110.690</td>\n",
       "      <td>114</td>\n",
       "      <td>win</td>\n",
       "      <td>win</td>\n",
       "    </tr>\n",
       "    <tr>\n",
       "      <th>1587</th>\n",
       "      <td>England</td>\n",
       "      <td>Scotland</td>\n",
       "      <td>2</td>\n",
       "      <td>1</td>\n",
       "      <td>1584.295</td>\n",
       "      <td>1474.430</td>\n",
       "      <td>109.865</td>\n",
       "      <td>11</td>\n",
       "      <td>win</td>\n",
       "      <td>win</td>\n",
       "    </tr>\n",
       "    <tr>\n",
       "      <th>1582</th>\n",
       "      <td>Norway</td>\n",
       "      <td>Nigeria</td>\n",
       "      <td>3</td>\n",
       "      <td>0</td>\n",
       "      <td>1500.520</td>\n",
       "      <td>1395.920</td>\n",
       "      <td>104.600</td>\n",
       "      <td>29</td>\n",
       "      <td>win</td>\n",
       "      <td>win</td>\n",
       "    </tr>\n",
       "    <tr>\n",
       "      <th>1612</th>\n",
       "      <td>Scotland</td>\n",
       "      <td>Argentina</td>\n",
       "      <td>3</td>\n",
       "      <td>3</td>\n",
       "      <td>1426.550</td>\n",
       "      <td>1324.610</td>\n",
       "      <td>101.940</td>\n",
       "      <td>43</td>\n",
       "      <td>tie</td>\n",
       "      <td>win</td>\n",
       "    </tr>\n",
       "    <tr>\n",
       "      <th>1619</th>\n",
       "      <td>Norway</td>\n",
       "      <td>Australia</td>\n",
       "      <td>1</td>\n",
       "      <td>1</td>\n",
       "      <td>1514.020</td>\n",
       "      <td>1416.585</td>\n",
       "      <td>97.435</td>\n",
       "      <td>21</td>\n",
       "      <td>tie</td>\n",
       "      <td>win</td>\n",
       "    </tr>\n",
       "    <tr>\n",
       "      <th>1589</th>\n",
       "      <td>Canada</td>\n",
       "      <td>Cameroon</td>\n",
       "      <td>1</td>\n",
       "      <td>0</td>\n",
       "      <td>1431.525</td>\n",
       "      <td>1339.980</td>\n",
       "      <td>91.545</td>\n",
       "      <td>34</td>\n",
       "      <td>win</td>\n",
       "      <td>win</td>\n",
       "    </tr>\n",
       "    <tr>\n",
       "      <th>1594</th>\n",
       "      <td>France</td>\n",
       "      <td>Norway</td>\n",
       "      <td>2</td>\n",
       "      <td>1</td>\n",
       "      <td>1609.520</td>\n",
       "      <td>1521.760</td>\n",
       "      <td>87.760</td>\n",
       "      <td>-6</td>\n",
       "      <td>win</td>\n",
       "      <td>win</td>\n",
       "    </tr>\n",
       "    <tr>\n",
       "      <th>1624</th>\n",
       "      <td>Italy</td>\n",
       "      <td>China PR</td>\n",
       "      <td>2</td>\n",
       "      <td>0</td>\n",
       "      <td>1459.910</td>\n",
       "      <td>1398.745</td>\n",
       "      <td>61.165</td>\n",
       "      <td>-20</td>\n",
       "      <td>win</td>\n",
       "      <td>lose</td>\n",
       "    </tr>\n",
       "    <tr>\n",
       "      <th>1595</th>\n",
       "      <td>Germany</td>\n",
       "      <td>Spain</td>\n",
       "      <td>1</td>\n",
       "      <td>0</td>\n",
       "      <td>1578.290</td>\n",
       "      <td>1517.365</td>\n",
       "      <td>60.925</td>\n",
       "      <td>27</td>\n",
       "      <td>win</td>\n",
       "      <td>win</td>\n",
       "    </tr>\n",
       "    <tr>\n",
       "      <th>1586</th>\n",
       "      <td>Brazil</td>\n",
       "      <td>Jamaica</td>\n",
       "      <td>3</td>\n",
       "      <td>0</td>\n",
       "      <td>1356.875</td>\n",
       "      <td>1312.880</td>\n",
       "      <td>43.995</td>\n",
       "      <td>29</td>\n",
       "      <td>win</td>\n",
       "      <td>win</td>\n",
       "    </tr>\n",
       "    <tr>\n",
       "      <th>1593</th>\n",
       "      <td>Nigeria</td>\n",
       "      <td>South Korea</td>\n",
       "      <td>2</td>\n",
       "      <td>0</td>\n",
       "      <td>1374.680</td>\n",
       "      <td>1332.040</td>\n",
       "      <td>42.640</td>\n",
       "      <td>-23</td>\n",
       "      <td>win</td>\n",
       "      <td>lose</td>\n",
       "    </tr>\n",
       "    <tr>\n",
       "      <th>1599</th>\n",
       "      <td>Japan</td>\n",
       "      <td>Scotland</td>\n",
       "      <td>2</td>\n",
       "      <td>1</td>\n",
       "      <td>1487.640</td>\n",
       "      <td>1453.610</td>\n",
       "      <td>34.030</td>\n",
       "      <td>7</td>\n",
       "      <td>win</td>\n",
       "      <td>win</td>\n",
       "    </tr>\n",
       "    <tr>\n",
       "      <th>1623</th>\n",
       "      <td>Sweden</td>\n",
       "      <td>Canada</td>\n",
       "      <td>1</td>\n",
       "      <td>0</td>\n",
       "      <td>1476.305</td>\n",
       "      <td>1442.805</td>\n",
       "      <td>33.500</td>\n",
       "      <td>0</td>\n",
       "      <td>win</td>\n",
       "      <td>win</td>\n",
       "    </tr>\n",
       "    <tr>\n",
       "      <th>1631</th>\n",
       "      <td>Netherlands</td>\n",
       "      <td>Sweden</td>\n",
       "      <td>1</td>\n",
       "      <td>0</td>\n",
       "      <td>1569.690</td>\n",
       "      <td>1543.325</td>\n",
       "      <td>26.365</td>\n",
       "      <td>-11</td>\n",
       "      <td>win</td>\n",
       "      <td>lose</td>\n",
       "    </tr>\n",
       "    <tr>\n",
       "      <th>1625</th>\n",
       "      <td>Netherlands</td>\n",
       "      <td>Japan</td>\n",
       "      <td>2</td>\n",
       "      <td>1</td>\n",
       "      <td>1516.890</td>\n",
       "      <td>1493.160</td>\n",
       "      <td>23.730</td>\n",
       "      <td>-4</td>\n",
       "      <td>win</td>\n",
       "      <td>lose</td>\n",
       "    </tr>\n",
       "    <tr>\n",
       "      <th>1614</th>\n",
       "      <td>Cameroon</td>\n",
       "      <td>New Zealand</td>\n",
       "      <td>2</td>\n",
       "      <td>1</td>\n",
       "      <td>1300.140</td>\n",
       "      <td>1282.560</td>\n",
       "      <td>17.580</td>\n",
       "      <td>-15</td>\n",
       "      <td>win</td>\n",
       "      <td>lose</td>\n",
       "    </tr>\n",
       "    <tr>\n",
       "      <th>1613</th>\n",
       "      <td>Netherlands</td>\n",
       "      <td>Canada</td>\n",
       "      <td>2</td>\n",
       "      <td>1</td>\n",
       "      <td>1488.390</td>\n",
       "      <td>1471.305</td>\n",
       "      <td>17.085</td>\n",
       "      <td>-11</td>\n",
       "      <td>win</td>\n",
       "      <td>lose</td>\n",
       "    </tr>\n",
       "    <tr>\n",
       "      <th>1616</th>\n",
       "      <td>Thailand</td>\n",
       "      <td>Chile</td>\n",
       "      <td>0</td>\n",
       "      <td>2</td>\n",
       "      <td>1287.210</td>\n",
       "      <td>1273.985</td>\n",
       "      <td>13.225</td>\n",
       "      <td>19</td>\n",
       "      <td>lose</td>\n",
       "      <td>win</td>\n",
       "    </tr>\n",
       "    <tr>\n",
       "      <th>1627</th>\n",
       "      <td>France</td>\n",
       "      <td>United States</td>\n",
       "      <td>1</td>\n",
       "      <td>2</td>\n",
       "      <td>1656.080</td>\n",
       "      <td>1648.760</td>\n",
       "      <td>7.320</td>\n",
       "      <td>-110</td>\n",
       "      <td>lose</td>\n",
       "      <td>lose</td>\n",
       "    </tr>\n",
       "    <tr>\n",
       "      <th>1630</th>\n",
       "      <td>England</td>\n",
       "      <td>United States</td>\n",
       "      <td>1</td>\n",
       "      <td>2</td>\n",
       "      <td>1664.335</td>\n",
       "      <td>1679.420</td>\n",
       "      <td>-15.085</td>\n",
       "      <td>-106</td>\n",
       "      <td>lose</td>\n",
       "      <td>lose</td>\n",
       "    </tr>\n",
       "    <tr>\n",
       "      <th>1597</th>\n",
       "      <td>Australia</td>\n",
       "      <td>Brazil</td>\n",
       "      <td>3</td>\n",
       "      <td>2</td>\n",
       "      <td>1365.405</td>\n",
       "      <td>1383.095</td>\n",
       "      <td>-17.690</td>\n",
       "      <td>1</td>\n",
       "      <td>win</td>\n",
       "      <td>lose</td>\n",
       "    </tr>\n",
       "    <tr>\n",
       "      <th>1628</th>\n",
       "      <td>Italy</td>\n",
       "      <td>Netherlands</td>\n",
       "      <td>0</td>\n",
       "      <td>2</td>\n",
       "      <td>1484.690</td>\n",
       "      <td>1544.850</td>\n",
       "      <td>-60.160</td>\n",
       "      <td>4</td>\n",
       "      <td>lose</td>\n",
       "      <td>lose</td>\n",
       "    </tr>\n",
       "    <tr>\n",
       "      <th>1585</th>\n",
       "      <td>Australia</td>\n",
       "      <td>Italy</td>\n",
       "      <td>1</td>\n",
       "      <td>2</td>\n",
       "      <td>1388.985</td>\n",
       "      <td>1464.230</td>\n",
       "      <td>-75.245</td>\n",
       "      <td>-15</td>\n",
       "      <td>lose</td>\n",
       "      <td>lose</td>\n",
       "    </tr>\n",
       "    <tr>\n",
       "      <th>1611</th>\n",
       "      <td>Japan</td>\n",
       "      <td>England</td>\n",
       "      <td>0</td>\n",
       "      <td>2</td>\n",
       "      <td>1514.700</td>\n",
       "      <td>1615.555</td>\n",
       "      <td>-100.855</td>\n",
       "      <td>-4</td>\n",
       "      <td>lose</td>\n",
       "      <td>lose</td>\n",
       "    </tr>\n",
       "    <tr>\n",
       "      <th>1608</th>\n",
       "      <td>China PR</td>\n",
       "      <td>Spain</td>\n",
       "      <td>0</td>\n",
       "      <td>0</td>\n",
       "      <td>1390.165</td>\n",
       "      <td>1492.585</td>\n",
       "      <td>-102.420</td>\n",
       "      <td>34</td>\n",
       "      <td>tie</td>\n",
       "      <td>win</td>\n",
       "    </tr>\n",
       "    <tr>\n",
       "      <th>1615</th>\n",
       "      <td>Sweden</td>\n",
       "      <td>United States</td>\n",
       "      <td>0</td>\n",
       "      <td>2</td>\n",
       "      <td>1496.885</td>\n",
       "      <td>1610.120</td>\n",
       "      <td>-113.235</td>\n",
       "      <td>-103</td>\n",
       "      <td>lose</td>\n",
       "      <td>lose</td>\n",
       "    </tr>\n",
       "    <tr>\n",
       "      <th>1609</th>\n",
       "      <td>Jamaica</td>\n",
       "      <td>Australia</td>\n",
       "      <td>1</td>\n",
       "      <td>4</td>\n",
       "      <td>1272.320</td>\n",
       "      <td>1396.905</td>\n",
       "      <td>-124.585</td>\n",
       "      <td>-30</td>\n",
       "      <td>lose</td>\n",
       "      <td>lose</td>\n",
       "    </tr>\n",
       "    <tr>\n",
       "      <th>1596</th>\n",
       "      <td>South Africa</td>\n",
       "      <td>China PR</td>\n",
       "      <td>0</td>\n",
       "      <td>1</td>\n",
       "      <td>1242.775</td>\n",
       "      <td>1370.725</td>\n",
       "      <td>-127.950</td>\n",
       "      <td>-25</td>\n",
       "      <td>lose</td>\n",
       "      <td>lose</td>\n",
       "    </tr>\n",
       "    <tr>\n",
       "      <th>1590</th>\n",
       "      <td>New Zealand</td>\n",
       "      <td>Netherlands</td>\n",
       "      <td>0</td>\n",
       "      <td>1</td>\n",
       "      <td>1319.160</td>\n",
       "      <td>1451.730</td>\n",
       "      <td>-132.570</td>\n",
       "      <td>-8</td>\n",
       "      <td>lose</td>\n",
       "      <td>lose</td>\n",
       "    </tr>\n",
       "    <tr>\n",
       "      <th>1626</th>\n",
       "      <td>Norway</td>\n",
       "      <td>England</td>\n",
       "      <td>0</td>\n",
       "      <td>3</td>\n",
       "      <td>1505.800</td>\n",
       "      <td>1645.795</td>\n",
       "      <td>-139.995</td>\n",
       "      <td>2</td>\n",
       "      <td>lose</td>\n",
       "      <td>lose</td>\n",
       "    </tr>\n",
       "    <tr>\n",
       "      <th>1622</th>\n",
       "      <td>Spain</td>\n",
       "      <td>United States</td>\n",
       "      <td>1</td>\n",
       "      <td>2</td>\n",
       "      <td>1484.005</td>\n",
       "      <td>1630.700</td>\n",
       "      <td>-146.695</td>\n",
       "      <td>-124</td>\n",
       "      <td>lose</td>\n",
       "      <td>lose</td>\n",
       "    </tr>\n",
       "    <tr>\n",
       "      <th>1591</th>\n",
       "      <td>Chile</td>\n",
       "      <td>Sweden</td>\n",
       "      <td>0</td>\n",
       "      <td>2</td>\n",
       "      <td>1298.945</td>\n",
       "      <td>1464.305</td>\n",
       "      <td>-165.360</td>\n",
       "      <td>-58</td>\n",
       "      <td>lose</td>\n",
       "      <td>lose</td>\n",
       "    </tr>\n",
       "    <tr>\n",
       "      <th>1588</th>\n",
       "      <td>Argentina</td>\n",
       "      <td>Japan</td>\n",
       "      <td>0</td>\n",
       "      <td>0</td>\n",
       "      <td>1320.650</td>\n",
       "      <td>1502.040</td>\n",
       "      <td>-181.390</td>\n",
       "      <td>-50</td>\n",
       "      <td>tie</td>\n",
       "      <td>lose</td>\n",
       "    </tr>\n",
       "    <tr>\n",
       "      <th>1606</th>\n",
       "      <td>South Korea</td>\n",
       "      <td>Norway</td>\n",
       "      <td>1</td>\n",
       "      <td>2</td>\n",
       "      <td>1305.700</td>\n",
       "      <td>1499.200</td>\n",
       "      <td>-193.500</td>\n",
       "      <td>-6</td>\n",
       "      <td>lose</td>\n",
       "      <td>lose</td>\n",
       "    </tr>\n",
       "    <tr>\n",
       "      <th>1598</th>\n",
       "      <td>Jamaica</td>\n",
       "      <td>Italy</td>\n",
       "      <td>0</td>\n",
       "      <td>5</td>\n",
       "      <td>1286.660</td>\n",
       "      <td>1487.810</td>\n",
       "      <td>-201.150</td>\n",
       "      <td>-45</td>\n",
       "      <td>lose</td>\n",
       "      <td>lose</td>\n",
       "    </tr>\n",
       "    <tr>\n",
       "      <th>1607</th>\n",
       "      <td>South Africa</td>\n",
       "      <td>Germany</td>\n",
       "      <td>0</td>\n",
       "      <td>4</td>\n",
       "      <td>1223.335</td>\n",
       "      <td>1603.070</td>\n",
       "      <td>-379.735</td>\n",
       "      <td>-18</td>\n",
       "      <td>lose</td>\n",
       "      <td>lose</td>\n",
       "    </tr>\n",
       "  </tbody>\n",
       "</table>\n",
       "</div>"
      ],
      "text/plain": [
       "          home_team      away_team  home_score  away_score     elo_h  \\\n",
       "1604  United States          Chile           3           0  1601.900   \n",
       "1620        England       Cameroon           3           0  1637.095   \n",
       "1592  United States       Thailand          13           0  1591.880   \n",
       "1600        England      Argentina           1           0  1605.115   \n",
       "1581         France    South Korea           4           0  1598.300   \n",
       "1584          Spain   South Africa           3           1  1505.965   \n",
       "1621         France         Brazil           2           1  1644.620   \n",
       "1605         France        Nigeria           1           0  1632.080   \n",
       "1618        Germany        Nigeria           3           0  1609.130   \n",
       "1603         Sweden       Thailand           5           1  1481.045   \n",
       "1583        Germany       China PR           1           0  1562.270   \n",
       "1602         Canada    New Zealand           2           0  1453.785   \n",
       "1601    Netherlands       Cameroon           3           1  1470.810   \n",
       "1610          Italy         Brazil           0           1  1502.150   \n",
       "1632        England         Sweden           1           2  1635.655   \n",
       "1629        Germany         Sweden           1           2  1622.270   \n",
       "1633  United States    Netherlands           2           0  1708.100   \n",
       "1587        England       Scotland           2           1  1584.295   \n",
       "1582         Norway        Nigeria           3           0  1500.520   \n",
       "1612       Scotland      Argentina           3           3  1426.550   \n",
       "1619         Norway      Australia           1           1  1514.020   \n",
       "1589         Canada       Cameroon           1           0  1431.525   \n",
       "1594         France         Norway           2           1  1609.520   \n",
       "1624          Italy       China PR           2           0  1459.910   \n",
       "1595        Germany          Spain           1           0  1578.290   \n",
       "1586         Brazil        Jamaica           3           0  1356.875   \n",
       "1593        Nigeria    South Korea           2           0  1374.680   \n",
       "1599          Japan       Scotland           2           1  1487.640   \n",
       "1623         Sweden         Canada           1           0  1476.305   \n",
       "1631    Netherlands         Sweden           1           0  1569.690   \n",
       "1625    Netherlands          Japan           2           1  1516.890   \n",
       "1614       Cameroon    New Zealand           2           1  1300.140   \n",
       "1613    Netherlands         Canada           2           1  1488.390   \n",
       "1616       Thailand          Chile           0           2  1287.210   \n",
       "1627         France  United States           1           2  1656.080   \n",
       "1630        England  United States           1           2  1664.335   \n",
       "1597      Australia         Brazil           3           2  1365.405   \n",
       "1628          Italy    Netherlands           0           2  1484.690   \n",
       "1585      Australia          Italy           1           2  1388.985   \n",
       "1611          Japan        England           0           2  1514.700   \n",
       "1608       China PR          Spain           0           0  1390.165   \n",
       "1615         Sweden  United States           0           2  1496.885   \n",
       "1609        Jamaica      Australia           1           4  1272.320   \n",
       "1596   South Africa       China PR           0           1  1242.775   \n",
       "1590    New Zealand    Netherlands           0           1  1319.160   \n",
       "1626         Norway        England           0           3  1505.800   \n",
       "1622          Spain  United States           1           2  1484.005   \n",
       "1591          Chile         Sweden           0           2  1298.945   \n",
       "1588      Argentina          Japan           0           0  1320.650   \n",
       "1606    South Korea         Norway           1           2  1305.700   \n",
       "1598        Jamaica          Italy           0           5  1286.660   \n",
       "1607   South Africa        Germany           0           4  1223.335   \n",
       "\n",
       "         elo_a  elo_diff  experience_diff Actual Predicted  \n",
       "1604  1282.205   319.695              161    win       win  \n",
       "1620  1328.640   308.455               31    win       win  \n",
       "1592  1313.070   278.810              142    win       win  \n",
       "1600  1335.050   270.065               54    win       win  \n",
       "1581  1343.260   255.040                0    win       win  \n",
       "1584  1254.175   251.790               -9    win       win  \n",
       "1621  1393.835   250.785               16    win       win  \n",
       "1605  1401.020   231.060               23    win       win  \n",
       "1618  1388.480   220.650               36    win       win  \n",
       "1603  1303.050   177.995               39    win       win  \n",
       "1583  1386.745   175.525               -7    win       win  \n",
       "1602  1300.080   153.705               19    win       win  \n",
       "1601  1317.720   153.090               23    win       win  \n",
       "1610  1351.595   150.555               16   lose       win  \n",
       "1632  1515.605   120.050               -3   lose       win  \n",
       "1629  1503.425   118.845                6   lose       win  \n",
       "1633  1597.410   110.690              114    win       win  \n",
       "1587  1474.430   109.865               11    win       win  \n",
       "1582  1395.920   104.600               29    win       win  \n",
       "1612  1324.610   101.940               43    tie       win  \n",
       "1619  1416.585    97.435               21    tie       win  \n",
       "1589  1339.980    91.545               34    win       win  \n",
       "1594  1521.760    87.760               -6    win       win  \n",
       "1624  1398.745    61.165              -20    win      lose  \n",
       "1595  1517.365    60.925               27    win       win  \n",
       "1586  1312.880    43.995               29    win       win  \n",
       "1593  1332.040    42.640              -23    win      lose  \n",
       "1599  1453.610    34.030                7    win       win  \n",
       "1623  1442.805    33.500                0    win       win  \n",
       "1631  1543.325    26.365              -11    win      lose  \n",
       "1625  1493.160    23.730               -4    win      lose  \n",
       "1614  1282.560    17.580              -15    win      lose  \n",
       "1613  1471.305    17.085              -11    win      lose  \n",
       "1616  1273.985    13.225               19   lose       win  \n",
       "1627  1648.760     7.320             -110   lose      lose  \n",
       "1630  1679.420   -15.085             -106   lose      lose  \n",
       "1597  1383.095   -17.690                1    win      lose  \n",
       "1628  1544.850   -60.160                4   lose      lose  \n",
       "1585  1464.230   -75.245              -15   lose      lose  \n",
       "1611  1615.555  -100.855               -4   lose      lose  \n",
       "1608  1492.585  -102.420               34    tie       win  \n",
       "1615  1610.120  -113.235             -103   lose      lose  \n",
       "1609  1396.905  -124.585              -30   lose      lose  \n",
       "1596  1370.725  -127.950              -25   lose      lose  \n",
       "1590  1451.730  -132.570               -8   lose      lose  \n",
       "1626  1645.795  -139.995                2   lose      lose  \n",
       "1622  1630.700  -146.695             -124   lose      lose  \n",
       "1591  1464.305  -165.360              -58   lose      lose  \n",
       "1588  1502.040  -181.390              -50    tie      lose  \n",
       "1606  1499.200  -193.500               -6   lose      lose  \n",
       "1598  1487.810  -201.150              -45   lose      lose  \n",
       "1607  1603.070  -379.735              -18   lose      lose  "
      ]
     },
     "execution_count": 536,
     "metadata": {},
     "output_type": "execute_result"
    }
   ],
   "source": [
    "#Look into prediction details\n",
    "test_df = df_2011_2019_new[(df_2011_2019_new['date_Y'] == 2019) & (df_2011_2019_new['tournament'] == 'FIFA World Cup')]\n",
    "X_train, X_test, y_train, y_test = split_train_test_1(df_2011_2019_new, 2019)\n",
    "model = LogisticRegression()\n",
    "model.fit(X_train, y_train)\n",
    "predictions = model.predict(X_test)\n",
    "results_df = pd.DataFrame({'Actual': y_test, 'Predicted': predictions})\n",
    "col_list =['home_team', 'away_team', 'home_score', 'away_score', 'elo_h', 'elo_a', 'elo_diff','experience_diff']\n",
    "results_df = pd.concat([test_df[col_list], results_df], axis = 1)\n",
    "results_df.sort_values(by = 'elo_diff', ascending = False)"
   ]
  },
  {
   "cell_type": "code",
   "execution_count": 537,
   "id": "b34da7b9",
   "metadata": {},
   "outputs": [],
   "source": [
    "#try the model with only two features\n",
    "X_train, X_test, y_train, y_test = split_train_test_2(df_2011_2019_new, 2019)"
   ]
  },
  {
   "cell_type": "code",
   "execution_count": 538,
   "id": "c8f26622",
   "metadata": {},
   "outputs": [],
   "source": [
    "oversampler = RandomOverSampler(sampling_strategy={'tie':500}, random_state=42)\n",
    "X_train, y_train = oversampler.fit_resample(X_train, y_train)"
   ]
  },
  {
   "cell_type": "code",
   "execution_count": 539,
   "id": "19ac39f2",
   "metadata": {},
   "outputs": [],
   "source": [
    "#oversampler = SMOTE(sampling_strategy='auto', k_neighbors=3)\n",
    "#X_test, y_test = oversampler.fit_resample(X_test, y_test)"
   ]
  },
  {
   "cell_type": "code",
   "execution_count": 540,
   "id": "4d5b3e92",
   "metadata": {},
   "outputs": [
    {
     "name": "stdout",
     "output_type": "stream",
     "text": [
      "LogisticRegression Accuracy: 0.77\n",
      "RandomForestClassifier Accuracy: 0.67\n",
      "KNeighborsClassifier Accuracy: 0.56\n"
     ]
    }
   ],
   "source": [
    "for pipeline in pipelines:\n",
    "    pipeline.fit(X_train, y_train)\n",
    "    y_pred = pipeline.predict(X_test)\n",
    "    accuracy = accuracy_score(y_test, y_pred)\n",
    "    model_name = pipeline.steps[-1][1].__class__.__name__\n",
    "    print(f'{model_name} Accuracy: {accuracy:.2f}')"
   ]
  },
  {
   "cell_type": "code",
   "execution_count": 541,
   "id": "c0f12150",
   "metadata": {},
   "outputs": [
    {
     "name": "stdout",
     "output_type": "stream",
     "text": [
      "              precision    recall  f1-score   support\n",
      "\n",
      "        lose       0.70      0.84      0.76        19\n",
      "         tie       0.00      0.00      0.00         4\n",
      "         win       0.83      0.83      0.83        29\n",
      "\n",
      "    accuracy                           0.77        52\n",
      "   macro avg       0.51      0.56      0.53        52\n",
      "weighted avg       0.72      0.77      0.74        52\n",
      "\n"
     ]
    },
    {
     "data": {
      "image/png": "[encoded data removed]",
      "text/plain": [
       "<Figure size 300x300 with 2 Axes>"
      ]
     },
     "metadata": {},
     "output_type": "display_data"
    }
   ],
   "source": [
    "metrics_display(LogisticRegression())"
   ]
  },
  {
   "cell_type": "code",
   "execution_count": 542,
   "id": "5709656d",
   "metadata": {},
   "outputs": [
    {
     "data": {
      "text/html": [
       "<div>\n",
       "<style scoped>\n",
       "    .dataframe tbody tr th:only-of-type {\n",
       "        vertical-align: middle;\n",
       "    }\n",
       "\n",
       "    .dataframe tbody tr th {\n",
       "        vertical-align: top;\n",
       "    }\n",
       "\n",
       "    .dataframe thead th {\n",
       "        text-align: right;\n",
       "    }\n",
       "</style>\n",
       "<table border=\"1\" class=\"dataframe\">\n",
       "  <thead>\n",
       "    <tr style=\"text-align: right;\">\n",
       "      <th></th>\n",
       "      <th>home_team</th>\n",
       "      <th>away_team</th>\n",
       "      <th>home_score</th>\n",
       "      <th>away_score</th>\n",
       "      <th>elo_h</th>\n",
       "      <th>elo_a</th>\n",
       "      <th>elo_diff</th>\n",
       "      <th>experience_diff</th>\n",
       "      <th>Actual</th>\n",
       "      <th>Predicted</th>\n",
       "    </tr>\n",
       "  </thead>\n",
       "  <tbody>\n",
       "    <tr>\n",
       "      <th>1604</th>\n",
       "      <td>United States</td>\n",
       "      <td>Chile</td>\n",
       "      <td>3</td>\n",
       "      <td>0</td>\n",
       "      <td>1601.900</td>\n",
       "      <td>1282.205</td>\n",
       "      <td>319.695</td>\n",
       "      <td>161</td>\n",
       "      <td>win</td>\n",
       "      <td>win</td>\n",
       "    </tr>\n",
       "    <tr>\n",
       "      <th>1620</th>\n",
       "      <td>England</td>\n",
       "      <td>Cameroon</td>\n",
       "      <td>3</td>\n",
       "      <td>0</td>\n",
       "      <td>1637.095</td>\n",
       "      <td>1328.640</td>\n",
       "      <td>308.455</td>\n",
       "      <td>31</td>\n",
       "      <td>win</td>\n",
       "      <td>win</td>\n",
       "    </tr>\n",
       "    <tr>\n",
       "      <th>1592</th>\n",
       "      <td>United States</td>\n",
       "      <td>Thailand</td>\n",
       "      <td>13</td>\n",
       "      <td>0</td>\n",
       "      <td>1591.880</td>\n",
       "      <td>1313.070</td>\n",
       "      <td>278.810</td>\n",
       "      <td>142</td>\n",
       "      <td>win</td>\n",
       "      <td>win</td>\n",
       "    </tr>\n",
       "    <tr>\n",
       "      <th>1600</th>\n",
       "      <td>England</td>\n",
       "      <td>Argentina</td>\n",
       "      <td>1</td>\n",
       "      <td>0</td>\n",
       "      <td>1605.115</td>\n",
       "      <td>1335.050</td>\n",
       "      <td>270.065</td>\n",
       "      <td>54</td>\n",
       "      <td>win</td>\n",
       "      <td>win</td>\n",
       "    </tr>\n",
       "    <tr>\n",
       "      <th>1581</th>\n",
       "      <td>France</td>\n",
       "      <td>South Korea</td>\n",
       "      <td>4</td>\n",
       "      <td>0</td>\n",
       "      <td>1598.300</td>\n",
       "      <td>1343.260</td>\n",
       "      <td>255.040</td>\n",
       "      <td>0</td>\n",
       "      <td>win</td>\n",
       "      <td>win</td>\n",
       "    </tr>\n",
       "    <tr>\n",
       "      <th>1584</th>\n",
       "      <td>Spain</td>\n",
       "      <td>South Africa</td>\n",
       "      <td>3</td>\n",
       "      <td>1</td>\n",
       "      <td>1505.965</td>\n",
       "      <td>1254.175</td>\n",
       "      <td>251.790</td>\n",
       "      <td>-9</td>\n",
       "      <td>win</td>\n",
       "      <td>win</td>\n",
       "    </tr>\n",
       "    <tr>\n",
       "      <th>1621</th>\n",
       "      <td>France</td>\n",
       "      <td>Brazil</td>\n",
       "      <td>2</td>\n",
       "      <td>1</td>\n",
       "      <td>1644.620</td>\n",
       "      <td>1393.835</td>\n",
       "      <td>250.785</td>\n",
       "      <td>16</td>\n",
       "      <td>win</td>\n",
       "      <td>win</td>\n",
       "    </tr>\n",
       "    <tr>\n",
       "      <th>1605</th>\n",
       "      <td>France</td>\n",
       "      <td>Nigeria</td>\n",
       "      <td>1</td>\n",
       "      <td>0</td>\n",
       "      <td>1632.080</td>\n",
       "      <td>1401.020</td>\n",
       "      <td>231.060</td>\n",
       "      <td>23</td>\n",
       "      <td>win</td>\n",
       "      <td>win</td>\n",
       "    </tr>\n",
       "    <tr>\n",
       "      <th>1618</th>\n",
       "      <td>Germany</td>\n",
       "      <td>Nigeria</td>\n",
       "      <td>3</td>\n",
       "      <td>0</td>\n",
       "      <td>1609.130</td>\n",
       "      <td>1388.480</td>\n",
       "      <td>220.650</td>\n",
       "      <td>36</td>\n",
       "      <td>win</td>\n",
       "      <td>win</td>\n",
       "    </tr>\n",
       "    <tr>\n",
       "      <th>1603</th>\n",
       "      <td>Sweden</td>\n",
       "      <td>Thailand</td>\n",
       "      <td>5</td>\n",
       "      <td>1</td>\n",
       "      <td>1481.045</td>\n",
       "      <td>1303.050</td>\n",
       "      <td>177.995</td>\n",
       "      <td>39</td>\n",
       "      <td>win</td>\n",
       "      <td>win</td>\n",
       "    </tr>\n",
       "    <tr>\n",
       "      <th>1583</th>\n",
       "      <td>Germany</td>\n",
       "      <td>China PR</td>\n",
       "      <td>1</td>\n",
       "      <td>0</td>\n",
       "      <td>1562.270</td>\n",
       "      <td>1386.745</td>\n",
       "      <td>175.525</td>\n",
       "      <td>-7</td>\n",
       "      <td>win</td>\n",
       "      <td>win</td>\n",
       "    </tr>\n",
       "    <tr>\n",
       "      <th>1602</th>\n",
       "      <td>Canada</td>\n",
       "      <td>New Zealand</td>\n",
       "      <td>2</td>\n",
       "      <td>0</td>\n",
       "      <td>1453.785</td>\n",
       "      <td>1300.080</td>\n",
       "      <td>153.705</td>\n",
       "      <td>19</td>\n",
       "      <td>win</td>\n",
       "      <td>win</td>\n",
       "    </tr>\n",
       "    <tr>\n",
       "      <th>1601</th>\n",
       "      <td>Netherlands</td>\n",
       "      <td>Cameroon</td>\n",
       "      <td>3</td>\n",
       "      <td>1</td>\n",
       "      <td>1470.810</td>\n",
       "      <td>1317.720</td>\n",
       "      <td>153.090</td>\n",
       "      <td>23</td>\n",
       "      <td>win</td>\n",
       "      <td>win</td>\n",
       "    </tr>\n",
       "    <tr>\n",
       "      <th>1610</th>\n",
       "      <td>Italy</td>\n",
       "      <td>Brazil</td>\n",
       "      <td>0</td>\n",
       "      <td>1</td>\n",
       "      <td>1502.150</td>\n",
       "      <td>1351.595</td>\n",
       "      <td>150.555</td>\n",
       "      <td>16</td>\n",
       "      <td>lose</td>\n",
       "      <td>win</td>\n",
       "    </tr>\n",
       "    <tr>\n",
       "      <th>1632</th>\n",
       "      <td>England</td>\n",
       "      <td>Sweden</td>\n",
       "      <td>1</td>\n",
       "      <td>2</td>\n",
       "      <td>1635.655</td>\n",
       "      <td>1515.605</td>\n",
       "      <td>120.050</td>\n",
       "      <td>-3</td>\n",
       "      <td>lose</td>\n",
       "      <td>win</td>\n",
       "    </tr>\n",
       "    <tr>\n",
       "      <th>1629</th>\n",
       "      <td>Germany</td>\n",
       "      <td>Sweden</td>\n",
       "      <td>1</td>\n",
       "      <td>2</td>\n",
       "      <td>1622.270</td>\n",
       "      <td>1503.425</td>\n",
       "      <td>118.845</td>\n",
       "      <td>6</td>\n",
       "      <td>lose</td>\n",
       "      <td>win</td>\n",
       "    </tr>\n",
       "    <tr>\n",
       "      <th>1633</th>\n",
       "      <td>United States</td>\n",
       "      <td>Netherlands</td>\n",
       "      <td>2</td>\n",
       "      <td>0</td>\n",
       "      <td>1708.100</td>\n",
       "      <td>1597.410</td>\n",
       "      <td>110.690</td>\n",
       "      <td>114</td>\n",
       "      <td>win</td>\n",
       "      <td>win</td>\n",
       "    </tr>\n",
       "    <tr>\n",
       "      <th>1587</th>\n",
       "      <td>England</td>\n",
       "      <td>Scotland</td>\n",
       "      <td>2</td>\n",
       "      <td>1</td>\n",
       "      <td>1584.295</td>\n",
       "      <td>1474.430</td>\n",
       "      <td>109.865</td>\n",
       "      <td>11</td>\n",
       "      <td>win</td>\n",
       "      <td>win</td>\n",
       "    </tr>\n",
       "    <tr>\n",
       "      <th>1582</th>\n",
       "      <td>Norway</td>\n",
       "      <td>Nigeria</td>\n",
       "      <td>3</td>\n",
       "      <td>0</td>\n",
       "      <td>1500.520</td>\n",
       "      <td>1395.920</td>\n",
       "      <td>104.600</td>\n",
       "      <td>29</td>\n",
       "      <td>win</td>\n",
       "      <td>win</td>\n",
       "    </tr>\n",
       "    <tr>\n",
       "      <th>1612</th>\n",
       "      <td>Scotland</td>\n",
       "      <td>Argentina</td>\n",
       "      <td>3</td>\n",
       "      <td>3</td>\n",
       "      <td>1426.550</td>\n",
       "      <td>1324.610</td>\n",
       "      <td>101.940</td>\n",
       "      <td>43</td>\n",
       "      <td>tie</td>\n",
       "      <td>win</td>\n",
       "    </tr>\n",
       "    <tr>\n",
       "      <th>1619</th>\n",
       "      <td>Norway</td>\n",
       "      <td>Australia</td>\n",
       "      <td>1</td>\n",
       "      <td>1</td>\n",
       "      <td>1514.020</td>\n",
       "      <td>1416.585</td>\n",
       "      <td>97.435</td>\n",
       "      <td>21</td>\n",
       "      <td>tie</td>\n",
       "      <td>win</td>\n",
       "    </tr>\n",
       "    <tr>\n",
       "      <th>1589</th>\n",
       "      <td>Canada</td>\n",
       "      <td>Cameroon</td>\n",
       "      <td>1</td>\n",
       "      <td>0</td>\n",
       "      <td>1431.525</td>\n",
       "      <td>1339.980</td>\n",
       "      <td>91.545</td>\n",
       "      <td>34</td>\n",
       "      <td>win</td>\n",
       "      <td>win</td>\n",
       "    </tr>\n",
       "    <tr>\n",
       "      <th>1594</th>\n",
       "      <td>France</td>\n",
       "      <td>Norway</td>\n",
       "      <td>2</td>\n",
       "      <td>1</td>\n",
       "      <td>1609.520</td>\n",
       "      <td>1521.760</td>\n",
       "      <td>87.760</td>\n",
       "      <td>-6</td>\n",
       "      <td>win</td>\n",
       "      <td>win</td>\n",
       "    </tr>\n",
       "    <tr>\n",
       "      <th>1624</th>\n",
       "      <td>Italy</td>\n",
       "      <td>China PR</td>\n",
       "      <td>2</td>\n",
       "      <td>0</td>\n",
       "      <td>1459.910</td>\n",
       "      <td>1398.745</td>\n",
       "      <td>61.165</td>\n",
       "      <td>-20</td>\n",
       "      <td>win</td>\n",
       "      <td>win</td>\n",
       "    </tr>\n",
       "    <tr>\n",
       "      <th>1595</th>\n",
       "      <td>Germany</td>\n",
       "      <td>Spain</td>\n",
       "      <td>1</td>\n",
       "      <td>0</td>\n",
       "      <td>1578.290</td>\n",
       "      <td>1517.365</td>\n",
       "      <td>60.925</td>\n",
       "      <td>27</td>\n",
       "      <td>win</td>\n",
       "      <td>win</td>\n",
       "    </tr>\n",
       "    <tr>\n",
       "      <th>1586</th>\n",
       "      <td>Brazil</td>\n",
       "      <td>Jamaica</td>\n",
       "      <td>3</td>\n",
       "      <td>0</td>\n",
       "      <td>1356.875</td>\n",
       "      <td>1312.880</td>\n",
       "      <td>43.995</td>\n",
       "      <td>29</td>\n",
       "      <td>win</td>\n",
       "      <td>win</td>\n",
       "    </tr>\n",
       "    <tr>\n",
       "      <th>1593</th>\n",
       "      <td>Nigeria</td>\n",
       "      <td>South Korea</td>\n",
       "      <td>2</td>\n",
       "      <td>0</td>\n",
       "      <td>1374.680</td>\n",
       "      <td>1332.040</td>\n",
       "      <td>42.640</td>\n",
       "      <td>-23</td>\n",
       "      <td>win</td>\n",
       "      <td>win</td>\n",
       "    </tr>\n",
       "    <tr>\n",
       "      <th>1599</th>\n",
       "      <td>Japan</td>\n",
       "      <td>Scotland</td>\n",
       "      <td>2</td>\n",
       "      <td>1</td>\n",
       "      <td>1487.640</td>\n",
       "      <td>1453.610</td>\n",
       "      <td>34.030</td>\n",
       "      <td>7</td>\n",
       "      <td>win</td>\n",
       "      <td>win</td>\n",
       "    </tr>\n",
       "    <tr>\n",
       "      <th>1623</th>\n",
       "      <td>Sweden</td>\n",
       "      <td>Canada</td>\n",
       "      <td>1</td>\n",
       "      <td>0</td>\n",
       "      <td>1476.305</td>\n",
       "      <td>1442.805</td>\n",
       "      <td>33.500</td>\n",
       "      <td>0</td>\n",
       "      <td>win</td>\n",
       "      <td>win</td>\n",
       "    </tr>\n",
       "    <tr>\n",
       "      <th>1631</th>\n",
       "      <td>Netherlands</td>\n",
       "      <td>Sweden</td>\n",
       "      <td>1</td>\n",
       "      <td>0</td>\n",
       "      <td>1569.690</td>\n",
       "      <td>1543.325</td>\n",
       "      <td>26.365</td>\n",
       "      <td>-11</td>\n",
       "      <td>win</td>\n",
       "      <td>lose</td>\n",
       "    </tr>\n",
       "    <tr>\n",
       "      <th>1625</th>\n",
       "      <td>Netherlands</td>\n",
       "      <td>Japan</td>\n",
       "      <td>2</td>\n",
       "      <td>1</td>\n",
       "      <td>1516.890</td>\n",
       "      <td>1493.160</td>\n",
       "      <td>23.730</td>\n",
       "      <td>-4</td>\n",
       "      <td>win</td>\n",
       "      <td>lose</td>\n",
       "    </tr>\n",
       "    <tr>\n",
       "      <th>1614</th>\n",
       "      <td>Cameroon</td>\n",
       "      <td>New Zealand</td>\n",
       "      <td>2</td>\n",
       "      <td>1</td>\n",
       "      <td>1300.140</td>\n",
       "      <td>1282.560</td>\n",
       "      <td>17.580</td>\n",
       "      <td>-15</td>\n",
       "      <td>win</td>\n",
       "      <td>lose</td>\n",
       "    </tr>\n",
       "    <tr>\n",
       "      <th>1613</th>\n",
       "      <td>Netherlands</td>\n",
       "      <td>Canada</td>\n",
       "      <td>2</td>\n",
       "      <td>1</td>\n",
       "      <td>1488.390</td>\n",
       "      <td>1471.305</td>\n",
       "      <td>17.085</td>\n",
       "      <td>-11</td>\n",
       "      <td>win</td>\n",
       "      <td>lose</td>\n",
       "    </tr>\n",
       "    <tr>\n",
       "      <th>1616</th>\n",
       "      <td>Thailand</td>\n",
       "      <td>Chile</td>\n",
       "      <td>0</td>\n",
       "      <td>2</td>\n",
       "      <td>1287.210</td>\n",
       "      <td>1273.985</td>\n",
       "      <td>13.225</td>\n",
       "      <td>19</td>\n",
       "      <td>lose</td>\n",
       "      <td>lose</td>\n",
       "    </tr>\n",
       "    <tr>\n",
       "      <th>1627</th>\n",
       "      <td>France</td>\n",
       "      <td>United States</td>\n",
       "      <td>1</td>\n",
       "      <td>2</td>\n",
       "      <td>1656.080</td>\n",
       "      <td>1648.760</td>\n",
       "      <td>7.320</td>\n",
       "      <td>-110</td>\n",
       "      <td>lose</td>\n",
       "      <td>lose</td>\n",
       "    </tr>\n",
       "    <tr>\n",
       "      <th>1630</th>\n",
       "      <td>England</td>\n",
       "      <td>United States</td>\n",
       "      <td>1</td>\n",
       "      <td>2</td>\n",
       "      <td>1664.335</td>\n",
       "      <td>1679.420</td>\n",
       "      <td>-15.085</td>\n",
       "      <td>-106</td>\n",
       "      <td>lose</td>\n",
       "      <td>lose</td>\n",
       "    </tr>\n",
       "    <tr>\n",
       "      <th>1597</th>\n",
       "      <td>Australia</td>\n",
       "      <td>Brazil</td>\n",
       "      <td>3</td>\n",
       "      <td>2</td>\n",
       "      <td>1365.405</td>\n",
       "      <td>1383.095</td>\n",
       "      <td>-17.690</td>\n",
       "      <td>1</td>\n",
       "      <td>win</td>\n",
       "      <td>lose</td>\n",
       "    </tr>\n",
       "    <tr>\n",
       "      <th>1628</th>\n",
       "      <td>Italy</td>\n",
       "      <td>Netherlands</td>\n",
       "      <td>0</td>\n",
       "      <td>2</td>\n",
       "      <td>1484.690</td>\n",
       "      <td>1544.850</td>\n",
       "      <td>-60.160</td>\n",
       "      <td>4</td>\n",
       "      <td>lose</td>\n",
       "      <td>lose</td>\n",
       "    </tr>\n",
       "    <tr>\n",
       "      <th>1585</th>\n",
       "      <td>Australia</td>\n",
       "      <td>Italy</td>\n",
       "      <td>1</td>\n",
       "      <td>2</td>\n",
       "      <td>1388.985</td>\n",
       "      <td>1464.230</td>\n",
       "      <td>-75.245</td>\n",
       "      <td>-15</td>\n",
       "      <td>lose</td>\n",
       "      <td>lose</td>\n",
       "    </tr>\n",
       "    <tr>\n",
       "      <th>1611</th>\n",
       "      <td>Japan</td>\n",
       "      <td>England</td>\n",
       "      <td>0</td>\n",
       "      <td>2</td>\n",
       "      <td>1514.700</td>\n",
       "      <td>1615.555</td>\n",
       "      <td>-100.855</td>\n",
       "      <td>-4</td>\n",
       "      <td>lose</td>\n",
       "      <td>lose</td>\n",
       "    </tr>\n",
       "    <tr>\n",
       "      <th>1608</th>\n",
       "      <td>China PR</td>\n",
       "      <td>Spain</td>\n",
       "      <td>0</td>\n",
       "      <td>0</td>\n",
       "      <td>1390.165</td>\n",
       "      <td>1492.585</td>\n",
       "      <td>-102.420</td>\n",
       "      <td>34</td>\n",
       "      <td>tie</td>\n",
       "      <td>lose</td>\n",
       "    </tr>\n",
       "    <tr>\n",
       "      <th>1615</th>\n",
       "      <td>Sweden</td>\n",
       "      <td>United States</td>\n",
       "      <td>0</td>\n",
       "      <td>2</td>\n",
       "      <td>1496.885</td>\n",
       "      <td>1610.120</td>\n",
       "      <td>-113.235</td>\n",
       "      <td>-103</td>\n",
       "      <td>lose</td>\n",
       "      <td>lose</td>\n",
       "    </tr>\n",
       "    <tr>\n",
       "      <th>1609</th>\n",
       "      <td>Jamaica</td>\n",
       "      <td>Australia</td>\n",
       "      <td>1</td>\n",
       "      <td>4</td>\n",
       "      <td>1272.320</td>\n",
       "      <td>1396.905</td>\n",
       "      <td>-124.585</td>\n",
       "      <td>-30</td>\n",
       "      <td>lose</td>\n",
       "      <td>lose</td>\n",
       "    </tr>\n",
       "    <tr>\n",
       "      <th>1596</th>\n",
       "      <td>South Africa</td>\n",
       "      <td>China PR</td>\n",
       "      <td>0</td>\n",
       "      <td>1</td>\n",
       "      <td>1242.775</td>\n",
       "      <td>1370.725</td>\n",
       "      <td>-127.950</td>\n",
       "      <td>-25</td>\n",
       "      <td>lose</td>\n",
       "      <td>lose</td>\n",
       "    </tr>\n",
       "    <tr>\n",
       "      <th>1590</th>\n",
       "      <td>New Zealand</td>\n",
       "      <td>Netherlands</td>\n",
       "      <td>0</td>\n",
       "      <td>1</td>\n",
       "      <td>1319.160</td>\n",
       "      <td>1451.730</td>\n",
       "      <td>-132.570</td>\n",
       "      <td>-8</td>\n",
       "      <td>lose</td>\n",
       "      <td>lose</td>\n",
       "    </tr>\n",
       "    <tr>\n",
       "      <th>1626</th>\n",
       "      <td>Norway</td>\n",
       "      <td>England</td>\n",
       "      <td>0</td>\n",
       "      <td>3</td>\n",
       "      <td>1505.800</td>\n",
       "      <td>1645.795</td>\n",
       "      <td>-139.995</td>\n",
       "      <td>2</td>\n",
       "      <td>lose</td>\n",
       "      <td>lose</td>\n",
       "    </tr>\n",
       "    <tr>\n",
       "      <th>1622</th>\n",
       "      <td>Spain</td>\n",
       "      <td>United States</td>\n",
       "      <td>1</td>\n",
       "      <td>2</td>\n",
       "      <td>1484.005</td>\n",
       "      <td>1630.700</td>\n",
       "      <td>-146.695</td>\n",
       "      <td>-124</td>\n",
       "      <td>lose</td>\n",
       "      <td>lose</td>\n",
       "    </tr>\n",
       "    <tr>\n",
       "      <th>1591</th>\n",
       "      <td>Chile</td>\n",
       "      <td>Sweden</td>\n",
       "      <td>0</td>\n",
       "      <td>2</td>\n",
       "      <td>1298.945</td>\n",
       "      <td>1464.305</td>\n",
       "      <td>-165.360</td>\n",
       "      <td>-58</td>\n",
       "      <td>lose</td>\n",
       "      <td>lose</td>\n",
       "    </tr>\n",
       "    <tr>\n",
       "      <th>1588</th>\n",
       "      <td>Argentina</td>\n",
       "      <td>Japan</td>\n",
       "      <td>0</td>\n",
       "      <td>0</td>\n",
       "      <td>1320.650</td>\n",
       "      <td>1502.040</td>\n",
       "      <td>-181.390</td>\n",
       "      <td>-50</td>\n",
       "      <td>tie</td>\n",
       "      <td>lose</td>\n",
       "    </tr>\n",
       "    <tr>\n",
       "      <th>1606</th>\n",
       "      <td>South Korea</td>\n",
       "      <td>Norway</td>\n",
       "      <td>1</td>\n",
       "      <td>2</td>\n",
       "      <td>1305.700</td>\n",
       "      <td>1499.200</td>\n",
       "      <td>-193.500</td>\n",
       "      <td>-6</td>\n",
       "      <td>lose</td>\n",
       "      <td>lose</td>\n",
       "    </tr>\n",
       "    <tr>\n",
       "      <th>1598</th>\n",
       "      <td>Jamaica</td>\n",
       "      <td>Italy</td>\n",
       "      <td>0</td>\n",
       "      <td>5</td>\n",
       "      <td>1286.660</td>\n",
       "      <td>1487.810</td>\n",
       "      <td>-201.150</td>\n",
       "      <td>-45</td>\n",
       "      <td>lose</td>\n",
       "      <td>lose</td>\n",
       "    </tr>\n",
       "    <tr>\n",
       "      <th>1607</th>\n",
       "      <td>South Africa</td>\n",
       "      <td>Germany</td>\n",
       "      <td>0</td>\n",
       "      <td>4</td>\n",
       "      <td>1223.335</td>\n",
       "      <td>1603.070</td>\n",
       "      <td>-379.735</td>\n",
       "      <td>-18</td>\n",
       "      <td>lose</td>\n",
       "      <td>lose</td>\n",
       "    </tr>\n",
       "  </tbody>\n",
       "</table>\n",
       "</div>"
      ],
      "text/plain": [
       "          home_team      away_team  home_score  away_score     elo_h  \\\n",
       "1604  United States          Chile           3           0  1601.900   \n",
       "1620        England       Cameroon           3           0  1637.095   \n",
       "1592  United States       Thailand          13           0  1591.880   \n",
       "1600        England      Argentina           1           0  1605.115   \n",
       "1581         France    South Korea           4           0  1598.300   \n",
       "1584          Spain   South Africa           3           1  1505.965   \n",
       "1621         France         Brazil           2           1  1644.620   \n",
       "1605         France        Nigeria           1           0  1632.080   \n",
       "1618        Germany        Nigeria           3           0  1609.130   \n",
       "1603         Sweden       Thailand           5           1  1481.045   \n",
       "1583        Germany       China PR           1           0  1562.270   \n",
       "1602         Canada    New Zealand           2           0  1453.785   \n",
       "1601    Netherlands       Cameroon           3           1  1470.810   \n",
       "1610          Italy         Brazil           0           1  1502.150   \n",
       "1632        England         Sweden           1           2  1635.655   \n",
       "1629        Germany         Sweden           1           2  1622.270   \n",
       "1633  United States    Netherlands           2           0  1708.100   \n",
       "1587        England       Scotland           2           1  1584.295   \n",
       "1582         Norway        Nigeria           3           0  1500.520   \n",
       "1612       Scotland      Argentina           3           3  1426.550   \n",
       "1619         Norway      Australia           1           1  1514.020   \n",
       "1589         Canada       Cameroon           1           0  1431.525   \n",
       "1594         France         Norway           2           1  1609.520   \n",
       "1624          Italy       China PR           2           0  1459.910   \n",
       "1595        Germany          Spain           1           0  1578.290   \n",
       "1586         Brazil        Jamaica           3           0  1356.875   \n",
       "1593        Nigeria    South Korea           2           0  1374.680   \n",
       "1599          Japan       Scotland           2           1  1487.640   \n",
       "1623         Sweden         Canada           1           0  1476.305   \n",
       "1631    Netherlands         Sweden           1           0  1569.690   \n",
       "1625    Netherlands          Japan           2           1  1516.890   \n",
       "1614       Cameroon    New Zealand           2           1  1300.140   \n",
       "1613    Netherlands         Canada           2           1  1488.390   \n",
       "1616       Thailand          Chile           0           2  1287.210   \n",
       "1627         France  United States           1           2  1656.080   \n",
       "1630        England  United States           1           2  1664.335   \n",
       "1597      Australia         Brazil           3           2  1365.405   \n",
       "1628          Italy    Netherlands           0           2  1484.690   \n",
       "1585      Australia          Italy           1           2  1388.985   \n",
       "1611          Japan        England           0           2  1514.700   \n",
       "1608       China PR          Spain           0           0  1390.165   \n",
       "1615         Sweden  United States           0           2  1496.885   \n",
       "1609        Jamaica      Australia           1           4  1272.320   \n",
       "1596   South Africa       China PR           0           1  1242.775   \n",
       "1590    New Zealand    Netherlands           0           1  1319.160   \n",
       "1626         Norway        England           0           3  1505.800   \n",
       "1622          Spain  United States           1           2  1484.005   \n",
       "1591          Chile         Sweden           0           2  1298.945   \n",
       "1588      Argentina          Japan           0           0  1320.650   \n",
       "1606    South Korea         Norway           1           2  1305.700   \n",
       "1598        Jamaica          Italy           0           5  1286.660   \n",
       "1607   South Africa        Germany           0           4  1223.335   \n",
       "\n",
       "         elo_a  elo_diff  experience_diff Actual Predicted  \n",
       "1604  1282.205   319.695              161    win       win  \n",
       "1620  1328.640   308.455               31    win       win  \n",
       "1592  1313.070   278.810              142    win       win  \n",
       "1600  1335.050   270.065               54    win       win  \n",
       "1581  1343.260   255.040                0    win       win  \n",
       "1584  1254.175   251.790               -9    win       win  \n",
       "1621  1393.835   250.785               16    win       win  \n",
       "1605  1401.020   231.060               23    win       win  \n",
       "1618  1388.480   220.650               36    win       win  \n",
       "1603  1303.050   177.995               39    win       win  \n",
       "1583  1386.745   175.525               -7    win       win  \n",
       "1602  1300.080   153.705               19    win       win  \n",
       "1601  1317.720   153.090               23    win       win  \n",
       "1610  1351.595   150.555               16   lose       win  \n",
       "1632  1515.605   120.050               -3   lose       win  \n",
       "1629  1503.425   118.845                6   lose       win  \n",
       "1633  1597.410   110.690              114    win       win  \n",
       "1587  1474.430   109.865               11    win       win  \n",
       "1582  1395.920   104.600               29    win       win  \n",
       "1612  1324.610   101.940               43    tie       win  \n",
       "1619  1416.585    97.435               21    tie       win  \n",
       "1589  1339.980    91.545               34    win       win  \n",
       "1594  1521.760    87.760               -6    win       win  \n",
       "1624  1398.745    61.165              -20    win       win  \n",
       "1595  1517.365    60.925               27    win       win  \n",
       "1586  1312.880    43.995               29    win       win  \n",
       "1593  1332.040    42.640              -23    win       win  \n",
       "1599  1453.610    34.030                7    win       win  \n",
       "1623  1442.805    33.500                0    win       win  \n",
       "1631  1543.325    26.365              -11    win      lose  \n",
       "1625  1493.160    23.730               -4    win      lose  \n",
       "1614  1282.560    17.580              -15    win      lose  \n",
       "1613  1471.305    17.085              -11    win      lose  \n",
       "1616  1273.985    13.225               19   lose      lose  \n",
       "1627  1648.760     7.320             -110   lose      lose  \n",
       "1630  1679.420   -15.085             -106   lose      lose  \n",
       "1597  1383.095   -17.690                1    win      lose  \n",
       "1628  1544.850   -60.160                4   lose      lose  \n",
       "1585  1464.230   -75.245              -15   lose      lose  \n",
       "1611  1615.555  -100.855               -4   lose      lose  \n",
       "1608  1492.585  -102.420               34    tie      lose  \n",
       "1615  1610.120  -113.235             -103   lose      lose  \n",
       "1609  1396.905  -124.585              -30   lose      lose  \n",
       "1596  1370.725  -127.950              -25   lose      lose  \n",
       "1590  1451.730  -132.570               -8   lose      lose  \n",
       "1626  1645.795  -139.995                2   lose      lose  \n",
       "1622  1630.700  -146.695             -124   lose      lose  \n",
       "1591  1464.305  -165.360              -58   lose      lose  \n",
       "1588  1502.040  -181.390              -50    tie      lose  \n",
       "1606  1499.200  -193.500               -6   lose      lose  \n",
       "1598  1487.810  -201.150              -45   lose      lose  \n",
       "1607  1603.070  -379.735              -18   lose      lose  "
      ]
     },
     "execution_count": 542,
     "metadata": {},
     "output_type": "execute_result"
    }
   ],
   "source": [
    "#Look into prediction details of model2\n",
    "X_train, X_test, y_train, y_test = split_train_test_2(df_2011_2019_new, 2019)\n",
    "model = LogisticRegression()\n",
    "model.fit(X_train, y_train)\n",
    "predictions = model.predict(X_test)\n",
    "results_df = pd.DataFrame({'Actual': y_test, 'Predicted': predictions})\n",
    "results_df = pd.concat([test_df[col_list], results_df], axis = 1)\n",
    "results_df.sort_values(by = 'elo_diff', ascending = False)"
   ]
  },
  {
   "cell_type": "markdown",
   "id": "892d4a6d",
   "metadata": {},
   "source": [
    "- Train on games between 2000 and 2020 to predict World Cup 2019"
   ]
  },
  {
   "cell_type": "code",
   "execution_count": 543,
   "id": "2795c6d7",
   "metadata": {},
   "outputs": [],
   "source": [
    "X_train, X_test, y_train, y_test = split_train_test_1(df_1999_2019_new, 2019)"
   ]
  },
  {
   "cell_type": "code",
   "execution_count": 544,
   "id": "d057d7e6",
   "metadata": {},
   "outputs": [
    {
     "data": {
      "text/plain": [
       "win     1628\n",
       "lose    1111\n",
       "tie      464\n",
       "Name: home_win, dtype: int64"
      ]
     },
     "execution_count": 544,
     "metadata": {},
     "output_type": "execute_result"
    }
   ],
   "source": [
    "y_train.value_counts()"
   ]
  },
  {
   "cell_type": "code",
   "execution_count": 545,
   "id": "35d1ef38",
   "metadata": {},
   "outputs": [
    {
     "data": {
      "text/plain": [
       "win     29\n",
       "lose    19\n",
       "tie      4\n",
       "Name: home_win, dtype: int64"
      ]
     },
     "execution_count": 545,
     "metadata": {},
     "output_type": "execute_result"
    }
   ],
   "source": [
    "y_test.value_counts()"
   ]
  },
  {
   "cell_type": "code",
   "execution_count": 546,
   "id": "80998610",
   "metadata": {},
   "outputs": [],
   "source": [
    "oversampler = RandomOverSampler(sampling_strategy={'tie':1000}, random_state=42)\n",
    "X_train, y_train = oversampler.fit_resample(X_train, y_train)"
   ]
  },
  {
   "cell_type": "code",
   "execution_count": 547,
   "id": "dad2266d",
   "metadata": {},
   "outputs": [],
   "source": [
    "#oversampler = SMOTE(sampling_strategy='auto', k_neighbors=3)\n",
    "#X_test, y_test = oversampler.fit_resample(X_test, y_test)"
   ]
  },
  {
   "cell_type": "code",
   "execution_count": 548,
   "id": "b86889cb",
   "metadata": {},
   "outputs": [
    {
     "name": "stdout",
     "output_type": "stream",
     "text": [
      "LogisticRegression Accuracy: 0.73\n",
      "RandomForestClassifier Accuracy: 0.65\n",
      "KNeighborsClassifier Accuracy: 0.46\n"
     ]
    }
   ],
   "source": [
    "for pipeline in pipelines:\n",
    "    pipeline.fit(X_train, y_train)\n",
    "    y_pred = pipeline.predict(X_test)\n",
    "    accuracy = accuracy_score(y_test, y_pred)\n",
    "    model_name = pipeline.steps[-1][1].__class__.__name__\n",
    "    print(f'{model_name} Accuracy: {accuracy:.2f}')"
   ]
  },
  {
   "cell_type": "code",
   "execution_count": 549,
   "id": "1dea3ea6",
   "metadata": {},
   "outputs": [
    {
     "name": "stdout",
     "output_type": "stream",
     "text": [
      "              precision    recall  f1-score   support\n",
      "\n",
      "        lose       0.60      0.63      0.62        19\n",
      "         tie       0.17      0.25      0.20         4\n",
      "         win       0.77      0.69      0.73        29\n",
      "\n",
      "    accuracy                           0.63        52\n",
      "   macro avg       0.51      0.52      0.51        52\n",
      "weighted avg       0.66      0.63      0.65        52\n",
      "\n"
     ]
    },
    {
     "data": {
      "image/png": "[encoded data removed]",
      "text/plain": [
       "<Figure size 300x300 with 2 Axes>"
      ]
     },
     "metadata": {},
     "output_type": "display_data"
    }
   ],
   "source": [
    "metrics_display(RandomForestClassifier())"
   ]
  },
  {
   "cell_type": "code",
   "execution_count": 550,
   "id": "b005c64d",
   "metadata": {},
   "outputs": [],
   "source": [
    "X_train, X_test, y_train, y_test = split_train_test_2(df_1999_2019_new, 2019)"
   ]
  },
  {
   "cell_type": "code",
   "execution_count": 551,
   "id": "96a02113",
   "metadata": {},
   "outputs": [],
   "source": [
    "oversampler = RandomOverSampler(sampling_strategy={'tie':1000}, random_state=42)\n",
    "X_train, y_train = oversampler.fit_resample(X_train, y_train)"
   ]
  },
  {
   "cell_type": "code",
   "execution_count": 552,
   "id": "b7e7dd3e",
   "metadata": {},
   "outputs": [],
   "source": [
    "#oversampler = SMOTE(sampling_strategy='auto', k_neighbors=3)\n",
    "#X_test, y_test = oversampler.fit_resample(X_test, y_test)"
   ]
  },
  {
   "cell_type": "code",
   "execution_count": 553,
   "id": "8bbf9f18",
   "metadata": {},
   "outputs": [
    {
     "name": "stdout",
     "output_type": "stream",
     "text": [
      "LogisticRegression Accuracy: 0.75\n",
      "RandomForestClassifier Accuracy: 0.63\n",
      "KNeighborsClassifier Accuracy: 0.62\n"
     ]
    }
   ],
   "source": [
    "for pipeline in pipelines:\n",
    "    pipeline.fit(X_train, y_train)\n",
    "    y_pred = pipeline.predict(X_test)\n",
    "    accuracy = accuracy_score(y_test, y_pred)\n",
    "    model_name = pipeline.steps[-1][1].__class__.__name__\n",
    "    print(f'{model_name} Accuracy: {accuracy:.2f}')"
   ]
  },
  {
   "cell_type": "code",
   "execution_count": 554,
   "id": "f729eac2",
   "metadata": {},
   "outputs": [
    {
     "name": "stdout",
     "output_type": "stream",
     "text": [
      "              precision    recall  f1-score   support\n",
      "\n",
      "        lose       0.68      0.79      0.73        19\n",
      "         tie       0.00      0.00      0.00         4\n",
      "         win       0.80      0.83      0.81        29\n",
      "\n",
      "    accuracy                           0.75        52\n",
      "   macro avg       0.49      0.54      0.52        52\n",
      "weighted avg       0.70      0.75      0.72        52\n",
      "\n"
     ]
    },
    {
     "data": {
      "image/png": "[encoded data removed]",
      "text/plain": [
       "<Figure size 300x300 with 2 Axes>"
      ]
     },
     "metadata": {},
     "output_type": "display_data"
    }
   ],
   "source": [
    "metrics_display(LogisticRegression())"
   ]
  },
  {
   "cell_type": "markdown",
   "id": "4cebd875",
   "metadata": {},
   "source": [
    "- Train on games between 2008 and 2020 to predict World Cup 2019"
   ]
  },
  {
   "cell_type": "code",
   "execution_count": 555,
   "id": "2fb79880",
   "metadata": {},
   "outputs": [],
   "source": [
    "X_train, X_test, y_train, y_test = split_train_test_1(df_2007_2019_new, 2019)"
   ]
  },
  {
   "cell_type": "code",
   "execution_count": 556,
   "id": "21717857",
   "metadata": {},
   "outputs": [
    {
     "data": {
      "text/plain": [
       "win     1075\n",
       "lose     789\n",
       "tie      326\n",
       "Name: home_win, dtype: int64"
      ]
     },
     "execution_count": 556,
     "metadata": {},
     "output_type": "execute_result"
    }
   ],
   "source": [
    "y_train.value_counts()"
   ]
  },
  {
   "cell_type": "code",
   "execution_count": 557,
   "id": "beb8244f",
   "metadata": {},
   "outputs": [
    {
     "data": {
      "text/plain": [
       "win     29\n",
       "lose    19\n",
       "tie      4\n",
       "Name: home_win, dtype: int64"
      ]
     },
     "execution_count": 557,
     "metadata": {},
     "output_type": "execute_result"
    }
   ],
   "source": [
    "y_test.value_counts()"
   ]
  },
  {
   "cell_type": "code",
   "execution_count": 558,
   "id": "b00d6fec",
   "metadata": {},
   "outputs": [],
   "source": [
    "oversampler = RandomOverSampler(sampling_strategy={'lose':1000, 'tie':500}, random_state=42)\n",
    "X_train, y_train = oversampler.fit_resample(X_train, y_train)"
   ]
  },
  {
   "cell_type": "code",
   "execution_count": 559,
   "id": "842a116c",
   "metadata": {},
   "outputs": [
    {
     "name": "stdout",
     "output_type": "stream",
     "text": [
      "LogisticRegression Accuracy: 0.69\n",
      "RandomForestClassifier Accuracy: 0.62\n",
      "KNeighborsClassifier Accuracy: 0.62\n"
     ]
    }
   ],
   "source": [
    "for pipeline in pipelines:\n",
    "    pipeline.fit(X_train, y_train)\n",
    "    y_pred = pipeline.predict(X_test)\n",
    "    accuracy = accuracy_score(y_test, y_pred)\n",
    "    model_name = pipeline.steps[-1][1].__class__.__name__\n",
    "    print(f'{model_name} Accuracy: {accuracy:.2f}')"
   ]
  },
  {
   "cell_type": "code",
   "execution_count": 560,
   "id": "232ebfeb",
   "metadata": {},
   "outputs": [
    {
     "name": "stdout",
     "output_type": "stream",
     "text": [
      "              precision    recall  f1-score   support\n",
      "\n",
      "        lose       0.62      0.79      0.70        19\n",
      "         tie       0.00      0.00      0.00         4\n",
      "         win       0.75      0.72      0.74        29\n",
      "\n",
      "    accuracy                           0.69        52\n",
      "   macro avg       0.46      0.50      0.48        52\n",
      "weighted avg       0.65      0.69      0.67        52\n",
      "\n"
     ]
    },
    {
     "data": {
      "image/png": "[encoded data removed]",
      "text/plain": [
       "<Figure size 300x300 with 2 Axes>"
      ]
     },
     "metadata": {},
     "output_type": "display_data"
    }
   ],
   "source": [
    "metrics_display(LogisticRegression())"
   ]
  },
  {
   "cell_type": "code",
   "execution_count": 565,
   "id": "88e1d84f",
   "metadata": {},
   "outputs": [],
   "source": [
    "X_train, X_test, y_train, y_test = split_train_test_2(df_2007_2019_new, 2019)"
   ]
  },
  {
   "cell_type": "code",
   "execution_count": 566,
   "id": "9546078a",
   "metadata": {},
   "outputs": [],
   "source": [
    "oversampler = RandomOverSampler(sampling_strategy={'lose':1000, 'tie':500}, random_state=42)\n",
    "X_train, y_train = oversampler.fit_resample(X_train, y_train)"
   ]
  },
  {
   "cell_type": "code",
   "execution_count": 567,
   "id": "44bd4613",
   "metadata": {},
   "outputs": [
    {
     "name": "stdout",
     "output_type": "stream",
     "text": [
      "LogisticRegression Accuracy: 0.75\n",
      "RandomForestClassifier Accuracy: 0.60\n",
      "KNeighborsClassifier Accuracy: 0.62\n"
     ]
    }
   ],
   "source": [
    "for pipeline in pipelines:\n",
    "    pipeline.fit(X_train, y_train)\n",
    "    y_pred = pipeline.predict(X_test)\n",
    "    accuracy = accuracy_score(y_test, y_pred)\n",
    "    model_name = pipeline.steps[-1][1].__class__.__name__\n",
    "    print(f'{model_name} Accuracy: {accuracy:.2f}')"
   ]
  },
  {
   "cell_type": "code",
   "execution_count": 568,
   "id": "28fc4d06",
   "metadata": {},
   "outputs": [
    {
     "name": "stdout",
     "output_type": "stream",
     "text": [
      "              precision    recall  f1-score   support\n",
      "\n",
      "        lose       0.67      0.84      0.74        19\n",
      "         tie       0.00      0.00      0.00         4\n",
      "         win       0.82      0.79      0.81        29\n",
      "\n",
      "    accuracy                           0.75        52\n",
      "   macro avg       0.50      0.55      0.52        52\n",
      "weighted avg       0.70      0.75      0.72        52\n",
      "\n"
     ]
    },
    {
     "data": {
      "image/png": "[encoded data removed]",
      "text/plain": [
       "<Figure size 300x300 with 2 Axes>"
      ]
     },
     "metadata": {},
     "output_type": "display_data"
    }
   ],
   "source": [
    "metrics_display(LogisticRegression())"
   ]
  },
  {
   "cell_type": "markdown",
   "id": "0e42bab1",
   "metadata": {},
   "source": [
    "### 5. bulid the final model and predict"
   ]
  },
  {
   "cell_type": "markdown",
   "id": "2b63078e",
   "metadata": {},
   "source": [
    "- after review the performance metrics on multiple subset & model combos, I decided to apply logistic regression model with two features on data between 2010 and 2022"
   ]
  },
  {
   "cell_type": "code",
   "execution_count": 569,
   "id": "b74fd92e",
   "metadata": {},
   "outputs": [],
   "source": [
    "final_df = results_new[results_new['date_Y'] > 2010].reset_index(drop = True)"
   ]
  },
  {
   "cell_type": "code",
   "execution_count": 570,
   "id": "9073789f",
   "metadata": {},
   "outputs": [
    {
     "data": {
      "text/plain": [
       "(2226, 7)"
      ]
     },
     "execution_count": 570,
     "metadata": {},
     "output_type": "execute_result"
    }
   ],
   "source": [
    "final_df.shape"
   ]
  },
  {
   "cell_type": "code",
   "execution_count": 571,
   "id": "0de0a59b",
   "metadata": {},
   "outputs": [
    {
     "data": {
      "text/html": [
       "<div>\n",
       "<style scoped>\n",
       "    .dataframe tbody tr th:only-of-type {\n",
       "        vertical-align: middle;\n",
       "    }\n",
       "\n",
       "    .dataframe tbody tr th {\n",
       "        vertical-align: top;\n",
       "    }\n",
       "\n",
       "    .dataframe thead th {\n",
       "        text-align: right;\n",
       "    }\n",
       "</style>\n",
       "<table border=\"1\" class=\"dataframe\">\n",
       "  <thead>\n",
       "    <tr style=\"text-align: right;\">\n",
       "      <th></th>\n",
       "      <th>date_Y</th>\n",
       "      <th>home_team</th>\n",
       "      <th>away_team</th>\n",
       "      <th>home_score</th>\n",
       "      <th>away_score</th>\n",
       "      <th>tournament</th>\n",
       "      <th>neutral</th>\n",
       "    </tr>\n",
       "  </thead>\n",
       "  <tbody>\n",
       "    <tr>\n",
       "      <th>0</th>\n",
       "      <td>2011</td>\n",
       "      <td>Sweden</td>\n",
       "      <td>United States</td>\n",
       "      <td>2</td>\n",
       "      <td>1</td>\n",
       "      <td>Four Nations Tournament</td>\n",
       "      <td>True</td>\n",
       "    </tr>\n",
       "    <tr>\n",
       "      <th>1</th>\n",
       "      <td>2011</td>\n",
       "      <td>China PR</td>\n",
       "      <td>Canada</td>\n",
       "      <td>2</td>\n",
       "      <td>3</td>\n",
       "      <td>Four Nations Tournament</td>\n",
       "      <td>False</td>\n",
       "    </tr>\n",
       "    <tr>\n",
       "      <th>2</th>\n",
       "      <td>2011</td>\n",
       "      <td>China PR</td>\n",
       "      <td>Sweden</td>\n",
       "      <td>2</td>\n",
       "      <td>1</td>\n",
       "      <td>Four Nations Tournament</td>\n",
       "      <td>False</td>\n",
       "    </tr>\n",
       "    <tr>\n",
       "      <th>3</th>\n",
       "      <td>2011</td>\n",
       "      <td>United States</td>\n",
       "      <td>Canada</td>\n",
       "      <td>2</td>\n",
       "      <td>1</td>\n",
       "      <td>Four Nations Tournament</td>\n",
       "      <td>True</td>\n",
       "    </tr>\n",
       "    <tr>\n",
       "      <th>4</th>\n",
       "      <td>2011</td>\n",
       "      <td>Canada</td>\n",
       "      <td>Sweden</td>\n",
       "      <td>1</td>\n",
       "      <td>0</td>\n",
       "      <td>Four Nations Tournament</td>\n",
       "      <td>True</td>\n",
       "    </tr>\n",
       "  </tbody>\n",
       "</table>\n",
       "</div>"
      ],
      "text/plain": [
       "   date_Y      home_team      away_team  home_score  away_score  \\\n",
       "0    2011         Sweden  United States           2           1   \n",
       "1    2011       China PR         Canada           2           3   \n",
       "2    2011       China PR         Sweden           2           1   \n",
       "3    2011  United States         Canada           2           1   \n",
       "4    2011         Canada         Sweden           1           0   \n",
       "\n",
       "                tournament  neutral  \n",
       "0  Four Nations Tournament     True  \n",
       "1  Four Nations Tournament    False  \n",
       "2  Four Nations Tournament    False  \n",
       "3  Four Nations Tournament     True  \n",
       "4  Four Nations Tournament     True  "
      ]
     },
     "execution_count": 571,
     "metadata": {},
     "output_type": "execute_result"
    }
   ],
   "source": [
    "final_df.head()"
   ]
  },
  {
   "cell_type": "code",
   "execution_count": 572,
   "id": "0d99e6f0",
   "metadata": {
    "collapsed": true
   },
   "outputs": [
    {
     "data": {
      "text/html": [
       "<div>\n",
       "<style scoped>\n",
       "    .dataframe tbody tr th:only-of-type {\n",
       "        vertical-align: middle;\n",
       "    }\n",
       "\n",
       "    .dataframe tbody tr th {\n",
       "        vertical-align: top;\n",
       "    }\n",
       "\n",
       "    .dataframe thead th {\n",
       "        text-align: right;\n",
       "    }\n",
       "</style>\n",
       "<table border=\"1\" class=\"dataframe\">\n",
       "  <thead>\n",
       "    <tr style=\"text-align: right;\">\n",
       "      <th></th>\n",
       "      <th>date_Y</th>\n",
       "      <th>home_score</th>\n",
       "      <th>away_score</th>\n",
       "      <th>elo_h</th>\n",
       "      <th>elo_a</th>\n",
       "      <th>home_experience</th>\n",
       "      <th>away_experience</th>\n",
       "      <th>experience_diff</th>\n",
       "    </tr>\n",
       "  </thead>\n",
       "  <tbody>\n",
       "    <tr>\n",
       "      <th>count</th>\n",
       "      <td>2092.000000</td>\n",
       "      <td>2092.000000</td>\n",
       "      <td>2092.000000</td>\n",
       "      <td>2092.000000</td>\n",
       "      <td>2092.000000</td>\n",
       "      <td>2092.000000</td>\n",
       "      <td>2092.000000</td>\n",
       "      <td>2092.000000</td>\n",
       "    </tr>\n",
       "    <tr>\n",
       "      <th>mean</th>\n",
       "      <td>2016.254780</td>\n",
       "      <td>1.977055</td>\n",
       "      <td>1.434034</td>\n",
       "      <td>1411.055186</td>\n",
       "      <td>1337.450127</td>\n",
       "      <td>35.306405</td>\n",
       "      <td>29.378585</td>\n",
       "      <td>5.927820</td>\n",
       "    </tr>\n",
       "    <tr>\n",
       "      <th>std</th>\n",
       "      <td>3.042124</td>\n",
       "      <td>2.322297</td>\n",
       "      <td>1.887042</td>\n",
       "      <td>128.579453</td>\n",
       "      <td>104.460403</td>\n",
       "      <td>36.869012</td>\n",
       "      <td>27.146169</td>\n",
       "      <td>34.254764</td>\n",
       "    </tr>\n",
       "    <tr>\n",
       "      <th>min</th>\n",
       "      <td>2011.000000</td>\n",
       "      <td>0.000000</td>\n",
       "      <td>0.000000</td>\n",
       "      <td>1041.760000</td>\n",
       "      <td>1014.560000</td>\n",
       "      <td>1.000000</td>\n",
       "      <td>1.000000</td>\n",
       "      <td>-132.000000</td>\n",
       "    </tr>\n",
       "    <tr>\n",
       "      <th>25%</th>\n",
       "      <td>2014.000000</td>\n",
       "      <td>0.000000</td>\n",
       "      <td>0.000000</td>\n",
       "      <td>1309.671250</td>\n",
       "      <td>1277.296250</td>\n",
       "      <td>9.000000</td>\n",
       "      <td>8.000000</td>\n",
       "      <td>-7.000000</td>\n",
       "    </tr>\n",
       "    <tr>\n",
       "      <th>50%</th>\n",
       "      <td>2017.000000</td>\n",
       "      <td>1.000000</td>\n",
       "      <td>1.000000</td>\n",
       "      <td>1395.045000</td>\n",
       "      <td>1305.555000</td>\n",
       "      <td>24.000000</td>\n",
       "      <td>22.000000</td>\n",
       "      <td>1.000000</td>\n",
       "    </tr>\n",
       "    <tr>\n",
       "      <th>75%</th>\n",
       "      <td>2018.000000</td>\n",
       "      <td>3.000000</td>\n",
       "      <td>2.000000</td>\n",
       "      <td>1472.926250</td>\n",
       "      <td>1399.141250</td>\n",
       "      <td>50.000000</td>\n",
       "      <td>45.000000</td>\n",
       "      <td>13.000000</td>\n",
       "    </tr>\n",
       "    <tr>\n",
       "      <th>max</th>\n",
       "      <td>2022.000000</td>\n",
       "      <td>21.000000</td>\n",
       "      <td>13.000000</td>\n",
       "      <td>1861.025000</td>\n",
       "      <td>1759.335000</td>\n",
       "      <td>215.000000</td>\n",
       "      <td>212.000000</td>\n",
       "      <td>197.000000</td>\n",
       "    </tr>\n",
       "  </tbody>\n",
       "</table>\n",
       "</div>"
      ],
      "text/plain": [
       "            date_Y   home_score   away_score        elo_h        elo_a  \\\n",
       "count  2092.000000  2092.000000  2092.000000  2092.000000  2092.000000   \n",
       "mean   2016.254780     1.977055     1.434034  1411.055186  1337.450127   \n",
       "std       3.042124     2.322297     1.887042   128.579453   104.460403   \n",
       "min    2011.000000     0.000000     0.000000  1041.760000  1014.560000   \n",
       "25%    2014.000000     0.000000     0.000000  1309.671250  1277.296250   \n",
       "50%    2017.000000     1.000000     1.000000  1395.045000  1305.555000   \n",
       "75%    2018.000000     3.000000     2.000000  1472.926250  1399.141250   \n",
       "max    2022.000000    21.000000    13.000000  1861.025000  1759.335000   \n",
       "\n",
       "       home_experience  away_experience  experience_diff  \n",
       "count      2092.000000      2092.000000      2092.000000  \n",
       "mean         35.306405        29.378585         5.927820  \n",
       "std          36.869012        27.146169        34.254764  \n",
       "min           1.000000         1.000000      -132.000000  \n",
       "25%           9.000000         8.000000        -7.000000  \n",
       "50%          24.000000        22.000000         1.000000  \n",
       "75%          50.000000        45.000000        13.000000  \n",
       "max         215.000000       212.000000       197.000000  "
      ]
     },
     "execution_count": 572,
     "metadata": {},
     "output_type": "execute_result"
    }
   ],
   "source": [
    "elo_final = {}\n",
    "df_add_elo(final_df, elo_final)\n",
    "\n",
    "add_expereience(final_df)\n",
    "\n",
    "final_df_new = final_df.dropna()\n",
    "final_df_new['home_win'] = final_df_new['home_win'].astype('category')\n",
    "final_df_new['experience_diff'] = final_df_new['home_experience'] - final_df_new['away_experience']\n",
    "final_df_new.describe()"
   ]
  },
  {
   "cell_type": "code",
   "execution_count": 573,
   "id": "9787e436",
   "metadata": {},
   "outputs": [
    {
     "data": {
      "text/plain": [
       "1.0    1024\n",
       "0.0     743\n",
       "0.5     325\n",
       "Name: home_win, dtype: int64"
      ]
     },
     "execution_count": 573,
     "metadata": {},
     "output_type": "execute_result"
    }
   ],
   "source": [
    "final_df_new['home_win'].value_counts()"
   ]
  },
  {
   "cell_type": "code",
   "execution_count": 574,
   "id": "1da56362",
   "metadata": {},
   "outputs": [],
   "source": [
    "#duplicate the data and swap home team with away team on each game to balance the sampled result\n",
    "final_df_dup = pd.DataFrame()"
   ]
  },
  {
   "cell_type": "code",
   "execution_count": 575,
   "id": "6f2f3882",
   "metadata": {},
   "outputs": [],
   "source": [
    "final_df_dup['home_team'],final_df_dup['away_team'],final_df_dup['elo_h'],final_df_dup['elo_a'] = \\\n",
    "    final_df_new['away_team'],final_df_new['home_team'],final_df_new['elo_a'],final_df_new['elo_h'] "
   ]
  },
  {
   "cell_type": "code",
   "execution_count": 576,
   "id": "24dda046",
   "metadata": {},
   "outputs": [],
   "source": [
    "final_df_dup['experience_diff'] = final_df_new['experience_diff'].apply(lambda x: x*(-1))"
   ]
  },
  {
   "cell_type": "code",
   "execution_count": 577,
   "id": "732afcc2",
   "metadata": {},
   "outputs": [],
   "source": [
    "final_df_dup['home_win'] = final_df_new['home_win'].map({0: 1, 0.5: 0.5, 1: 0})"
   ]
  },
  {
   "cell_type": "code",
   "execution_count": 578,
   "id": "2f383160",
   "metadata": {},
   "outputs": [],
   "source": [
    "columns = final_df_dup.columns"
   ]
  },
  {
   "cell_type": "code",
   "execution_count": 579,
   "id": "2564835a",
   "metadata": {},
   "outputs": [],
   "source": [
    "final_merge = pd.concat([final_df_new[columns], final_df_dup], axis = 0, ignore_index = True)"
   ]
  },
  {
   "cell_type": "code",
   "execution_count": 580,
   "id": "e08a10d5",
   "metadata": {},
   "outputs": [
    {
     "data": {
      "text/plain": [
       "(4184, 6)"
      ]
     },
     "execution_count": 580,
     "metadata": {},
     "output_type": "execute_result"
    }
   ],
   "source": [
    "final_merge.shape"
   ]
  },
  {
   "cell_type": "code",
   "execution_count": 421,
   "id": "78770241",
   "metadata": {},
   "outputs": [
    {
     "data": {
      "text/plain": [
       "0.0    1767\n",
       "1.0    1767\n",
       "0.5     650\n",
       "Name: home_win, dtype: int64"
      ]
     },
     "execution_count": 421,
     "metadata": {},
     "output_type": "execute_result"
    }
   ],
   "source": [
    "final_merge['home_win'].value_counts()"
   ]
  },
  {
   "cell_type": "code",
   "execution_count": 422,
   "id": "557294d9",
   "metadata": {},
   "outputs": [
    {
     "data": {
      "text/html": [
       "<div>\n",
       "<style scoped>\n",
       "    .dataframe tbody tr th:only-of-type {\n",
       "        vertical-align: middle;\n",
       "    }\n",
       "\n",
       "    .dataframe tbody tr th {\n",
       "        vertical-align: top;\n",
       "    }\n",
       "\n",
       "    .dataframe thead th {\n",
       "        text-align: right;\n",
       "    }\n",
       "</style>\n",
       "<table border=\"1\" class=\"dataframe\">\n",
       "  <thead>\n",
       "    <tr style=\"text-align: right;\">\n",
       "      <th></th>\n",
       "      <th>home_team</th>\n",
       "      <th>away_team</th>\n",
       "      <th>elo_h</th>\n",
       "      <th>elo_a</th>\n",
       "      <th>experience_diff</th>\n",
       "      <th>home_win</th>\n",
       "    </tr>\n",
       "  </thead>\n",
       "  <tbody>\n",
       "    <tr>\n",
       "      <th>0</th>\n",
       "      <td>China PR</td>\n",
       "      <td>Sweden</td>\n",
       "      <td>1296.800</td>\n",
       "      <td>1302.50</td>\n",
       "      <td>0</td>\n",
       "      <td>1.0</td>\n",
       "    </tr>\n",
       "    <tr>\n",
       "      <th>1</th>\n",
       "      <td>United States</td>\n",
       "      <td>Canada</td>\n",
       "      <td>1297.500</td>\n",
       "      <td>1303.20</td>\n",
       "      <td>0</td>\n",
       "      <td>1.0</td>\n",
       "    </tr>\n",
       "    <tr>\n",
       "      <th>2</th>\n",
       "      <td>Canada</td>\n",
       "      <td>Sweden</td>\n",
       "      <td>1300.660</td>\n",
       "      <td>1300.66</td>\n",
       "      <td>0</td>\n",
       "      <td>1.0</td>\n",
       "    </tr>\n",
       "    <tr>\n",
       "      <th>3</th>\n",
       "      <td>China PR</td>\n",
       "      <td>United States</td>\n",
       "      <td>1298.640</td>\n",
       "      <td>1300.04</td>\n",
       "      <td>0</td>\n",
       "      <td>0.0</td>\n",
       "    </tr>\n",
       "    <tr>\n",
       "      <th>4</th>\n",
       "      <td>Japan</td>\n",
       "      <td>Finland</td>\n",
       "      <td>1297.525</td>\n",
       "      <td>1297.50</td>\n",
       "      <td>0</td>\n",
       "      <td>1.0</td>\n",
       "    </tr>\n",
       "  </tbody>\n",
       "</table>\n",
       "</div>"
      ],
      "text/plain": [
       "       home_team      away_team     elo_h    elo_a  experience_diff home_win\n",
       "0       China PR         Sweden  1296.800  1302.50                0      1.0\n",
       "1  United States         Canada  1297.500  1303.20                0      1.0\n",
       "2         Canada         Sweden  1300.660  1300.66                0      1.0\n",
       "3       China PR  United States  1298.640  1300.04                0      0.0\n",
       "4          Japan        Finland  1297.525  1297.50                0      1.0"
      ]
     },
     "execution_count": 422,
     "metadata": {},
     "output_type": "execute_result"
    }
   ],
   "source": [
    "final_merge.head()"
   ]
  },
  {
   "cell_type": "code",
   "execution_count": 581,
   "id": "5e5b024a",
   "metadata": {},
   "outputs": [],
   "source": [
    "label_mapping = {0: 'lose', 0.5: 'tie', 1: 'win'}"
   ]
  },
  {
   "cell_type": "code",
   "execution_count": 591,
   "id": "00dfbc52",
   "metadata": {},
   "outputs": [],
   "source": [
    "X_train = final_merge[['elo_h','elo_a']]\n",
    "y_train = final_merge['home_win'].map(label_mapping)"
   ]
  },
  {
   "cell_type": "code",
   "execution_count": 619,
   "id": "9d959341",
   "metadata": {},
   "outputs": [],
   "source": [
    "oversampler = RandomOverSampler(sampling_strategy={'tie':1000}, random_state=42)\n",
    "X_train, y_train = oversampler.fit_resample(X_train, y_train)"
   ]
  },
  {
   "cell_type": "code",
   "execution_count": 620,
   "id": "8099415a",
   "metadata": {},
   "outputs": [],
   "source": [
    "final_model= LogisticRegression()"
   ]
  },
  {
   "cell_type": "code",
   "execution_count": 621,
   "id": "fcb11ede",
   "metadata": {},
   "outputs": [
    {
     "data": {
      "text/html": [
       "<style>#sk-container-id-7 {color: black;background-color: white;}#sk-container-id-7 pre{padding: 0;}#sk-container-id-7 div.sk-toggleable {background-color: white;}#sk-container-id-7 label.sk-toggleable__label {cursor: pointer;display: block;width: 100%;margin-bottom: 0;padding: 0.3em;box-sizing: border-box;text-align: center;}#sk-container-id-7 label.sk-toggleable__label-arrow:before {content: \"▸\";float: left;margin-right: 0.25em;color: #696969;}#sk-container-id-7 label.sk-toggleable__label-arrow:hover:before {color: black;}#sk-container-id-7 div.sk-estimator:hover label.sk-toggleable__label-arrow:before {color: black;}#sk-container-id-7 div.sk-toggleable__content {max-height: 0;max-width: 0;overflow: hidden;text-align: left;background-color: #f0f8ff;}#sk-container-id-7 div.sk-toggleable__content pre {margin: 0.2em;color: black;border-radius: 0.25em;background-color: #f0f8ff;}#sk-container-id-7 input.sk-toggleable__control:checked~div.sk-toggleable__content {max-height: 200px;max-width: 100%;overflow: auto;}#sk-container-id-7 input.sk-toggleable__control:checked~label.sk-toggleable__label-arrow:before {content: \"▾\";}#sk-container-id-7 div.sk-estimator input.sk-toggleable__control:checked~label.sk-toggleable__label {background-color: #d4ebff;}#sk-container-id-7 div.sk-label input.sk-toggleable__control:checked~label.sk-toggleable__label {background-color: #d4ebff;}#sk-container-id-7 input.sk-hidden--visually {border: 0;clip: rect(1px 1px 1px 1px);clip: rect(1px, 1px, 1px, 1px);height: 1px;margin: -1px;overflow: hidden;padding: 0;position: absolute;width: 1px;}#sk-container-id-7 div.sk-estimator {font-family: monospace;background-color: #f0f8ff;border: 1px dotted black;border-radius: 0.25em;box-sizing: border-box;margin-bottom: 0.5em;}#sk-container-id-7 div.sk-estimator:hover {background-color: #d4ebff;}#sk-container-id-7 div.sk-parallel-item::after {content: \"\";width: 100%;border-bottom: 1px solid gray;flex-grow: 1;}#sk-container-id-7 div.sk-label:hover label.sk-toggleable__label {background-color: #d4ebff;}#sk-container-id-7 div.sk-serial::before {content: \"\";position: absolute;border-left: 1px solid gray;box-sizing: border-box;top: 0;bottom: 0;left: 50%;z-index: 0;}#sk-container-id-7 div.sk-serial {display: flex;flex-direction: column;align-items: center;background-color: white;padding-right: 0.2em;padding-left: 0.2em;position: relative;}#sk-container-id-7 div.sk-item {position: relative;z-index: 1;}#sk-container-id-7 div.sk-parallel {display: flex;align-items: stretch;justify-content: center;background-color: white;position: relative;}#sk-container-id-7 div.sk-item::before, #sk-container-id-7 div.sk-parallel-item::before {content: \"\";position: absolute;border-left: 1px solid gray;box-sizing: border-box;top: 0;bottom: 0;left: 50%;z-index: -1;}#sk-container-id-7 div.sk-parallel-item {display: flex;flex-direction: column;z-index: 1;position: relative;background-color: white;}#sk-container-id-7 div.sk-parallel-item:first-child::after {align-self: flex-end;width: 50%;}#sk-container-id-7 div.sk-parallel-item:last-child::after {align-self: flex-start;width: 50%;}#sk-container-id-7 div.sk-parallel-item:only-child::after {width: 0;}#sk-container-id-7 div.sk-dashed-wrapped {border: 1px dashed gray;margin: 0 0.4em 0.5em 0.4em;box-sizing: border-box;padding-bottom: 0.4em;background-color: white;}#sk-container-id-7 div.sk-label label {font-family: monospace;font-weight: bold;display: inline-block;line-height: 1.2em;}#sk-container-id-7 div.sk-label-container {text-align: center;}#sk-container-id-7 div.sk-container {/* jupyter's `normalize.less` sets `[hidden] { display: none; }` but bootstrap.min.css set `[hidden] { display: none !important; }` so we also need the `!important` here to be able to override the default hidden behavior on the sphinx rendered scikit-learn.org. See: https://github.com/scikit-learn/scikit-learn/issues/21755 */display: inline-block !important;position: relative;}#sk-container-id-7 div.sk-text-repr-fallback {display: none;}</style><div id=\"sk-container-id-7\" class=\"sk-top-container\"><div class=\"sk-text-repr-fallback\"><pre>LogisticRegression()</pre><b>In a Jupyter environment, please rerun this cell to show the HTML representation or trust the notebook. <br />On GitHub, the HTML representation is unable to render, please try loading this page with nbviewer.org.</b></div><div class=\"sk-container\" hidden><div class=\"sk-item\"><div class=\"sk-estimator sk-toggleable\"><input class=\"sk-toggleable__control sk-hidden--visually\" id=\"sk-estimator-id-7\" type=\"checkbox\" checked><label for=\"sk-estimator-id-7\" class=\"sk-toggleable__label sk-toggleable__label-arrow\">LogisticRegression</label><div class=\"sk-toggleable__content\"><pre>LogisticRegression()</pre></div></div></div></div></div>"
      ],
      "text/plain": [
       "LogisticRegression()"
      ]
     },
     "execution_count": 621,
     "metadata": {},
     "output_type": "execute_result"
    }
   ],
   "source": [
    "final_model.fit(X_train, y_train)"
   ]
  },
  {
   "cell_type": "code",
   "execution_count": 642,
   "id": "6ac785fb",
   "metadata": {},
   "outputs": [],
   "source": [
    "filename = 'finalized_model.sav'\n",
    "pickle.dump(final_model, open(filename, 'wb'))"
   ]
  },
  {
   "cell_type": "code",
   "execution_count": 428,
   "id": "a6f0e6ae",
   "metadata": {
    "collapsed": true
   },
   "outputs": [
    {
     "data": {
      "text/plain": [
       "{'United States': 1759.5800000000004,\n",
       " 'Germany': 1651.385,\n",
       " 'Netherlands': 1635.6900000000005,\n",
       " 'England': 1619.6499999999996,\n",
       " 'Sweden': 1616.69,\n",
       " 'France': 1597.3550000000002,\n",
       " 'Spain': 1545.1299999999994,\n",
       " 'Norway': 1542.495000000001,\n",
       " 'Italy': 1516.2249999999997,\n",
       " 'Iceland': 1510.1699999999996,\n",
       " 'Belgium': 1506.1200000000001,\n",
       " 'Japan': 1500.1749999999995,\n",
       " 'Denmark': 1497.4649999999995,\n",
       " 'Austria': 1483.7800000000007,\n",
       " 'Switzerland': 1458.92,\n",
       " 'Australia': 1451.57,\n",
       " 'China PR': 1439.9349999999997,\n",
       " 'Russia': 1434.2700000000002,\n",
       " 'Canada': 1419.0750000000003,\n",
       " 'Brazil': 1416.1650000000006,\n",
       " 'Finland': 1415.224999999999,\n",
       " 'Czech Republic': 1398.4950000000003,\n",
       " 'Nigeria': 1382.6149999999993,\n",
       " 'Portugal': 1376.8050000000003,\n",
       " 'Scotland': 1373.54,\n",
       " 'South Korea': 1368.3899999999994,\n",
       " 'Wales': 1368.335000000001,\n",
       " 'Poland': 1359.7599999999998,\n",
       " 'Ghana': 1348.9349999999997,\n",
       " 'Argentina': 1336.5149999999999,\n",
       " 'Cameroon': 1330.2750000000003,\n",
       " 'Great Britain': 1328.8050000000003,\n",
       " 'Ukraine': 1327.3300000000004,\n",
       " 'Papua New Guinea': 1308.6549999999995,\n",
       " 'Burundi': 1308.4650000000001,\n",
       " 'Togo': 1308.135,\n",
       " 'Saint Kitts and Nevis': 1308.12,\n",
       " 'Trinidad and Tobago': 1306.725,\n",
       " 'Republic of Ireland': 1305.815,\n",
       " 'Taiwan': 1305.7099999999998,\n",
       " 'Chile': 1305.2499999999998,\n",
       " 'Puerto Rico': 1305.1850000000002,\n",
       " 'Fiji': 1304.735,\n",
       " 'Romania': 1304.5150000000003,\n",
       " 'Burkina Faso': 1304.1999999999998,\n",
       " 'Vanuatu': 1303.215,\n",
       " 'Saint Lucia': 1303.16,\n",
       " 'Basque Country': 1302.745,\n",
       " 'Paraguay': 1302.6599999999999,\n",
       " 'Cuba': 1302.1100000000001,\n",
       " 'Uzbekistan': 1302.065,\n",
       " 'Bermuda': 1301.39,\n",
       " 'Haiti': 1300.9599999999998,\n",
       " 'Barbados': 1300.695,\n",
       " 'Solomon Islands': 1300.675,\n",
       " 'Lebanon': 1300.455,\n",
       " 'Guyana': 1300.3799999999999,\n",
       " 'Malaysia': 1300.3600000000001,\n",
       " 'Tunisia': 1299.8400000000001,\n",
       " 'Lesotho': 1299.2849999999999,\n",
       " 'Guinea-Bissau': 1299.23,\n",
       " 'Dominica': 1298.2549999999999,\n",
       " 'Laos': 1298.25,\n",
       " 'Curaçao': 1298.23,\n",
       " 'Honduras': 1298.185,\n",
       " 'Sierra Leone': 1298.185,\n",
       " 'Venezuela': 1298.115,\n",
       " 'Sudan': 1298.115,\n",
       " 'Congo': 1297.8700000000001,\n",
       " 'Dominican Republic': 1297.7399999999998,\n",
       " 'United Arab Emirates': 1297.6399999999999,\n",
       " 'Nepal': 1297.3349999999998,\n",
       " 'Malawi': 1297.1900000000003,\n",
       " 'Comoros': 1296.8,\n",
       " 'São Tomé and Príncipe': 1296.8,\n",
       " 'Djibouti': 1296.49,\n",
       " 'Costa Rica': 1296.1649999999997,\n",
       " 'Antigua and Barbuda': 1296.1349999999998,\n",
       " 'South Sudan': 1295.82,\n",
       " 'Mongolia': 1295.77,\n",
       " 'U.S. Virgin Islands': 1295.755,\n",
       " 'Tahiti': 1295.75,\n",
       " 'Aruba': 1295.73,\n",
       " 'Samoa': 1295.7150000000001,\n",
       " 'Bolivia': 1295.16,\n",
       " 'Maldives': 1295.12,\n",
       " 'Gabon': 1295.06,\n",
       " 'Eritrea': 1295.0449999999998,\n",
       " 'Mauritania': 1295.025,\n",
       " 'Rwanda': 1294.975,\n",
       " 'El Salvador': 1294.915,\n",
       " 'Angola': 1294.9099999999999,\n",
       " 'Mauritius': 1294.895,\n",
       " 'Philippines': 1294.825,\n",
       " 'Bahrain': 1294.7249999999997,\n",
       " 'Guatemala': 1294.4500000000003,\n",
       " 'Botswana': 1294.4450000000002,\n",
       " 'Liberia': 1294.375,\n",
       " 'Central African Republic': 1294.27,\n",
       " 'Niger': 1294.24,\n",
       " 'Benin': 1294.23,\n",
       " 'Morocco': 1294.15,\n",
       " 'New Caledonia': 1294.035,\n",
       " 'Uganda': 1294.0149999999999,\n",
       " 'Gambia': 1293.4450000000002,\n",
       " 'Grenada': 1293.315,\n",
       " 'Suriname': 1293.265,\n",
       " 'Belize': 1293.25,\n",
       " 'American Samoa': 1293.2450000000001,\n",
       " 'Kyrgyzstan': 1293.23,\n",
       " 'Kuwait': 1293.23,\n",
       " 'Saint Vincent and the Grenadines': 1293.23,\n",
       " 'Guadeloupe': 1293.1399999999999,\n",
       " 'Peru': 1292.8,\n",
       " 'Uruguay': 1292.7450000000003,\n",
       " 'Guam': 1292.2500000000002,\n",
       " 'Guinea': 1291.7,\n",
       " 'India': 1291.44,\n",
       " 'Serbia': 1291.3199999999997,\n",
       " 'Hong Kong': 1291.0800000000002,\n",
       " 'Anguilla': 1290.8,\n",
       " 'Martinique': 1290.705,\n",
       " 'Libya': 1290.29,\n",
       " 'Singapore': 1290.14,\n",
       " 'Nicaragua': 1290.1150000000002,\n",
       " 'Syria': 1290.1150000000002,\n",
       " 'North Korea': 1290.1100000000006,\n",
       " 'Eswatini': 1289.42,\n",
       " 'Mozambique': 1289.1649999999997,\n",
       " 'Panama': 1288.7350000000001,\n",
       " 'Equatorial Guinea': 1288.5400000000004,\n",
       " 'Tanzania': 1288.4650000000004,\n",
       " 'Iraq': 1288.1350000000002,\n",
       " 'Tajikistan': 1287.17,\n",
       " 'Algeria': 1286.1949999999997,\n",
       " 'DR Congo': 1285.165,\n",
       " 'Bangladesh': 1285.0449999999998,\n",
       " 'Northern Ireland': 1281.2400000000002,\n",
       " 'Egypt': 1280.685,\n",
       " 'Palestine': 1280.2799999999997,\n",
       " 'Mali': 1278.7500000000002,\n",
       " 'Zambia': 1275.4449999999997,\n",
       " 'Iran': 1270.6100000000001,\n",
       " 'Slovenia': 1269.6000000000008,\n",
       " 'Tonga': 1265.4150000000002,\n",
       " 'Namibia': 1263.675,\n",
       " 'Ethiopia': 1263.5900000000001,\n",
       " 'Cook Islands': 1262.0500000000002,\n",
       " 'Kenya': 1259.7900000000002,\n",
       " 'Jamaica': 1258.805,\n",
       " 'Indonesia': 1257.89,\n",
       " 'Zimbabwe': 1255.1499999999996,\n",
       " 'Senegal': 1254.9150000000002,\n",
       " 'North Macedonia': 1252.2799999999997,\n",
       " 'Malta': 1248.8400000000001,\n",
       " 'Vietnam': 1248.7100000000007,\n",
       " 'Bosnia and Herzegovina': 1245.2800000000002,\n",
       " 'Mexico': 1244.415,\n",
       " 'New Zealand': 1243.48,\n",
       " 'Myanmar': 1240.9499999999996,\n",
       " 'Ivory Coast': 1240.6599999999996,\n",
       " 'Colombia': 1240.264999999999,\n",
       " 'South Africa': 1229.5200000000007,\n",
       " 'Jordan': 1226.4949999999994,\n",
       " 'Slovakia': 1224.425,\n",
       " 'Thailand': 1221.915,\n",
       " 'Ecuador': 1221.105,\n",
       " 'Azerbaijan': 1214.1200000000001,\n",
       " 'Greece': 1212.2799999999997,\n",
       " 'Kosovo': 1197.72,\n",
       " 'Luxembourg': 1196.04,\n",
       " 'Hungary': 1186.4850000000001,\n",
       " 'Armenia': 1182.36,\n",
       " 'Latvia': 1179.32,\n",
       " 'Andorra': 1177.68,\n",
       " 'Albania': 1171.7200000000003,\n",
       " 'Cyprus': 1168.8400000000001,\n",
       " 'Belarus': 1159.9999999999993,\n",
       " 'Croatia': 1158.7799999999995,\n",
       " 'Lithuania': 1149.1200000000001,\n",
       " 'Bulgaria': 1138.7200000000003,\n",
       " 'Moldova': 1121.2399999999996,\n",
       " 'Turkey': 1120.2399999999998,\n",
       " 'Faroe Islands': 1112.7999999999997,\n",
       " 'Israel': 1102.2,\n",
       " 'Macedonia': 1095.3200000000006,\n",
       " 'Kazakhstan': 1094.7600000000004,\n",
       " 'Montenegro': 1082.2799999999997,\n",
       " 'Georgia': 1046.6399999999992,\n",
       " 'Estonia': 997.5999999999997}"
      ]
     },
     "execution_count": 428,
     "metadata": {},
     "output_type": "execute_result"
    }
   ],
   "source": [
    "dict(sorted(elo_final.items(), key=lambda item: item[1], reverse=True))"
   ]
  },
  {
   "cell_type": "code",
   "execution_count": 639,
   "id": "26221a1f",
   "metadata": {},
   "outputs": [],
   "source": [
    "def predict_win(home_team, away_team):\n",
    "    home_elo = elo_final[home_team]\n",
    "    away_elo = elo_final[away_team]\n",
    "       \n",
    "    X_predict = pd.DataFrame({'elo_h': home_elo, 'elo_a': away_elo}, index = [0])\n",
    "    y_predict = final_model.predict(X_predict)\n",
    "    return y_predict"
   ]
  },
  {
   "cell_type": "code",
   "execution_count": 647,
   "id": "2d18ada8",
   "metadata": {},
   "outputs": [],
   "source": [
    "qualified = {'Group A':['New Zealand', 'Norway', 'Philippines', 'Switzerland'], \n",
    "             'Group B':['Australia', 'Republic of Ireland', 'Nigeria', 'Canada'],\n",
    "             'Group C':['Spain', 'Costa Rica', 'Zambia', 'Japan'],\n",
    "             'Group D':['England', 'Haiti', 'Denmark', 'China PR'],\n",
    "             'Group E':['United States', 'Vietnam', 'Netherlands', 'Portugal'], \n",
    "             'Group F':['France', 'Jamaica', 'Brazil', 'Panama'],\n",
    "             'Group G':['Sweden', 'South Africa', 'Italy', 'Argentina'], \n",
    "             'Group H':['Germany', 'Morocco', 'Colombia', 'South Korea']}"
   ]
  },
  {
   "cell_type": "code",
   "execution_count": 590,
   "id": "dad86f6b",
   "metadata": {},
   "outputs": [],
   "source": [
    "#update elo score dictionary as the world cup host countries will have home advantage\n",
    "elo_final['New Zealand'] = elo_final['New Zealand']+100\n",
    "elo_final['Australia'] = elo_final['Australia']+100"
   ]
  },
  {
   "cell_type": "markdown",
   "id": "3bc1de3a",
   "metadata": {},
   "source": [
    "- predict group stage"
   ]
  },
  {
   "cell_type": "code",
   "execution_count": 649,
   "id": "0daf0812",
   "metadata": {},
   "outputs": [],
   "source": [
    "def predict_group(group):\n",
    "    '''predict the match results of all match combination between teams in the group and count final points in this stage\n",
    "    Arg: group(str)'''\n",
    "    points = {}\n",
    "    print('-----------------------')\n",
    "    print(group)\n",
    "    for team in qualified[group]:\n",
    "        points[team] = 0\n",
    "    for match in itertools.combinations(qualified[group], 2):\n",
    "        prediction = predict_win(*match)\n",
    "        print(str(match[0]+' vs '+str(match[1]+': '+str(prediction))))\n",
    "        if prediction == 'win':\n",
    "            points[match[0]] += 3\n",
    "        elif prediction == 'tie':\n",
    "            points[match[0]] += 1\n",
    "            points[match[1]] += 1\n",
    "        else:\n",
    "            points[match[1]] += 3\n",
    "    print(points)"
   ]
  },
  {
   "cell_type": "code",
   "execution_count": 650,
   "id": "0c5add2f",
   "metadata": {},
   "outputs": [
    {
     "name": "stdout",
     "output_type": "stream",
     "text": [
      "-----------------------\n",
      "Group A\n",
      "New Zealand vs Norway: ['lose']\n",
      "New Zealand vs Philippines: ['win']\n",
      "New Zealand vs Switzerland: ['lose']\n",
      "Norway vs Philippines: ['win']\n",
      "Norway vs Switzerland: ['win']\n",
      "Philippines vs Switzerland: ['lose']\n",
      "{'New Zealand': 3, 'Norway': 9, 'Philippines': 0, 'Switzerland': 6}\n",
      "-----------------------\n",
      "Group B\n",
      "Australia vs Republic of Ireland: ['win']\n",
      "Australia vs Nigeria: ['win']\n",
      "Australia vs Canada: ['win']\n",
      "Republic of Ireland vs Nigeria: ['lose']\n",
      "Republic of Ireland vs Canada: ['lose']\n",
      "Nigeria vs Canada: ['lose']\n",
      "{'Australia': 9, 'Republic of Ireland': 0, 'Nigeria': 3, 'Canada': 6}\n",
      "-----------------------\n",
      "Group C\n",
      "Spain vs Costa Rica: ['win']\n",
      "Spain vs Zambia: ['win']\n",
      "Spain vs Japan: ['win']\n",
      "Costa Rica vs Zambia: ['win']\n",
      "Costa Rica vs Japan: ['lose']\n",
      "Zambia vs Japan: ['lose']\n",
      "{'Spain': 9, 'Costa Rica': 3, 'Zambia': 0, 'Japan': 6}\n",
      "-----------------------\n",
      "Group D\n",
      "England vs Haiti: ['win']\n",
      "England vs Denmark: ['win']\n",
      "England vs China PR: ['win']\n",
      "Haiti vs Denmark: ['lose']\n",
      "Haiti vs China PR: ['lose']\n",
      "Denmark vs China PR: ['win']\n",
      "{'England': 9, 'Haiti': 0, 'Denmark': 6, 'China PR': 3}\n",
      "-----------------------\n",
      "Group E\n",
      "United States vs Vietnam: ['win']\n",
      "United States vs Netherlands: ['win']\n",
      "United States vs Portugal: ['win']\n",
      "Vietnam vs Netherlands: ['lose']\n",
      "Vietnam vs Portugal: ['lose']\n",
      "Netherlands vs Portugal: ['win']\n",
      "{'United States': 9, 'Vietnam': 0, 'Netherlands': 6, 'Portugal': 3}\n",
      "-----------------------\n",
      "Group F\n",
      "France vs Jamaica: ['win']\n",
      "France vs Brazil: ['win']\n",
      "France vs Panama: ['win']\n",
      "Jamaica vs Brazil: ['lose']\n",
      "Jamaica vs Panama: ['lose']\n",
      "Brazil vs Panama: ['win']\n",
      "{'France': 9, 'Jamaica': 0, 'Brazil': 6, 'Panama': 3}\n",
      "-----------------------\n",
      "Group G\n",
      "Sweden vs South Africa: ['win']\n",
      "Sweden vs Italy: ['win']\n",
      "Sweden vs Argentina: ['win']\n",
      "South Africa vs Italy: ['lose']\n",
      "South Africa vs Argentina: ['lose']\n",
      "Italy vs Argentina: ['win']\n",
      "{'Sweden': 9, 'South Africa': 0, 'Italy': 6, 'Argentina': 3}\n",
      "-----------------------\n",
      "Group H\n",
      "Germany vs Morocco: ['win']\n",
      "Germany vs Colombia: ['win']\n",
      "Germany vs South Korea: ['win']\n",
      "Morocco vs Colombia: ['win']\n",
      "Morocco vs South Korea: ['lose']\n",
      "Colombia vs South Korea: ['lose']\n",
      "{'Germany': 9, 'Morocco': 3, 'Colombia': 0, 'South Korea': 6}\n"
     ]
    }
   ],
   "source": [
    "for key in qualified.keys():\n",
    "    predict_group(key)"
   ]
  },
  {
   "cell_type": "markdown",
   "id": "07881567",
   "metadata": {},
   "source": [
    "- predict round 16"
   ]
  },
  {
   "cell_type": "code",
   "execution_count": 654,
   "id": "80fa405b",
   "metadata": {},
   "outputs": [],
   "source": [
    "def predict_ko(team_a, team_b):\n",
    "    prediction = predict_win(team_a, team_b)\n",
    "    if prediction == 'win':\n",
    "        print('winner: '+str(team_a))\n",
    "    elif prediction == 'lose':\n",
    "        print('winner: '+str(team_b))\n",
    "    else: \n",
    "        print('tie')"
   ]
  },
  {
   "cell_type": "code",
   "execution_count": 656,
   "id": "b352a6d2",
   "metadata": {},
   "outputs": [
    {
     "name": "stdout",
     "output_type": "stream",
     "text": [
      "winner: Norway\n"
     ]
    }
   ],
   "source": [
    "#match 49\n",
    "predict_ko('Norway', 'Japan')"
   ]
  },
  {
   "cell_type": "code",
   "execution_count": 657,
   "id": "c35fc23b",
   "metadata": {},
   "outputs": [
    {
     "name": "stdout",
     "output_type": "stream",
     "text": [
      "winner: Spain\n"
     ]
    }
   ],
   "source": [
    "#match 50\n",
    "predict_ko('Switzerland', 'Spain')"
   ]
  },
  {
   "cell_type": "code",
   "execution_count": 658,
   "id": "b90fd814",
   "metadata": {},
   "outputs": [
    {
     "name": "stdout",
     "output_type": "stream",
     "text": [
      "winner: United States\n"
     ]
    }
   ],
   "source": [
    "#match 51\n",
    "predict_ko('United States', 'Italy')"
   ]
  },
  {
   "cell_type": "code",
   "execution_count": 659,
   "id": "de836713",
   "metadata": {},
   "outputs": [
    {
     "name": "stdout",
     "output_type": "stream",
     "text": [
      "winner: Netherlands\n"
     ]
    }
   ],
   "source": [
    "#match 52\n",
    "predict_ko('Sweden', 'Netherlands')"
   ]
  },
  {
   "cell_type": "code",
   "execution_count": 660,
   "id": "31fd81c3",
   "metadata": {},
   "outputs": [
    {
     "name": "stdout",
     "output_type": "stream",
     "text": [
      "winner: Australia\n"
     ]
    }
   ],
   "source": [
    "#match 53\n",
    "predict_ko('Australia', 'Denmark')"
   ]
  },
  {
   "cell_type": "code",
   "execution_count": 661,
   "id": "e4b749e2",
   "metadata": {},
   "outputs": [
    {
     "name": "stdout",
     "output_type": "stream",
     "text": [
      "winner: England\n"
     ]
    }
   ],
   "source": [
    "#match 54\n",
    "predict_ko('England', 'Canada')"
   ]
  },
  {
   "cell_type": "code",
   "execution_count": 662,
   "id": "8f65a609",
   "metadata": {},
   "outputs": [
    {
     "name": "stdout",
     "output_type": "stream",
     "text": [
      "winner: France\n"
     ]
    }
   ],
   "source": [
    "#match 55\n",
    "predict_ko('France', 'South Korea')"
   ]
  },
  {
   "cell_type": "code",
   "execution_count": 663,
   "id": "ef4a0208",
   "metadata": {},
   "outputs": [
    {
     "name": "stdout",
     "output_type": "stream",
     "text": [
      "winner: Germany\n"
     ]
    }
   ],
   "source": [
    "#match 56\n",
    "predict_ko('Germany', 'Brazil')"
   ]
  },
  {
   "cell_type": "markdown",
   "id": "765986dd",
   "metadata": {},
   "source": [
    "- predict quarterfinals"
   ]
  },
  {
   "cell_type": "code",
   "execution_count": 664,
   "id": "845c9cb2",
   "metadata": {},
   "outputs": [
    {
     "name": "stdout",
     "output_type": "stream",
     "text": [
      "winner: United States\n"
     ]
    }
   ],
   "source": [
    "#match 57\n",
    "predict_ko('Norway', 'United States')"
   ]
  },
  {
   "cell_type": "code",
   "execution_count": 665,
   "id": "548092a2",
   "metadata": {},
   "outputs": [
    {
     "name": "stdout",
     "output_type": "stream",
     "text": [
      "winner: Netherlands\n"
     ]
    }
   ],
   "source": [
    "#match 58\n",
    "predict_ko('Spain', 'Netherlands')"
   ]
  },
  {
   "cell_type": "code",
   "execution_count": 666,
   "id": "2f50d432",
   "metadata": {},
   "outputs": [
    {
     "name": "stdout",
     "output_type": "stream",
     "text": [
      "winner: France\n"
     ]
    }
   ],
   "source": [
    "#match 59\n",
    "predict_ko('Australia', 'France')"
   ]
  },
  {
   "cell_type": "code",
   "execution_count": 667,
   "id": "05fb6ec2",
   "metadata": {},
   "outputs": [
    {
     "name": "stdout",
     "output_type": "stream",
     "text": [
      "winner: Germany\n"
     ]
    }
   ],
   "source": [
    "#match 60\n",
    "predict_ko('England', 'Germany')"
   ]
  },
  {
   "cell_type": "markdown",
   "id": "746190ec",
   "metadata": {},
   "source": [
    "- predict semifinal"
   ]
  },
  {
   "cell_type": "code",
   "execution_count": 668,
   "id": "2fe25dfa",
   "metadata": {},
   "outputs": [
    {
     "name": "stdout",
     "output_type": "stream",
     "text": [
      "winner: United States\n"
     ]
    }
   ],
   "source": [
    "#match 61\n",
    "predict_ko('United States', 'Netherlands')"
   ]
  },
  {
   "cell_type": "code",
   "execution_count": 669,
   "id": "816d26dd",
   "metadata": {},
   "outputs": [
    {
     "name": "stdout",
     "output_type": "stream",
     "text": [
      "winner: Germany\n"
     ]
    }
   ],
   "source": [
    "#match 62\n",
    "predict_ko('France', 'Germany')"
   ]
  },
  {
   "cell_type": "markdown",
   "id": "9231187e",
   "metadata": {},
   "source": [
    "- predict third place"
   ]
  },
  {
   "cell_type": "code",
   "execution_count": 670,
   "id": "50cb81b8",
   "metadata": {},
   "outputs": [
    {
     "name": "stdout",
     "output_type": "stream",
     "text": [
      "winner: Netherlands\n"
     ]
    }
   ],
   "source": [
    "#match 63\n",
    "predict_ko('Netherlands', 'France')"
   ]
  },
  {
   "cell_type": "markdown",
   "id": "d817e4cb",
   "metadata": {},
   "source": [
    "- prediction final"
   ]
  },
  {
   "cell_type": "code",
   "execution_count": 671,
   "id": "6d1ef368",
   "metadata": {},
   "outputs": [
    {
     "name": "stdout",
     "output_type": "stream",
     "text": [
      "winner: United States\n"
     ]
    }
   ],
   "source": [
    "#match 63\n",
    "predict_ko('United States', 'Germany')"
   ]
  },
  {
   "cell_type": "code",
   "execution_count": null,
   "id": "118a206b",
   "metadata": {},
   "outputs": [],
   "source": []
  }
 ],
 "metadata": {
  "kernelspec": {
   "display_name": "WC2023",
   "language": "python",
   "name": "wc2023"
  },
  "language_info": {
   "codemirror_mode": {
    "name": "ipython",
    "version": 3
   },
   "file_extension": ".py",
   "mimetype": "text/x-python",
   "name": "python",
   "nbconvert_exporter": "python",
   "pygments_lexer": "ipython3",
   "version": "3.9.16"
  }
 },
 "nbformat": 4,
 "nbformat_minor": 5
}
