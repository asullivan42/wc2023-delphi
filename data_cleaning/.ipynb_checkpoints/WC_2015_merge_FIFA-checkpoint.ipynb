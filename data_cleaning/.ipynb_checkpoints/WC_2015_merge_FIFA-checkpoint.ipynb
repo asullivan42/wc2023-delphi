{
 "cells": [
  {
   "cell_type": "code",
   "execution_count": 74,
   "id": "e54be5ce",
   "metadata": {},
   "outputs": [],
   "source": [
    "import numpy as np\n",
    "import pandas as pd\n",
    "import json"
   ]
  },
  {
   "cell_type": "code",
   "execution_count": 88,
   "id": "7e83f7d3",
   "metadata": {},
   "outputs": [],
   "source": [
    "rating23 = pd.read_csv('../Datasets/cleaned_data/FIFA23_rating_new.csv')\n",
    "rating22 = pd.read_csv('../Datasets/cleaned_data/FIFA22_rating_new.csv')\n",
    "rating21 = pd.read_csv('../Datasets/cleaned_data/FIFA21_rating_new.csv')\n",
    "rating20 = pd.read_csv('../Datasets/cleaned_data/FIFA20_rating_new.csv')\n",
    "rating19 = pd.read_csv('../Datasets/cleaned_data/FIFA19_rating_new.csv')\n",
    "rating18 = pd.read_csv('../Datasets/cleaned_data/FIFA18_rating_new.csv')\n",
    "rating17 = pd.read_csv('../Datasets/cleaned_data/FIFA17_rating_new.csv')\n",
    "rating16 = pd.read_csv('../Datasets/cleaned_data/FIFA16_rating_new.csv')\n",
    "rating16_22 = pd.read_csv('../Datasets/cleaned_data/FIFA16-22_rating_new.csv')"
   ]
  },
  {
   "cell_type": "code",
   "execution_count": 76,
   "id": "cb1c1d8d",
   "metadata": {},
   "outputs": [],
   "source": [
    "WC_2015_j = open('../Datasets/FBRef/WC_2015.json')"
   ]
  },
  {
   "cell_type": "code",
   "execution_count": 77,
   "id": "25404536",
   "metadata": {},
   "outputs": [],
   "source": [
    "WC_2015_d = json.load(WC_2015_j)"
   ]
  },
  {
   "cell_type": "code",
   "execution_count": 78,
   "id": "593c5d2f",
   "metadata": {},
   "outputs": [],
   "source": [
    "def get_short(player_list):\n",
    "    short = []\n",
    "    for name in player_list:\n",
    "        initial = name.split()[0][0]+'.'\n",
    "        short_name = name.replace(name.split()[0], initial)\n",
    "        short.append(short_name)\n",
    "    return short"
   ]
  },
  {
   "cell_type": "code",
   "execution_count": 79,
   "id": "23a9abca",
   "metadata": {},
   "outputs": [],
   "source": [
    "def check_missing(match):\n",
    "    names_a = match['a_player']\n",
    "    names_a = [i.replace('\\xa0\\xa0\\xa0', '') for i in names_a]\n",
    "    short_a = get_short(names_a)\n",
    "    team_a= pd.DataFrame()\n",
    "    for name in short_a:\n",
    "        if name in rating16_22['short_name'].values:\n",
    "            player_info = rating16_22[rating16_22['short_name']==name]\n",
    "            team_a = pd.concat([team_a, player_info],ignore_index=True)\n",
    "            if set(short_a) == set(team_a['short_name'].unique()):\n",
    "                missing_a = 'None'\n",
    "            else:\n",
    "                missing_a = set(short_a) - set(team_a['short_name'].unique())\n",
    "        else:\n",
    "            missing_a = 'all missing'\n",
    "     \n",
    "    names_b = match['b_player']\n",
    "    names_b = [i.replace('\\xa0\\xa0\\xa0', '') for i in names_b]\n",
    "    short_b = get_short(names_b)\n",
    "    team_b= pd.DataFrame()\n",
    "    for name in short_b:\n",
    "        if name in rating16_22['short_name'].values:\n",
    "            player_info = rating16_22[rating16_22['short_name']==name]\n",
    "            team_b = pd.concat([team_b, player_info],ignore_index=True)\n",
    "            if set(short_b) == set(team_b['short_name'].unique()):\n",
    "                missing_b = 'None'\n",
    "            else:\n",
    "                missing_b = set(short_b) - set(team_b['short_name'].unique())\n",
    "        else:\n",
    "            missing_b = 'all missing'\n",
    "    \n",
    "\n",
    "    print(match['winner'], match['loser'])\n",
    "    print('team a missing player: '+ str(missing_a))\n",
    "    print('team b missing player: '+ str(missing_b))"
   ]
  },
  {
   "cell_type": "code",
   "execution_count": 80,
   "id": "d8d21b90",
   "metadata": {},
   "outputs": [],
   "source": [
    "def check_missing_1(match):\n",
    "    names_a = match['a_player']\n",
    "    names_a = [i.replace('\\xa0\\xa0\\xa0', '') for i in names_a]\n",
    "\n",
    "    team_a= pd.DataFrame()\n",
    "    for name in names_a:\n",
    "        if name in rating16_22['short_name'].values:\n",
    "            player_info = rating16_22[rating16_22['short_name']==name]\n",
    "            team_a = pd.concat([team_a, player_info],ignore_index=True)\n",
    "            if set(names_a) == set(team_a['short_name'].unique()):\n",
    "                missing_a = 'None'\n",
    "            else:\n",
    "                missing_a = set(names_a) - set(team_a['short_name'].unique())\n",
    "        else:\n",
    "            missing_a = 'all missing'\n",
    "     \n",
    "    names_b = match['b_player']\n",
    "    names_b = [i.replace('\\xa0\\xa0\\xa0', '') for i in names_b]\n",
    "    short_b = get_short(names_b)\n",
    "    team_b= pd.DataFrame()\n",
    "    for name in short_b:\n",
    "        if name in rating16_22['short_name'].values:\n",
    "            player_info = rating16_22[rating16_22['short_name']==name]\n",
    "            team_b = pd.concat([team_b, player_info],ignore_index=True)\n",
    "            if set(short_b) == set(team_b['short_name'].unique()):\n",
    "                missing_b = 'None'\n",
    "            else:\n",
    "                missing_b = set(short_b) - set(team_b['short_name'].unique())\n",
    "        else:\n",
    "            missing_b = 'all missing'\n",
    "    \n",
    "\n",
    "    print(match['winner'], match['loser'])\n",
    "    print('team a missing player: '+ str(missing_a))\n",
    "    print('team b missing player: '+ str(missing_b))"
   ]
  },
  {
   "cell_type": "code",
   "execution_count": 81,
   "id": "63101040",
   "metadata": {},
   "outputs": [],
   "source": [
    "def check_missing_2(match):\n",
    "    names_a = match['a_player']\n",
    "    names_a = [i.replace('\\xa0\\xa0\\xa0', '') for i in names_a]\n",
    "    short_a = get_short(names_a)\n",
    "    team_a= pd.DataFrame()\n",
    "    for name in short_a:\n",
    "        if name in rating16_22['short_name'].values:\n",
    "            player_info = rating16_22[rating16_22['short_name']==name]\n",
    "            team_a = pd.concat([team_a, player_info],ignore_index=True)\n",
    "            if set(short_a) == set(team_a['short_name'].unique()):\n",
    "                missing_a = 'None'\n",
    "            else:\n",
    "                missing_a = set(short_a) - set(team_a['short_name'].unique())\n",
    "        else:\n",
    "            missing_a = 'all missing'\n",
    "     \n",
    "    names_b = match['b_player']\n",
    "    names_b = [i.replace('\\xa0\\xa0\\xa0', '') for i in names_b]\n",
    "    \n",
    "    team_b= pd.DataFrame()\n",
    "    for name in names_b:\n",
    "        if name in rating16_22['short_name'].values:\n",
    "            player_info = rating16_22[rating16_22['short_name']==name]\n",
    "            team_b = pd.concat([team_b, player_info],ignore_index=True)\n",
    "            if set(names_b) == set(team_b['short_name'].unique()):\n",
    "                missing_b = 'None'\n",
    "            else:\n",
    "                missing_b = set(names_b) - set(team_b['short_name'].unique())\n",
    "        else:\n",
    "            missing_b = 'all missing'\n",
    "    \n",
    "\n",
    "    print(match['winner'], match['loser'])\n",
    "    print('team a missing player: '+ str(missing_a))\n",
    "    print('team b missing player: '+ str(missing_b))"
   ]
  },
  {
   "cell_type": "code",
   "execution_count": 95,
   "id": "8dd10582",
   "metadata": {},
   "outputs": [],
   "source": [
    "def check_missing_3(match):\n",
    "    names_a = match['a_player']\n",
    "    names_a = [i.replace('\\xa0\\xa0\\xa0', '') for i in names_a]\n",
    "\n",
    "    team_a= pd.DataFrame()\n",
    "    for name in names_a:\n",
    "        if name in rating16_22['long_name'].values:\n",
    "            player_info = rating16_22[rating16_22['long_name']==name]\n",
    "            team_a = pd.concat([team_a, player_info],ignore_index=True)\n",
    "            if set(names_a) == set(team_a['long_name'].unique()):\n",
    "                missing_a = 'None'\n",
    "            else:\n",
    "                missing_a = set(names_a) - set(team_a['long_name'].unique())\n",
    "        else:\n",
    "            missing_a = 'all missing'\n",
    "     \n",
    "    names_b = match['b_player']\n",
    "    names_b = [i.replace('\\xa0\\xa0\\xa0', '') for i in names_b]\n",
    "    \n",
    "    team_b= pd.DataFrame()\n",
    "    for name in names_b:\n",
    "        if name in rating16_22['short_name'].values:\n",
    "            player_info = rating16_22[rating16_22['short_name']==name]\n",
    "            team_b = pd.concat([team_b, player_info],ignore_index=True)\n",
    "            if set(names_b) == set(team_b['short_name'].unique()):\n",
    "                missing_b = 'None'\n",
    "            else:\n",
    "                missing_b = set(names_b) - set(team_b['short_name'].unique())\n",
    "        else:\n",
    "            missing_b = 'all missing'\n",
    "    \n",
    "\n",
    "    print(match['winner'], match['loser'])\n",
    "    print('team a missing player: '+ str(missing_a))\n",
    "    print('team b missing player: '+ str(missing_b))"
   ]
  },
  {
   "cell_type": "code",
   "execution_count": 97,
   "id": "f5185008",
   "metadata": {},
   "outputs": [],
   "source": [
    "def check_missing_4(match):\n",
    "    names_a = match['a_player']\n",
    "    names_a = [i.replace('\\xa0\\xa0\\xa0', '') for i in names_a]\n",
    "    short_a = get_short(names_a)\n",
    "    team_a= pd.DataFrame()\n",
    "    for name in short_a:\n",
    "        if name in rating16_22['short_name'].values:\n",
    "            player_info = rating16_22[rating16_22['short_name']==name]\n",
    "            team_a = pd.concat([team_a, player_info],ignore_index=True)\n",
    "            if set(short_a) == set(team_a['short_name'].unique()):\n",
    "                missing_a = 'None'\n",
    "            else:\n",
    "                missing_a = set(short_a) - set(team_a['short_name'].unique())\n",
    "        else:\n",
    "            missing_a = 'all missing'\n",
    "     \n",
    "    names_b = match['b_player']\n",
    "    names_b = [i.replace('\\xa0\\xa0\\xa0', '') for i in names_b]\n",
    "    \n",
    "    team_b= pd.DataFrame()\n",
    "    for name in names_b:\n",
    "        if name in rating16_22['long_name'].values:\n",
    "            player_info = rating16_22[rating16_22['long_name']==name]\n",
    "            team_b = pd.concat([team_b, player_info],ignore_index=True)\n",
    "            if set(names_b) == set(team_b['long_name'].unique()):\n",
    "                missing_b = 'None'\n",
    "            else:\n",
    "                missing_b = set(names_b) - set(team_b['long_name'].unique())\n",
    "        else:\n",
    "            missing_b = 'all missing'\n",
    "    \n",
    "\n",
    "    print(match['winner'], match['loser'])\n",
    "    print('team a missing player: '+ str(missing_a))\n",
    "    print('team b missing player: '+ str(missing_b))"
   ]
  },
  {
   "cell_type": "code",
   "execution_count": 82,
   "id": "b387fc0a",
   "metadata": {},
   "outputs": [],
   "source": [
    "def get_df(match):\n",
    "    stats_a = {'player': match['a_player'], 'position': match['a_player_position'],'age': match['a_age'], 'player_time':match['a_time']}\n",
    "    stats_a_df = pd.DataFrame(stats_a)\n",
    "    stats_b = {'player': match['b_player'], 'position': match['b_player_position'],'age': match['b_age'], 'player_time':match['b_time']}\n",
    "    stats_b_df = pd.DataFrame(stats_b)   \n",
    "    return stats_a_df, stats_b_df"
   ]
  },
  {
   "cell_type": "code",
   "execution_count": 83,
   "id": "7ec142b2",
   "metadata": {},
   "outputs": [
    {
     "name": "stdout",
     "output_type": "stream",
     "text": [
      "USA Japan\n",
      "team a missing player: {'M. Gautrat', 'C. Pearce'}\n",
      "team b missing player: all missing\n"
     ]
    }
   ],
   "source": [
    "check_missing(WC_2015_d['Final'])"
   ]
  },
  {
   "cell_type": "code",
   "execution_count": 84,
   "id": "b0a1236e",
   "metadata": {},
   "outputs": [
    {
     "data": {
      "text/plain": [
       "(                player position age player_time\n",
       " 0          Alex Morgan       FW  26          86\n",
       " 1      Christie Pearce       DF  40           4\n",
       " 2          Carli Lloyd       FW  32          90\n",
       " 3        Megan Rapinoe       LW  30          61\n",
       " 4        Kelley O'Hara    DF/FW  26          29\n",
       " 5       Morgan Gautrat       CM  22          90\n",
       " 6       Lauren Holiday       CM  27          90\n",
       " 7          Tobin Heath       RW  27          79\n",
       " 8         Abby Wambach       FW  35          11\n",
       " 9   Meghan Klingenberg       LB  26          90\n",
       " 10    Becky Sauerbrunn       CB  30          90\n",
       " 11          Julie Ertz       CB  23          90\n",
       " 12         Ali Krieger       RB  30          90\n",
       " 13           Hope Solo       GK  33          90,\n",
       "                player position age player_time\n",
       " 0       Yūki Nagasato       FW  27          90\n",
       " 1        Shinobu Ohno       FW  31          60\n",
       " 2       Mana Iwabuchi       FW  22          30\n",
       " 3          Aya Miyama       LW  30          90\n",
       " 4         Rumi Utsugi       CM  26          90\n",
       " 5    Mizuho Sakaguchi       CM  27          90\n",
       " 6     Nahomi Kawasumi       RW  29          39\n",
       " 7      Yuika Sugasawa       FW  24          51\n",
       " 8       Aya Sameshima       LB  28          90\n",
       " 9        Saki Kumagai       CB  24          90\n",
       " 10   Azusa Iwashimizu       CB  28          33\n",
       " 11        Homare Sawa    FW/MF  36          57\n",
       " 12     Saori Ariyoshi       RB  27          90\n",
       " 13      Ayumi Kaihori       GK  28          90)"
      ]
     },
     "execution_count": 84,
     "metadata": {},
     "output_type": "execute_result"
    }
   ],
   "source": [
    "get_df(WC_2015_d['Final'])"
   ]
  },
  {
   "cell_type": "code",
   "execution_count": 85,
   "id": "82bbf826",
   "metadata": {},
   "outputs": [
    {
     "name": "stdout",
     "output_type": "stream",
     "text": [
      "Final\n",
      "USA Japan\n",
      "team a missing player: {'M. Gautrat', 'C. Pearce'}\n",
      "team b missing player: all missing\n",
      "Third-place\n",
      "England Germany\n",
      "team a missing player: None\n",
      "team b missing player: {'K. Chapman'}\n",
      "Semi-finals-1\n",
      "USA Germany\n",
      "team a missing player: {'M. Gautrat'}\n",
      "team b missing player: None\n",
      "Semi-finals-2\n",
      "Japan England\n",
      "team a missing player: all missing\n",
      "team b missing player: {'C. Rafferty', 'K. Chapman'}\n",
      "Quarter-final-1\n",
      "Germany France\n",
      "team a missing player: None\n",
      "team b missing player: {'J. Houara', 'L. Cadamuro'}\n",
      "Quarter-final-2\n",
      "USA China PR\n",
      "team a missing player: all missing\n",
      "team b missing player: {'M. Gautrat'}\n",
      "Quarter-final-3\n",
      "Japan Australia\n",
      "team a missing player: None\n",
      "team b missing player: all missing\n",
      "Quarter-final-4\n",
      "England Canada\n",
      "team a missing player: {'C. Rafferty', 'K. Chapman'}\n",
      "team b missing player: None\n",
      "Round16-1\n",
      "Germany Sweden\n",
      "team a missing player: None\n",
      "team b missing player: {'T. Sjögran'}\n",
      "Round16-2\n",
      "China PR Cameroon\n",
      "team a missing player: all missing\n",
      "team b missing player: all missing\n",
      "Round16-3\n",
      "Australia Brazil\n",
      "team a missing player: all missing\n",
      "team b missing player: None\n",
      "Round16-4\n",
      "Canada Switzerland\n",
      "team a missing player: None\n",
      "team b missing player: all missing\n",
      "Round16-5\n",
      "France Korea Rep\n",
      "team a missing player: {'J. Houara', 'L. Cadamuro'}\n",
      "team b missing player: all missing\n",
      "Round16-6\n",
      "England Norway\n",
      "team a missing player: {'L. Karlseng Utland', 'A. Hegerberg', 'S. Gulbrandsen'}\n",
      "team b missing player: {'C. Rafferty', 'K. Chapman'}\n",
      "Round16-7\n",
      "USA Colombia\n",
      "team a missing player: {'M. Gautrat'}\n",
      "team b missing player: all missing\n",
      "Round16-8\n",
      "Japan Netherlands\n",
      "team a missing player: all missing\n",
      "team b missing player: {'M. Melis', 'K. van de Ven'}\n"
     ]
    }
   ],
   "source": [
    "for key in WC_2015_d.keys():\n",
    "    print(key)\n",
    "    check_missing(WC_2015_d[key])"
   ]
  },
  {
   "cell_type": "code",
   "execution_count": 146,
   "id": "0604e9dd",
   "metadata": {},
   "outputs": [
    {
     "name": "stdout",
     "output_type": "stream",
     "text": [
      "Japan Australia\n",
      "team a missing player: None\n",
      "team b missing player: all missing\n"
     ]
    }
   ],
   "source": [
    "check_missing(WC_2015_d['Quarter-final-3'])"
   ]
  },
  {
   "cell_type": "code",
   "execution_count": 148,
   "id": "8f2bc04d",
   "metadata": {},
   "outputs": [
    {
     "data": {
      "text/plain": [
       "['Kyah Simon',\n",
       " '\\xa0\\xa0\\xa0Ashleigh Sykes',\n",
       " 'Sam Kerr',\n",
       " 'Lisa De Vanna',\n",
       " '\\xa0\\xa0\\xa0Larissa Crummer',\n",
       " 'Emily van Egmond',\n",
       " 'Elise Kellond-Knight',\n",
       " 'Katrina Gorry',\n",
       " '\\xa0\\xa0\\xa0Michelle Heyman',\n",
       " 'Steph Catley',\n",
       " 'Alanna Kennedy',\n",
       " 'Laura Alleway',\n",
       " 'Caitlin Foord',\n",
       " 'Lydia Williams']"
      ]
     },
     "execution_count": 148,
     "metadata": {},
     "output_type": "execute_result"
    }
   ],
   "source": [
    "WC_2015_d['Quarter-final-3']['a_player']"
   ]
  },
  {
   "cell_type": "code",
   "execution_count": 89,
   "id": "b7adcd89",
   "metadata": {},
   "outputs": [
    {
     "data": {
      "text/plain": [
       "array(['United States', 'France', 'Germany', 'Canada', 'Brazil', 'Sweden',\n",
       "       'England', 'Australia', 'China PR', 'Spain', 'Mexico', 'Norway',\n",
       "       'Netherlands', 'New Zealand', 'Scotland', 'Belgium', 'Portugal'],\n",
       "      dtype=object)"
      ]
     },
     "execution_count": 89,
     "metadata": {},
     "output_type": "execute_result"
    }
   ],
   "source": [
    "rating16_22['nationality_name'].unique()"
   ]
  },
  {
   "cell_type": "code",
   "execution_count": 132,
   "id": "2acf05be",
   "metadata": {},
   "outputs": [
    {
     "name": "stdout",
     "output_type": "stream",
     "text": [
      "Australia Brazil\n",
      "team a missing player: all missing\n",
      "team b missing player: None\n"
     ]
    }
   ],
   "source": [
    "check_missing_1(WC_2015_d['Round16-3'])"
   ]
  },
  {
   "cell_type": "code",
   "execution_count": 133,
   "id": "25cab3d3",
   "metadata": {},
   "outputs": [
    {
     "data": {
      "text/plain": [
       "['Cristiane',\n",
       " 'Andressa',\n",
       " 'Marta',\n",
       " 'Andressinha',\n",
       " 'Thaisa',\n",
       " '\\xa0\\xa0\\xa0Beatriz',\n",
       " 'Formiga',\n",
       " 'Tamires',\n",
       " '\\xa0\\xa0\\xa0Raquel',\n",
       " 'Rafaelle Souza',\n",
       " 'Monica Hickmann Alves',\n",
       " 'Fabiana da Silva Simões',\n",
       " 'Luciana Maria Dionizio']"
      ]
     },
     "execution_count": 133,
     "metadata": {},
     "output_type": "execute_result"
    }
   ],
   "source": [
    "WC_2015_d['Round16-3']['a_player']"
   ]
  },
  {
   "cell_type": "code",
   "execution_count": null,
   "id": "e7d08de0",
   "metadata": {},
   "outputs": [],
   "source": [
    "check_missing(WC_2015_d['Semi-finals-2'])"
   ]
  },
  {
   "cell_type": "code",
   "execution_count": 144,
   "id": "11b6d4fb",
   "metadata": {},
   "outputs": [
    {
     "data": {
      "text/plain": [
       "['Eugénie Le Sommer',\n",
       " '\\xa0\\xa0\\xa0Gaëtane Thiney',\n",
       " 'Marie-Laure Delie',\n",
       " '\\xa0\\xa0\\xa0Kadidiatou Diani',\n",
       " 'Louisa Cadamuro',\n",
       " 'Camille Abily',\n",
       " '\\xa0\\xa0\\xa0Kheira Hamraoui',\n",
       " 'Amandine Henry',\n",
       " 'Élodie Thomis',\n",
       " 'Laure Boulleau',\n",
       " 'Wendie Renard',\n",
       " 'Laura Georges',\n",
       " 'Jessica Houara',\n",
       " 'Sarah Bouhaddi']"
      ]
     },
     "execution_count": 144,
     "metadata": {},
     "output_type": "execute_result"
    }
   ],
   "source": [
    "WC_2015_d['Round16-5']['a_player']"
   ]
  },
  {
   "cell_type": "code",
   "execution_count": 142,
   "id": "658c677e",
   "metadata": {},
   "outputs": [
    {
     "data": {
      "text/plain": [
       "array(['Marta', 'Rosana', 'Cristiane', 'Andressa Alves', 'Formiga',\n",
       "       'Bruna Benites', 'Luciana', 'Debinha', 'Fabiana', 'Maurine',\n",
       "       'Tayla', 'Thaisa', 'Mônica', 'Tamires', 'Andréia', 'Andressinha',\n",
       "       'Rafaelle', 'Beatriz', 'Bárbara', 'Poliana', 'Darlene', 'Raquel',\n",
       "       'Gabi', 'Érika', 'Rilany', 'Letícia Izidoro', 'Carla Maria',\n",
       "       'Bia Zaneratto', 'Fran', 'Gabi Zanotti', 'Thaisinha', 'Camila',\n",
       "       'Debinha Miri', 'Jully Mutto', 'Palomy Bastos', 'Emanuelly Barni',\n",
       "       'Isinha Macapá', 'Becky Saudera', 'Karole Pombal', 'Letinha Lia',\n",
       "       'Julininha Ruiz', 'Becky Redela', 'Bianca Revelia',\n",
       "       'Zoe Tocantins', 'Melinda Goiás', 'Niccole Cintra', 'Isaby Camila',\n",
       "       'Iris Vieirinha', 'Magi Bardini', 'Jandinha Kenedy',\n",
       "       'Mika Costinho', 'Kla Elisinha', 'Giovanny Bia', 'Licinha Bardini',\n",
       "       'Rafaelly Paraná', 'Cecil Sendela', 'Miri Couto'], dtype=object)"
      ]
     },
     "execution_count": 142,
     "metadata": {},
     "output_type": "execute_result"
    }
   ],
   "source": [
    "rating16_22[rating16_22['nationality_name']=='Brazil']['short_name'].unique()"
   ]
  },
  {
   "cell_type": "code",
   "execution_count": 135,
   "id": "b5ec0537",
   "metadata": {},
   "outputs": [
    {
     "data": {
      "text/plain": [
       "True"
      ]
     },
     "execution_count": 135,
     "metadata": {},
     "output_type": "execute_result"
    }
   ],
   "source": [
    "'Marta' in rating16_22['short_name'].values"
   ]
  },
  {
   "cell_type": "code",
   "execution_count": 118,
   "id": "c9ee8943",
   "metadata": {},
   "outputs": [],
   "source": [
    "player_info = rating16_22[rating16_22['long_name']=='Lisa De Vanna']"
   ]
  },
  {
   "cell_type": "code",
   "execution_count": 119,
   "id": "80cd532d",
   "metadata": {},
   "outputs": [
    {
     "data": {
      "text/html": [
       "<div>\n",
       "<style scoped>\n",
       "    .dataframe tbody tr th:only-of-type {\n",
       "        vertical-align: middle;\n",
       "    }\n",
       "\n",
       "    .dataframe tbody tr th {\n",
       "        vertical-align: top;\n",
       "    }\n",
       "\n",
       "    .dataframe thead th {\n",
       "        text-align: right;\n",
       "    }\n",
       "</style>\n",
       "<table border=\"1\" class=\"dataframe\">\n",
       "  <thead>\n",
       "    <tr style=\"text-align: right;\">\n",
       "      <th></th>\n",
       "      <th>short_name</th>\n",
       "      <th>long_name</th>\n",
       "      <th>player_positions</th>\n",
       "      <th>overall</th>\n",
       "      <th>age</th>\n",
       "      <th>height_cm</th>\n",
       "      <th>weight_kg</th>\n",
       "      <th>nationality_name</th>\n",
       "      <th>nation_position</th>\n",
       "      <th>preferred_foot</th>\n",
       "      <th>...</th>\n",
       "      <th>power_long_shots</th>\n",
       "      <th>mentality_aggression</th>\n",
       "      <th>mentality_interceptions</th>\n",
       "      <th>mentality_positioning</th>\n",
       "      <th>mentality_vision</th>\n",
       "      <th>mentality_penalties</th>\n",
       "      <th>mentality_composure</th>\n",
       "      <th>defending_marking_awareness</th>\n",
       "      <th>defending_standing_tackle</th>\n",
       "      <th>defending_sliding_tackle</th>\n",
       "    </tr>\n",
       "  </thead>\n",
       "  <tbody>\n",
       "    <tr>\n",
       "      <th>47</th>\n",
       "      <td>L. De Vanna</td>\n",
       "      <td>Lisa De Vanna</td>\n",
       "      <td>ST, RW, LW</td>\n",
       "      <td>81</td>\n",
       "      <td>30</td>\n",
       "      <td>156</td>\n",
       "      <td>58</td>\n",
       "      <td>Australia</td>\n",
       "      <td>RW</td>\n",
       "      <td>Left</td>\n",
       "      <td>...</td>\n",
       "      <td>75</td>\n",
       "      <td>90</td>\n",
       "      <td>21</td>\n",
       "      <td>86</td>\n",
       "      <td>65</td>\n",
       "      <td>67</td>\n",
       "      <td>NaN</td>\n",
       "      <td>45</td>\n",
       "      <td>36</td>\n",
       "      <td>38</td>\n",
       "    </tr>\n",
       "    <tr>\n",
       "      <th>293</th>\n",
       "      <td>L. De Vanna</td>\n",
       "      <td>Lisa De Vanna</td>\n",
       "      <td>ST, RM</td>\n",
       "      <td>82</td>\n",
       "      <td>31</td>\n",
       "      <td>156</td>\n",
       "      <td>58</td>\n",
       "      <td>Australia</td>\n",
       "      <td>RM</td>\n",
       "      <td>Left</td>\n",
       "      <td>...</td>\n",
       "      <td>75</td>\n",
       "      <td>90</td>\n",
       "      <td>21</td>\n",
       "      <td>86</td>\n",
       "      <td>65</td>\n",
       "      <td>67</td>\n",
       "      <td>77.0</td>\n",
       "      <td>45</td>\n",
       "      <td>36</td>\n",
       "      <td>38</td>\n",
       "    </tr>\n",
       "    <tr>\n",
       "      <th>587</th>\n",
       "      <td>L. De Vanna</td>\n",
       "      <td>Lisa De Vanna</td>\n",
       "      <td>ST, RM</td>\n",
       "      <td>82</td>\n",
       "      <td>32</td>\n",
       "      <td>156</td>\n",
       "      <td>53</td>\n",
       "      <td>Australia</td>\n",
       "      <td>LW</td>\n",
       "      <td>Left</td>\n",
       "      <td>...</td>\n",
       "      <td>75</td>\n",
       "      <td>90</td>\n",
       "      <td>21</td>\n",
       "      <td>86</td>\n",
       "      <td>65</td>\n",
       "      <td>67</td>\n",
       "      <td>77.0</td>\n",
       "      <td>45</td>\n",
       "      <td>36</td>\n",
       "      <td>38</td>\n",
       "    </tr>\n",
       "    <tr>\n",
       "      <th>904</th>\n",
       "      <td>L. De Vanna</td>\n",
       "      <td>Lisa De Vanna</td>\n",
       "      <td>ST, RM</td>\n",
       "      <td>81</td>\n",
       "      <td>33</td>\n",
       "      <td>156</td>\n",
       "      <td>53</td>\n",
       "      <td>Australia</td>\n",
       "      <td>LW</td>\n",
       "      <td>Left</td>\n",
       "      <td>...</td>\n",
       "      <td>74</td>\n",
       "      <td>90</td>\n",
       "      <td>21</td>\n",
       "      <td>86</td>\n",
       "      <td>65</td>\n",
       "      <td>67</td>\n",
       "      <td>77.0</td>\n",
       "      <td>25</td>\n",
       "      <td>36</td>\n",
       "      <td>38</td>\n",
       "    </tr>\n",
       "    <tr>\n",
       "      <th>1283</th>\n",
       "      <td>L. De Vanna</td>\n",
       "      <td>Lisa De Vanna</td>\n",
       "      <td>ST, LW</td>\n",
       "      <td>79</td>\n",
       "      <td>34</td>\n",
       "      <td>156</td>\n",
       "      <td>53</td>\n",
       "      <td>Australia</td>\n",
       "      <td>SUB</td>\n",
       "      <td>Left</td>\n",
       "      <td>...</td>\n",
       "      <td>74</td>\n",
       "      <td>92</td>\n",
       "      <td>23</td>\n",
       "      <td>85</td>\n",
       "      <td>60</td>\n",
       "      <td>69</td>\n",
       "      <td>79.0</td>\n",
       "      <td>27</td>\n",
       "      <td>38</td>\n",
       "      <td>40</td>\n",
       "    </tr>\n",
       "    <tr>\n",
       "      <th>1695</th>\n",
       "      <td>L. De Vanna</td>\n",
       "      <td>Lisa De Vanna</td>\n",
       "      <td>ST, LW</td>\n",
       "      <td>76</td>\n",
       "      <td>35</td>\n",
       "      <td>156</td>\n",
       "      <td>53</td>\n",
       "      <td>Australia</td>\n",
       "      <td>SUB</td>\n",
       "      <td>Left</td>\n",
       "      <td>...</td>\n",
       "      <td>74</td>\n",
       "      <td>92</td>\n",
       "      <td>23</td>\n",
       "      <td>85</td>\n",
       "      <td>59</td>\n",
       "      <td>67</td>\n",
       "      <td>79.0</td>\n",
       "      <td>27</td>\n",
       "      <td>36</td>\n",
       "      <td>38</td>\n",
       "    </tr>\n",
       "  </tbody>\n",
       "</table>\n",
       "<p>6 rows × 46 columns</p>\n",
       "</div>"
      ],
      "text/plain": [
       "       short_name      long_name player_positions  overall  age  height_cm  \\\n",
       "47    L. De Vanna  Lisa De Vanna       ST, RW, LW       81   30        156   \n",
       "293   L. De Vanna  Lisa De Vanna           ST, RM       82   31        156   \n",
       "587   L. De Vanna  Lisa De Vanna           ST, RM       82   32        156   \n",
       "904   L. De Vanna  Lisa De Vanna           ST, RM       81   33        156   \n",
       "1283  L. De Vanna  Lisa De Vanna           ST, LW       79   34        156   \n",
       "1695  L. De Vanna  Lisa De Vanna           ST, LW       76   35        156   \n",
       "\n",
       "      weight_kg nationality_name nation_position preferred_foot  ...  \\\n",
       "47           58        Australia              RW           Left  ...   \n",
       "293          58        Australia              RM           Left  ...   \n",
       "587          53        Australia              LW           Left  ...   \n",
       "904          53        Australia              LW           Left  ...   \n",
       "1283         53        Australia             SUB           Left  ...   \n",
       "1695         53        Australia             SUB           Left  ...   \n",
       "\n",
       "      power_long_shots  mentality_aggression  mentality_interceptions  \\\n",
       "47                  75                    90                       21   \n",
       "293                 75                    90                       21   \n",
       "587                 75                    90                       21   \n",
       "904                 74                    90                       21   \n",
       "1283                74                    92                       23   \n",
       "1695                74                    92                       23   \n",
       "\n",
       "      mentality_positioning  mentality_vision  mentality_penalties  \\\n",
       "47                       86                65                   67   \n",
       "293                      86                65                   67   \n",
       "587                      86                65                   67   \n",
       "904                      86                65                   67   \n",
       "1283                     85                60                   69   \n",
       "1695                     85                59                   67   \n",
       "\n",
       "      mentality_composure  defending_marking_awareness  \\\n",
       "47                    NaN                           45   \n",
       "293                  77.0                           45   \n",
       "587                  77.0                           45   \n",
       "904                  77.0                           25   \n",
       "1283                 79.0                           27   \n",
       "1695                 79.0                           27   \n",
       "\n",
       "      defending_standing_tackle  defending_sliding_tackle  \n",
       "47                           36                        38  \n",
       "293                          36                        38  \n",
       "587                          36                        38  \n",
       "904                          36                        38  \n",
       "1283                         38                        40  \n",
       "1695                         36                        38  \n",
       "\n",
       "[6 rows x 46 columns]"
      ]
     },
     "execution_count": 119,
     "metadata": {},
     "output_type": "execute_result"
    }
   ],
   "source": [
    "player_info"
   ]
  },
  {
   "cell_type": "code",
   "execution_count": 127,
   "id": "39db732d",
   "metadata": {},
   "outputs": [],
   "source": [
    "team_b = pd.DataFrame()\n",
    "names_b = WC_2015_d['Round16-3']['b_player']\n",
    "for name in names_b:\n",
    "    if name in rating16_22['long_name'].values:\n",
    "        player_info = rating16_22[rating16_22['long_name']==name]\n",
    "        team_b = pd.concat([team_b, player_info],ignore_index=True)\n",
    "        if set(names_b) == set(team_b['long_name'].unique()):\n",
    "            missing_b = 'None'\n",
    "        else:\n",
    "            missing_b = set(names_b) - set(team_b['long_name'].unique())\n",
    "\n"
   ]
  },
  {
   "cell_type": "code",
   "execution_count": 128,
   "id": "e6632e07",
   "metadata": {},
   "outputs": [
    {
     "data": {
      "text/plain": [
       "{'Alanna Kennedy',\n",
       " 'Caitlin Foord',\n",
       " 'Emily van Egmond',\n",
       " 'Laura Alleway',\n",
       " 'Lydia Williams',\n",
       " 'Sam Kerr',\n",
       " 'Steph Catley',\n",
       " 'Tameka Butt',\n",
       " '\\xa0\\xa0\\xa0Katrina Gorry',\n",
       " '\\xa0\\xa0\\xa0Kyah Simon'}"
      ]
     },
     "execution_count": 128,
     "metadata": {},
     "output_type": "execute_result"
    }
   ],
   "source": [
    "missing_b"
   ]
  },
  {
   "cell_type": "code",
   "execution_count": 126,
   "id": "6b1a3573",
   "metadata": {},
   "outputs": [
    {
     "data": {
      "text/plain": [
       "True"
      ]
     },
     "execution_count": 126,
     "metadata": {},
     "output_type": "execute_result"
    }
   ],
   "source": [
    "WC_2015_d['Round16-3']['b_player'][0] in rating16_22['long_name'].values"
   ]
  },
  {
   "cell_type": "code",
   "execution_count": 139,
   "id": "cd5d257c",
   "metadata": {},
   "outputs": [],
   "source": [
    "team_a = pd.DataFrame()\n",
    "names_a = WC_2015_d['Round16-3']['a_player']\n",
    "for name in names_a:\n",
    "    if name in rating16_22['short_name'].values:\n",
    "        player_info = rating16_22[rating16_22['short_name']==name]\n",
    "        team_a = pd.concat([team_a, player_info],ignore_index=True)\n",
    "        if set(names_a) == set(team_a['short_name'].unique()):\n",
    "            missing_a = 'None'\n",
    "        else:\n",
    "            missing_a = set(names_a) - set(team_a['short_name'].unique())\n"
   ]
  },
  {
   "cell_type": "code",
   "execution_count": 140,
   "id": "0943fe6b",
   "metadata": {},
   "outputs": [
    {
     "data": {
      "text/plain": [
       "{'Andressa',\n",
       " 'Fabiana da Silva Simões',\n",
       " 'Luciana Maria Dionizio',\n",
       " 'Monica Hickmann Alves',\n",
       " 'Rafaelle Souza',\n",
       " '\\xa0\\xa0\\xa0Beatriz',\n",
       " '\\xa0\\xa0\\xa0Raquel'}"
      ]
     },
     "execution_count": 140,
     "metadata": {},
     "output_type": "execute_result"
    }
   ],
   "source": [
    "missing_a"
   ]
  },
  {
   "cell_type": "code",
   "execution_count": null,
   "id": "d3727274",
   "metadata": {},
   "outputs": [],
   "source": []
  }
 ],
 "metadata": {
  "kernelspec": {
   "display_name": "Python 3 (ipykernel)",
   "language": "python",
   "name": "python3"
  },
  "language_info": {
   "codemirror_mode": {
    "name": "ipython",
    "version": 3
   },
   "file_extension": ".py",
   "mimetype": "text/x-python",
   "name": "python",
   "nbconvert_exporter": "python",
   "pygments_lexer": "ipython3",
   "version": "3.9.13"
  }
 },
 "nbformat": 4,
 "nbformat_minor": 5
}
