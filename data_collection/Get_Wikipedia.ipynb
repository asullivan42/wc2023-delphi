{
 "cells": [
  {
   "cell_type": "code",
   "execution_count": 1,
   "id": "b55d82ac-e261-4602-89d1-90e05cb2dc1c",
   "metadata": {},
   "outputs": [],
   "source": [
    "import numpy as np\n",
    "import pandas as pd\n",
    "from datetime import datetime"
   ]
  },
  {
   "cell_type": "code",
   "execution_count": 13,
   "id": "a184518a-6b16-440a-b730-ff346f28682a",
   "metadata": {},
   "outputs": [],
   "source": [
    "url='https://en.wikipedia.org/wiki/2023_FIFA_Women%27s_World_Cup'\n",
    "df=pd.read_html(url)"
   ]
  },
  {
   "cell_type": "code",
   "execution_count": 14,
   "id": "6e91f923-46a8-4a13-96f0-806eafb6cedb",
   "metadata": {},
   "outputs": [
    {
     "data": {
      "text/html": [
       "<div>\n",
       "<style scoped>\n",
       "    .dataframe tbody tr th:only-of-type {\n",
       "        vertical-align: middle;\n",
       "    }\n",
       "\n",
       "    .dataframe tbody tr th {\n",
       "        vertical-align: top;\n",
       "    }\n",
       "\n",
       "    .dataframe thead th {\n",
       "        text-align: right;\n",
       "    }\n",
       "</style>\n",
       "<table border=\"1\" class=\"dataframe\">\n",
       "  <thead>\n",
       "    <tr style=\"text-align: right;\">\n",
       "      <th></th>\n",
       "      <th>FIFA Wahine o te Ipu o te Ao – Ahitereiria/Aotearoa 2023</th>\n",
       "      <th>FIFA Wahine o te Ipu o te Ao – Ahitereiria/Aotearoa 2023.1</th>\n",
       "    </tr>\n",
       "  </thead>\n",
       "  <tbody>\n",
       "    <tr>\n",
       "      <th>0</th>\n",
       "      <td>NaN</td>\n",
       "      <td>NaN</td>\n",
       "    </tr>\n",
       "    <tr>\n",
       "      <th>1</th>\n",
       "      <td>Tournament details</td>\n",
       "      <td>Tournament details</td>\n",
       "    </tr>\n",
       "    <tr>\n",
       "      <th>2</th>\n",
       "      <td>Host countries</td>\n",
       "      <td>Australia New Zealand</td>\n",
       "    </tr>\n",
       "    <tr>\n",
       "      <th>3</th>\n",
       "      <td>Dates</td>\n",
       "      <td>20 July – 20 August</td>\n",
       "    </tr>\n",
       "    <tr>\n",
       "      <th>4</th>\n",
       "      <td>Teams</td>\n",
       "      <td>32 (from 6 confederations)</td>\n",
       "    </tr>\n",
       "    <tr>\n",
       "      <th>5</th>\n",
       "      <td>Venue(s)</td>\n",
       "      <td>10 (in 9 host cities)</td>\n",
       "    </tr>\n",
       "    <tr>\n",
       "      <th>6</th>\n",
       "      <td>← 2019 2027 →</td>\n",
       "      <td>← 2019 2027 →</td>\n",
       "    </tr>\n",
       "  </tbody>\n",
       "</table>\n",
       "</div>"
      ],
      "text/plain": [
       "  FIFA Wahine o te Ipu o te Ao – Ahitereiria/Aotearoa 2023  \\\n",
       "0                                                NaN         \n",
       "1                                 Tournament details         \n",
       "2                                     Host countries         \n",
       "3                                              Dates         \n",
       "4                                              Teams         \n",
       "5                                           Venue(s)         \n",
       "6                                      ← 2019 2027 →         \n",
       "\n",
       "  FIFA Wahine o te Ipu o te Ao – Ahitereiria/Aotearoa 2023.1  \n",
       "0                                                NaN          \n",
       "1                                 Tournament details          \n",
       "2                              Australia New Zealand          \n",
       "3                                20 July – 20 August          \n",
       "4                         32 (from 6 confederations)          \n",
       "5                              10 (in 9 host cities)          \n",
       "6                                      ← 2019 2027 →          "
      ]
     },
     "execution_count": 14,
     "metadata": {},
     "output_type": "execute_result"
    }
   ],
   "source": [
    "df[0]"
   ]
  },
  {
   "cell_type": "code",
   "execution_count": 15,
   "id": "953bf05f-7665-476a-8e1a-f64b8b4245a5",
   "metadata": {},
   "outputs": [
    {
     "data": {
      "text/html": [
       "<div>\n",
       "<style scoped>\n",
       "    .dataframe tbody tr th:only-of-type {\n",
       "        vertical-align: middle;\n",
       "    }\n",
       "\n",
       "    .dataframe tbody tr th {\n",
       "        vertical-align: top;\n",
       "    }\n",
       "\n",
       "    .dataframe thead tr th {\n",
       "        text-align: left;\n",
       "    }\n",
       "</style>\n",
       "<table border=\"1\" class=\"dataframe\">\n",
       "  <thead>\n",
       "    <tr>\n",
       "      <th></th>\n",
       "      <th>Bidding Nation(s)</th>\n",
       "      <th colspan=\"4\" halign=\"left\">Votes</th>\n",
       "    </tr>\n",
       "    <tr>\n",
       "      <th></th>\n",
       "      <th>Bidding Nation(s)</th>\n",
       "      <th>Round 1</th>\n",
       "      <th>Unnamed: 2_level_1</th>\n",
       "      <th>Unnamed: 3_level_1</th>\n",
       "      <th>Unnamed: 4_level_1</th>\n",
       "    </tr>\n",
       "  </thead>\n",
       "  <tbody>\n",
       "    <tr>\n",
       "      <th>0</th>\n",
       "      <td>Australia &amp; New Zealand</td>\n",
       "      <td>22</td>\n",
       "      <td>NaN</td>\n",
       "      <td>NaN</td>\n",
       "      <td>NaN</td>\n",
       "    </tr>\n",
       "    <tr>\n",
       "      <th>1</th>\n",
       "      <td>Colombia</td>\n",
       "      <td>13</td>\n",
       "      <td>NaN</td>\n",
       "      <td>NaN</td>\n",
       "      <td>NaN</td>\n",
       "    </tr>\n",
       "    <tr>\n",
       "      <th>2</th>\n",
       "      <td>Recused</td>\n",
       "      <td>2</td>\n",
       "      <td>NaN</td>\n",
       "      <td>NaN</td>\n",
       "      <td>NaN</td>\n",
       "    </tr>\n",
       "    <tr>\n",
       "      <th>3</th>\n",
       "      <td>Total votes</td>\n",
       "      <td>35</td>\n",
       "      <td>NaN</td>\n",
       "      <td>NaN</td>\n",
       "      <td>NaN</td>\n",
       "    </tr>\n",
       "  </tbody>\n",
       "</table>\n",
       "</div>"
      ],
      "text/plain": [
       "         Bidding Nation(s)   Votes                                        \\\n",
       "         Bidding Nation(s) Round 1 Unnamed: 2_level_1 Unnamed: 3_level_1   \n",
       "0  Australia & New Zealand      22                NaN                NaN   \n",
       "1                 Colombia      13                NaN                NaN   \n",
       "2                  Recused       2                NaN                NaN   \n",
       "3              Total votes      35                NaN                NaN   \n",
       "\n",
       "                      \n",
       "  Unnamed: 4_level_1  \n",
       "0                NaN  \n",
       "1                NaN  \n",
       "2                NaN  \n",
       "3                NaN  "
      ]
     },
     "execution_count": 15,
     "metadata": {},
     "output_type": "execute_result"
    }
   ],
   "source": [
    "df[1]"
   ]
  },
  {
   "cell_type": "code",
   "execution_count": 16,
   "id": "29c0ac91-5747-4d1f-bd56-2e83cc124125",
   "metadata": {},
   "outputs": [
    {
     "data": {
      "text/html": [
       "<div>\n",
       "<style scoped>\n",
       "    .dataframe tbody tr th:only-of-type {\n",
       "        vertical-align: middle;\n",
       "    }\n",
       "\n",
       "    .dataframe tbody tr th {\n",
       "        vertical-align: top;\n",
       "    }\n",
       "\n",
       "    .dataframe thead th {\n",
       "        text-align: right;\n",
       "    }\n",
       "</style>\n",
       "<table border=\"1\" class=\"dataframe\">\n",
       "  <thead>\n",
       "    <tr style=\"text-align: right;\">\n",
       "      <th></th>\n",
       "      <th>0</th>\n",
       "      <th>1</th>\n",
       "      <th>2</th>\n",
       "      <th>3</th>\n",
       "    </tr>\n",
       "  </thead>\n",
       "  <tbody>\n",
       "    <tr>\n",
       "      <th>0</th>\n",
       "      <td>AFC (6)  Australia (co-hosts)  China  Japan  P...</td>\n",
       "      <td>CONCACAF (6)  Canada  Costa Rica  Haiti (debut...</td>\n",
       "      <td>UEFA (12)  Denmark  England  France  Germany  ...</td>\n",
       "      <td>.mw-parser-output .legend{page-break-inside:av...</td>\n",
       "    </tr>\n",
       "  </tbody>\n",
       "</table>\n",
       "</div>"
      ],
      "text/plain": [
       "                                                   0  \\\n",
       "0  AFC (6)  Australia (co-hosts)  China  Japan  P...   \n",
       "\n",
       "                                                   1  \\\n",
       "0  CONCACAF (6)  Canada  Costa Rica  Haiti (debut...   \n",
       "\n",
       "                                                   2  \\\n",
       "0  UEFA (12)  Denmark  England  France  Germany  ...   \n",
       "\n",
       "                                                   3  \n",
       "0  .mw-parser-output .legend{page-break-inside:av...  "
      ]
     },
     "execution_count": 16,
     "metadata": {},
     "output_type": "execute_result"
    }
   ],
   "source": [
    "df[2]"
   ]
  },
  {
   "cell_type": "markdown",
   "id": "6c329b75-c02f-4bea-bfac-30fea667c2f0",
   "metadata": {},
   "source": [
    "This appears to contain the actual names of the countries participating."
   ]
  },
  {
   "cell_type": "code",
   "execution_count": null,
   "id": "067d0a9a-6d94-463e-869f-97cf7f779119",
   "metadata": {},
   "outputs": [],
   "source": []
  }
 ],
 "metadata": {
  "kernelspec": {
   "display_name": "Python 3 (ipykernel)",
   "language": "python",
   "name": "python3"
  },
  "language_info": {
   "codemirror_mode": {
    "name": "ipython",
    "version": 3
   },
   "file_extension": ".py",
   "mimetype": "text/x-python",
   "name": "python",
   "nbconvert_exporter": "python",
   "pygments_lexer": "ipython3",
   "version": "3.10.11"
  }
 },
 "nbformat": 4,
 "nbformat_minor": 5
}
