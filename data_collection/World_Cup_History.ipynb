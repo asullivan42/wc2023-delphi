{
 "cells": [
  {
   "cell_type": "code",
   "execution_count": 1,
   "id": "e7c83857",
   "metadata": {},
   "outputs": [],
   "source": [
    "from bs4 import BeautifulSoup\n",
    "import requests\n",
    "import json\n",
    "import time\n",
    "import pandas as pd\n",
    "import os"
   ]
  },
  {
   "cell_type": "code",
   "execution_count": 28,
   "id": "a0465f3b",
   "metadata": {},
   "outputs": [],
   "source": [
    "def get_league_table(event, url):\n",
    "    r = requests.get(url)\n",
    "    soup = BeautifulSoup(r.content, 'html.parser')\n",
    "    table = soup.find_all('div', class_ = 'table_wrapper')\n",
    "    table = pd.read_html(str(table[4]))[0]\n",
    "    table.to_csv('../Datasets/FBref/History/'+str(event)+'.csv')"
   ]
  },
  {
   "cell_type": "code",
   "execution_count": 43,
   "id": "7a5c965c",
   "metadata": {},
   "outputs": [],
   "source": [
    "years = list(range(1991, 2023, 4))"
   ]
  },
  {
   "cell_type": "code",
   "execution_count": 44,
   "id": "bcfbc08c",
   "metadata": {},
   "outputs": [
    {
     "data": {
      "text/plain": [
       "[1991, 1995, 1999, 2003, 2007, 2011, 2015, 2019]"
      ]
     },
     "execution_count": 44,
     "metadata": {},
     "output_type": "execute_result"
    }
   ],
   "source": [
    "years"
   ]
  },
  {
   "cell_type": "code",
   "execution_count": 48,
   "id": "6a1dda4c",
   "metadata": {},
   "outputs": [],
   "source": [
    "for i in years:\n",
    "    get_league_table(i,'https://fbref.com/en/comps/106/' + str(i)+'/'+str(i)+'-Womens-World-Cup-Stats')"
   ]
  },
  {
   "cell_type": "code",
   "execution_count": null,
   "id": "37925e83",
   "metadata": {},
   "outputs": [],
   "source": []
  }
 ],
 "metadata": {
  "kernelspec": {
   "display_name": "Python 3 (ipykernel)",
   "language": "python",
   "name": "python3"
  },
  "language_info": {
   "codemirror_mode": {
    "name": "ipython",
    "version": 3
   },
   "file_extension": ".py",
   "mimetype": "text/x-python",
   "name": "python",
   "nbconvert_exporter": "python",
   "pygments_lexer": "ipython3",
   "version": "3.9.13"
  }
 },
 "nbformat": 4,
 "nbformat_minor": 5
}
